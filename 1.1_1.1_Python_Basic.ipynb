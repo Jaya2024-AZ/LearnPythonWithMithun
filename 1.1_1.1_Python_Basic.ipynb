{
  "nbformat": 4,
  "nbformat_minor": 0,
  "metadata": {
    "colab": {
      "provenance": []
    },
    "kernelspec": {
      "name": "python3",
      "display_name": "Python 3"
    },
    "language_info": {
      "name": "python"
    }
  },
  "cells": [
    {
      "cell_type": "markdown",
      "source": [
        "**Language is a means of communication.**\n",
        "\n",
        "For example, in this learning program English is used as the language to communicate or to provide instructions to the learner.\n",
        "\n",
        "Similarly, computer programming languages can communicate and provide instructions to the computers.\n",
        "\n",
        "These programming languages can represent data (like numbers, text or images, etc.) and also provide a way to represent instructions which manipulate or work with that data.\n",
        "\n",
        "\n",
        "\n",
        "There are several programming languages. In our current course we will be learning a computer programming language called Python.\n",
        "\n",
        "**Python is an interpreted, high-level programming language for general-purpose programming.**"
      ],
      "metadata": {
        "id": "8cq2LI0BKdqm"
      }
    },
    {
      "cell_type": "code",
      "source": [
        "print(\"Hello World\")"
      ],
      "metadata": {
        "colab": {
          "base_uri": "https://localhost:8080/"
        },
        "id": "QFsRjiAvK2E2",
        "outputId": "9a3d2d22-d604-4354-d1c2-11c7d6bd95ea"
      },
      "execution_count": null,
      "outputs": [
        {
          "output_type": "stream",
          "name": "stdout",
          "text": [
            "Hello World\n"
          ]
        }
      ]
    },
    {
      "cell_type": "markdown",
      "source": [
        "The Python programming language was developed in the 1980's by Guido Van Rossum at Centrum Wiskunde & Informatica (CWI) in Netherlands as a successor to the ABC language (itself inspired by SETL) capable of exception handling and interfacing with the Amoeba operating system.\n",
        "\n",
        "Programming languages can be classified into the below three categories:\n",
        "\n",
        "**Low-level programming languages:** Here the communication with system is in the binary format , i.e, 0's and 1's, which can be directly executed. Meaning, these languages provide instructions which can be used to perform low-level operations like memory management etc. For example: Assembly Language.\n",
        "\n",
        "**High-level programming languages: **Here the communication with system is in the form of text (usually in English) which is easily readable/understandable by humans. For example: Ada, JavaScript, Python, Ruby etc.\n",
        "\n",
        "**Middle-level programming languages:** These are the languages which support both low-level and high-level features. These are also written in human readable text. They typically use tools like compilers to convert the human readable instructions (high-level language constructs) into low-level executable code (usually in binary format). Eg: C, C++, Java, etc,.\n"
      ],
      "metadata": {
        "id": "-fx5TNeZLM7t"
      }
    },
    {
      "cell_type": "markdown",
      "source": [
        "Python is an Interpreted, Interactive, Object Oriented Programming Language.\n",
        "\n",
        "**Python** provides Exception Handling, Dynamic Typing, Dynamic Data Types, Classes, many built-in functions and modules.\n",
        "\n",
        "We can also generate Byte Code for Python.\n",
        "\n",
        "**Python** is used to develop both Web Applications and Desktop Applications.\n",
        "\n",
        "**Python** is used in Artificial Intelligence, Scientific Computing and Data Analytics.\n",
        "\n",
        "**Python** standard libraries support XML, HTML, Email, IMAP etc..\n",
        "\n",
        "**Python** is used to control Firmware updates in Network Programming.\n",
        "\n",
        "**Python** is used for Computer Graphics, Cross Platform development, Documentation Development, Data Mining etc.."
      ],
      "metadata": {
        "id": "zbtG0qG9QWEi"
      }
    },
    {
      "cell_type": "markdown",
      "source": [
        "Python versions:\n",
        "\n",
        "Guido Van Rossum published the first version of Python code (Python 0.9.0) at alt.sources in February 1991. This release included exception handling, functions and the core data types.\n",
        "\n",
        "Python 1.0 released in January 1994. It included filters, map, reduce and lambda.\n",
        "\n",
        "Python 2.0 released in October 2000. Features include list comprehension and garbage collection with reference cycles.\n",
        "\n",
        "Python 3.0 released in December 2008. Removed duplicate constructs and modules. Not backward compatible.\n",
        "\n",
        "Do not panic. The features mentioned above will be discussed in detail in the later sections.\n",
        "\n",
        "Python can be used for creating computer applications, computer games or even for testing microchips."
      ],
      "metadata": {
        "id": "bFwLBarjLVi8"
      }
    },
    {
      "cell_type": "markdown",
      "source": [
        "The instructions (called as source code) written in Python programming language can be executed in two modes:\n",
        "Interactive mode: In this mode, lines of code is directly written and executed in the Python interpreter shell, which instantaneously provide the results.\n",
        "Normal or script mode: In this mode the source code is saved to a file with .py extension, and the file is executed by the Python interpreter.\n",
        "While learning Python in this course, we will be using the normal or script mode of execution by writing code in files with .py extension as this is how all large programs are written in Python.\n",
        "\n",
        "For example, calculator.py is called a Python source file.\n",
        "\n",
        "The Python program statements have to be entered and saved in a file through a text editor, and then the file has to be executed to produce results."
      ],
      "metadata": {
        "id": "-1_O7V7TL6jF"
      }
    },
    {
      "cell_type": "markdown",
      "source": [
        "A computer program is a collection of instructions or statements.\n",
        "\n",
        "A Python program is usually composed of multiple statements.\n",
        "Each statement is composed of one or a combination of the following:\n",
        "Comments\n",
        "Whitespace characters\n",
        "Tokens\n",
        "\n",
        "1.   Tokens\n",
        "1.   Comments\n",
        "2.   Whitespace characters\n",
        "\n",
        "\n",
        "In a computer program, a comment is used to mark a section of code as non-executable.\n",
        "\n",
        "**Comments** are mainly used for two purposes:\n",
        "To mark a section of source code as non-executable, so that the Python interpreter ignores it.\n",
        "To provide remarks or an explanation on the working of the given section of code in plain English, so that a fellow programmer can read the comments and understand the code.\n",
        "In Python, there are two types of comments:\n",
        "Single-line comment : It starts with # (also known as the hash or pound character) and the content following # till the end of that line is a comment.\n",
        "Docstring comment : Content enclosed between triple quotes, either ''' or \"\"\". (We will learn about it later)."
      ],
      "metadata": {
        "id": "F5O-gVeeMK3V"
      }
    },
    {
      "cell_type": "code",
      "execution_count": null,
      "metadata": {
        "id": "VyAWPlJsKdAU"
      },
      "outputs": [],
      "source": [
        "# this is a commented line\n",
        "riverName1 = \"Ganga\" # A comment can follow after a line of code.\n",
        "\t\t\t\t\t # Above one is called an inline-comment.\n",
        "\n",
        "\n",
        "# riverName2 = \"Amazon\"  # this line of code is commented\n",
        "\n",
        "riverName3 = \"Nile#Long\" # The # character which is part of a string \n",
        "\t\t\t\t\t\t # is part of the text and does not start a comment"
      ]
    },
    {
      "cell_type": "markdown",
      "source": [
        "Python provides a way to specify documentation comments, called docstrings. A docstring is a string literal (plain text usually in English) provided in the source code to document what a particular segment of code does.\n"
      ],
      "metadata": {
        "id": "q4XQxHkrMgmb"
      }
    },
    {
      "cell_type": "markdown",
      "source": [
        "A docstring is a string literal that occurs as the first non-comment statement in a module, function, class, or method definition. Such a docstring becomes the special __doc__ attribute of that object."
      ],
      "metadata": {
        "id": "Y9ecFFliMj67"
      }
    },
    {
      "cell_type": "code",
      "source": [
        "def add(a, b): \n",
        "\t\"\"\"Return the sum of given arguments.\"\"\"\n",
        "\treturn a + b\n",
        "print(add.__doc__)"
      ],
      "metadata": {
        "colab": {
          "base_uri": "https://localhost:8080/"
        },
        "id": "GgB9_dXVM0E9",
        "outputId": "66e4aed2-d8b2-4e6b-bd1b-c11585e95d36"
      },
      "execution_count": null,
      "outputs": [
        {
          "output_type": "stream",
          "name": "stdout",
          "text": [
            "Return the sum of given arguments.\n"
          ]
        }
      ]
    },
    {
      "cell_type": "code",
      "source": [
        "\n",
        "  def add(a, b): \n",
        "\t\"\"\"Return gcd of the given arguments.\n",
        "\n",
        "\ta -- blah blah blah\n",
        "\tb -- blah blah blah blah\n",
        "\t\"\"\"\n",
        "\treturn a + b\n",
        "print(add.__doc__)"
      ],
      "metadata": {
        "colab": {
          "base_uri": "https://localhost:8080/"
        },
        "id": "LIq0j40aNMA4",
        "outputId": "0fb1074d-8153-42eb-d9ac-8d4786d0e977"
      },
      "execution_count": null,
      "outputs": [
        {
          "output_type": "stream",
          "name": "stdout",
          "text": [
            "Return gcd of the given arguments.\n",
            "\n",
            "\ta -- blah blah blah\n",
            "\tb -- blah blah blah blah\n",
            "\t\n"
          ]
        }
      ]
    },
    {
      "cell_type": "markdown",
      "source": [
        "**An identifier** is a name used to identify a variable, function, class, module, or object."
      ],
      "metadata": {
        "id": "cbDY8VKWNzXW"
      }
    },
    {
      "cell_type": "markdown",
      "source": [
        "Below are the rules for writing identifiers in Python:\n",
        "\n",
        "Identifiers can be a combination of lowercase letters (a to z) or uppercase letters (A to Z) or digits (0 to 9) or an underscore ( _ ).\n",
        "myClass, var_1, print_this_to_screen, _number are valid Python identifiers.\n",
        "\n",
        "An identifier can start with an alphabet or an underscore (_), but not with a digit.\n",
        "1_variable is invalid, but variable_1 is perfectly fine.\n",
        "\n",
        "Keywords cannot be used as identifiers. (Keywords are reserved words in Python which have a special meaning). (Keywords in Python will be explained later.)\n",
        "Some of the keywords are def, and, not, for, while, if, else and so on.\n",
        "\n",
        "Special symbols like !, @, #, $, % etc. are not allowed in identifiers. Only one special symbol underscore (_) is allowed.\n",
        "company#name, $name, email@id are invalid Python identifiers.\n",
        "\n",
        "Identifiers can be of any length.\n"
      ],
      "metadata": {
        "id": "xoHPBBvON7IN"
      }
    },
    {
      "cell_type": "markdown",
      "source": [
        "These are reserved words with special meaning and purpose.They are used only for the intended purpose.\n",
        "Note : We cannot use a keyword as a variable name, function name or as any other identifier name.\n",
        "Python also has its own set of reserved words called **keywords.**"
      ],
      "metadata": {
        "id": "M6BGEtdiOJ2P"
      }
    },
    {
      "cell_type": "markdown",
      "source": [
        "An expression is a combination of values(Constants), variables and operators.\n",
        "\n",
        "An expression may also include call to functions and objects. We will learn about functions and objects in the later sections.\n",
        "\n",
        "Operators are symbols that represent particular actions. Operands participate in the action performed by the operator.\n",
        "\n",
        "Some of the arithmetic operators present in Python are :\n",
        "Operator \tMeaning \t\t\t\t\tExpression \t\tValue\n",
        "+\t\t\tArithmetic addition\t\t\t10+20\t\t\t30\t(addition of 10 and 20)\n",
        "-\t\t\tArithmetic subtraction\t\t40-20\t\t\t20\t(subtraction of 20 from 40)\n",
        "*\t\t\tArithmetic Multiplication\t5*4\t\t\t\t20\t(multiplication of 5 and 4)\n",
        "/\t\t\tArithmetic Division\t\t\t8/4\t\t\t\t2\t(quotient when 8 is divided by 4)\n",
        "%\t\t\tModulus (Remainder)\t\t\t5%3\t\t\t\t2\t(remainder when 5 is divided by 3) \n",
        "More operators will be discussed in the later sections.\n",
        "Any expression evaluates to a single value, which becomes the value of the expression.\n",
        "\n",
        "Instructions that a Python interpreter can execute are called statements. For example, a = 1 is an assignment statement.\n",
        "\n",
        "In the example given below a + b is an expression and the print() function prints the resultant value which is 20.\n"
      ],
      "metadata": {
        "id": "d2oxxPubgcSL"
      }
    },
    {
      "cell_type": "code",
      "source": [
        "a = 10 # This is an assignment statement\n",
        "b = 10 # This is an assignment statement\n",
        "print(a + b) # a + b is an expression and print(a + b) is a statement"
      ],
      "metadata": {
        "colab": {
          "base_uri": "https://localhost:8080/"
        },
        "id": "rote-efGga-g",
        "outputId": "dafcea28-ab31-40da-dcf5-96c5bbbe8458"
      },
      "execution_count": null,
      "outputs": [
        {
          "output_type": "stream",
          "name": "stdout",
          "text": [
            "20\n"
          ]
        }
      ]
    },
    {
      "cell_type": "code",
      "source": [
        "b = 10 # This is an assignment statement\n",
        "c = 10 # This is an assignment statement\n",
        "a = b * 5 + c # b * 5 + c is an expression, we are assigning this expression to the variable a then a = b * 5 + c is an assignment statement \n",
        "print(a)"
      ],
      "metadata": {
        "colab": {
          "base_uri": "https://localhost:8080/"
        },
        "id": "bELprjqLgmaz",
        "outputId": "01b6ba44-f2fc-4aa2-e834-c3e66ffc9257"
      },
      "execution_count": null,
      "outputs": [
        {
          "output_type": "stream",
          "name": "stdout",
          "text": [
            "60\n"
          ]
        }
      ]
    },
    {
      "cell_type": "markdown",
      "source": [
        "Numbers\n",
        "\n",
        "We have three different categories of numbers in Python. They are :\n",
        "\n",
        "int\n",
        "\n",
        "float\n",
        "\n",
        "\n",
        "complex\n",
        "\n",
        "**1.int** – int stands for integer. This Python data type stores signed integers. We can use the type() function to find which class it belongs to.\n",
        "\n",
        "\n"
      ],
      "metadata": {
        "id": "5SPOGN-uhbvc"
      }
    },
    {
      "cell_type": "code",
      "source": [
        "a = -7 \n",
        "print(type(a)) # will print output as follows <class 'int'>"
      ],
      "metadata": {
        "colab": {
          "base_uri": "https://localhost:8080/"
        },
        "id": "vH63OJFhLKnE",
        "outputId": "94f5fcda-0262-4571-bd42-e12d1c4b5c64"
      },
      "execution_count": null,
      "outputs": [
        {
          "output_type": "stream",
          "name": "stdout",
          "text": [
            "<class 'int'>\n"
          ]
        }
      ]
    },
    {
      "cell_type": "code",
      "source": [
        "a = 12536984596965565656236534754587821564 \n",
        "print(type(a)) # will print output as follows <class 'int'>"
      ],
      "metadata": {
        "colab": {
          "base_uri": "https://localhost:8080/"
        },
        "id": "A_DdPggBLSh8",
        "outputId": "05860223-c302-46a7-ea3f-63cbbba6db8b"
      },
      "execution_count": null,
      "outputs": [
        {
          "output_type": "stream",
          "name": "stdout",
          "text": [
            "<class 'int'>\n"
          ]
        }
      ]
    },
    {
      "cell_type": "markdown",
      "source": [
        "\n",
        "**2.float** – float stands for floating-point numbers. This Python data type stores floating-point real values. An int can only store the number 20, but float can store numbers with decimal fractions like 20.25 if you want.\n",
        "\n",
        "\n"
      ],
      "metadata": {
        "id": "6fChW_1TKzd9"
      }
    },
    {
      "cell_type": "code",
      "source": [
        "a = 3.0 \n",
        "print(type(a)) # will print output as follows\n"
      ],
      "metadata": {
        "colab": {
          "base_uri": "https://localhost:8080/"
        },
        "id": "Rnw0FJGgLl_2",
        "outputId": "49308cdc-fea4-4e7e-eda0-5b503d531fbf"
      },
      "execution_count": null,
      "outputs": [
        {
          "output_type": "stream",
          "name": "stdout",
          "text": [
            "<class 'float'>\n"
          ]
        }
      ]
    },
    {
      "cell_type": "markdown",
      "source": [
        "**3.complex** – complex stands for complex numbers. This Python data type stores a complex number. A complex number is a combination of a real number and an imaginary number. It takes the form of a + bj Here, a is the real part and b*j is the imaginary part.\n",
        "\n",
        "\n"
      ],
      "metadata": {
        "id": "GkAET_2RLrCN"
      }
    },
    {
      "cell_type": "code",
      "source": [
        "a = 2 + 3j # It is important to note that there should not be any space between 3 and j\n",
        "print(type(a)) # will print output as follows"
      ],
      "metadata": {
        "id": "5_dwIL-hL0fb",
        "outputId": "918bef29-60b9-4946-ab36-98d1f821f769",
        "colab": {
          "base_uri": "https://localhost:8080/"
        }
      },
      "execution_count": null,
      "outputs": [
        {
          "output_type": "stream",
          "name": "stdout",
          "text": [
            "<class 'complex'>\n"
          ]
        }
      ]
    },
    {
      "cell_type": "markdown",
      "source": [],
      "metadata": {
        "id": "VVI37EPxLJvr"
      }
    }
  ]
}
