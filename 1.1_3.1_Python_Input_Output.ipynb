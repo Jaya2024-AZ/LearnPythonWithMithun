{
  "nbformat": 4,
  "nbformat_minor": 0,
  "metadata": {
    "colab": {
      "provenance": []
    },
    "kernelspec": {
      "name": "python3",
      "display_name": "Python 3"
    },
    "language_info": {
      "name": "python"
    }
  },
  "cells": [
    {
      "cell_type": "markdown",
      "source": [
        "In Python, to read input from the user, we have an in-built function called input().\n",
        "\n",
        "The syntax for input() function is :\n",
        "**input([prompt])**\n",
        "\n",
        "\n",
        "Here, the optional prompt string will be printed to the console for the user to input a value. The prompt string is used to indicate the type of value to be entered by the user.\n",
        "\n",
        "Reading string inputs\n",
        "\n",
        "Let us consider the below example:\n"
      ],
      "metadata": {
        "id": "dKSmGPStOZ5n"
      }
    },
    {
      "cell_type": "code",
      "source": [
        "name = input(\"Enter your Name: \")\n",
        "print(\"User Name:\", name)"
      ],
      "metadata": {
        "colab": {
          "base_uri": "https://localhost:8080/"
        },
        "id": "ZSeNpdeMOh-9",
        "outputId": "d71c9215-1ddb-4cbc-c51a-bf1faea93a7a"
      },
      "execution_count": null,
      "outputs": [
        {
          "output_type": "stream",
          "name": "stdout",
          "text": [
            "Enter your Name: Mithun Kumar S R\n",
            "User Name: Mithun Kumar S R\n"
          ]
        }
      ]
    },
    {
      "cell_type": "code",
      "execution_count": null,
      "metadata": {
        "colab": {
          "base_uri": "https://localhost:8080/"
        },
        "id": "dp9aqIJ_OC_Q",
        "outputId": "88341b52-7fe2-4e0d-e4ab-e7b896cbfc6d"
      },
      "outputs": [
        {
          "name": "stdout",
          "output_type": "stream",
          "text": [
            "Enter an integer :10\n"
          ]
        }
      ],
      "source": [
        "a= int(input(\"Enter an integer :\"))"
      ]
    },
    {
      "cell_type": "markdown",
      "source": [
        "We can pass zero or more number of expressions separated by commas(,) to **print() function**.\n",
        "\n",
        "The print() function converts those expressions into strings and writes the result to standard output which then displays the result on screen.\n",
        "\n",
        "Let us consider an example of print() with multiple values with comma(,) as separator."
      ],
      "metadata": {
        "id": "xHLuMMiCO8QG"
      }
    },
    {
      "cell_type": "code",
      "source": [
        "print(\"Hi\", \"Hello\", \"Python\") # will print output as follows"
      ],
      "metadata": {
        "colab": {
          "base_uri": "https://localhost:8080/"
        },
        "id": "i_PykeTlPBFX",
        "outputId": "bd081322-d194-4aa8-c3f9-d1888845842d"
      },
      "execution_count": null,
      "outputs": [
        {
          "output_type": "stream",
          "name": "stdout",
          "text": [
            "Hi Hello Python\n"
          ]
        }
      ]
    },
    {
      "cell_type": "code",
      "source": [
        "a = 10\n",
        "b = 50\n",
        "print(\"A value is\", a, \"and\", \"B value is\", b) # will print output as follows"
      ],
      "metadata": {
        "colab": {
          "base_uri": "https://localhost:8080/"
        },
        "id": "PTRYfyr6PFGf",
        "outputId": "f3cc7307-eff2-4b50-b3cd-cdef40007637"
      },
      "execution_count": null,
      "outputs": [
        {
          "output_type": "stream",
          "name": "stdout",
          "text": [
            "A value is 10 and B value is 50\n"
          ]
        }
      ]
    },
    {
      "cell_type": "markdown",
      "source": [
        "The **print()** function is used to print the values to the standard output.\n",
        "\n",
        "The general syntax of the function is,\n",
        "print(value1, ..., sep = ' ', end = '\\n', file = sys.stdout, flush = False)\n",
        "\n",
        "where,\n",
        "\n",
        "value1... valuen These are the actual data values to printed.\n",
        "sep This is the separator used between each value. The default used is the space.\n",
        "\n",
        "end This is the character which gets printed after all values have been printed.\n",
        "\n",
        "The newline character, '\\n' is the default.\n",
        "file This argument specifies where the output needs to be printed. The screen is the standard output by default"
      ],
      "metadata": {
        "id": "s-HSYalHPmB7"
      }
    },
    {
      "cell_type": "markdown",
      "source": [
        "1. Python uses C-style string formatting to create new, formatted strings.\n",
        "\n",
        "The \"%\" operator is used to format a set of variables enclosed in a \"tuple\" (a fixed size list)\n",
        "\n",
        "The format string, which contains normal text together with \"argument specifiers\", special symbols like \"%s\" and \"%d\".\n",
        "%s - String (or any object with a string representation, like numbers)\n",
        "\n",
        "%d - Integers\n",
        "\n",
        "%f - Floating point numbers\n",
        "\n",
        "%.f - Floating point numbers with a fixed amount of digits for the decimal part.\n",
        "\n",
        "%x/%X - Integers in hex representation (lowercase/uppercase)\n",
        "\n",
        "%o - octal representation\n",
        "\n",
        "**%[flags][width][.precision]type**\n",
        "\n"
      ],
      "metadata": {
        "id": "LuMOSqHRPxQJ"
      }
    },
    {
      "cell_type": "code",
      "source": [
        "a = 10\n",
        "b = 20\n",
        "str = \"Hello\"\n",
        "print(\"The value of a = %d, b = %d and str = %s\" %(a, b, str))\n"
      ],
      "metadata": {
        "colab": {
          "base_uri": "https://localhost:8080/"
        },
        "id": "ZT8tDzmoP-V3",
        "outputId": "f4139753-0562-438a-e457-a1904962bbd9"
      },
      "execution_count": null,
      "outputs": [
        {
          "output_type": "stream",
          "name": "stdout",
          "text": [
            "The value of a = 10, b = 20 and str = Hello\n"
          ]
        }
      ]
    },
    {
      "cell_type": "code",
      "source": [
        "print(\"The value of a = {}, b = {} and str = {}\".format(a, b, str))"
      ],
      "metadata": {
        "colab": {
          "base_uri": "https://localhost:8080/"
        },
        "id": "KlA8saqDQEBh",
        "outputId": "9702bca4-648f-4af7-b912-b33ea157b60d"
      },
      "execution_count": null,
      "outputs": [
        {
          "output_type": "stream",
          "name": "stdout",
          "text": [
            "The value of a = 10, b = 20 and str = Hello\n"
          ]
        }
      ]
    },
    {
      "cell_type": "code",
      "source": [
        "print(\"The value of a = {0}, b = {1} and str = {2}\".format(a, b, str))"
      ],
      "metadata": {
        "id": "VJsNdaH5QHcQ",
        "outputId": "8a5f3600-82e7-4b7e-de8d-e260cf1b4b39",
        "colab": {
          "base_uri": "https://localhost:8080/"
        }
      },
      "execution_count": null,
      "outputs": [
        {
          "output_type": "stream",
          "name": "stdout",
          "text": [
            "The value of a = 10, b = 20 and str = Hello\n"
          ]
        }
      ]
    }
  ]
}
