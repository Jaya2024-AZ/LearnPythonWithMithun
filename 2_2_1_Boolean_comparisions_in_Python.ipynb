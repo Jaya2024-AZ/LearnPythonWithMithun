{
  "cells": [
    {
      "cell_type": "markdown",
      "id": "6ae6ba53",
      "metadata": {
        "id": "6ae6ba53"
      },
      "source": [
        "# Boolean, Comparisions in Python\n",
        "In this notebook, we will explore various aspects of flow control in Python, including Boolean values, comparison and Boolean operators, bitwise operators, and flow control statements. You'll work through the examples provided and complete the exercises to solidify your understanding."
      ]
    },
    {
      "cell_type": "markdown",
      "id": "5b6671ba",
      "metadata": {
        "id": "5b6671ba"
      },
      "source": [
        "## 1. Boolean Values and Comparison Operators\n",
        "Boolean values represent `True` or `False`. Comparison operators are used to compare two values.\n",
        "### Example: Comparison Operators\n",
        "Run the following code to see how comparison operators work."
      ]
    },
    {
      "cell_type": "code",
      "execution_count": 1,
      "id": "0f010a5c",
      "metadata": {
        "colab": {
          "base_uri": "https://localhost:8080/"
        },
        "id": "0f010a5c",
        "outputId": "a3ffd6fd-2f81-410b-eb2e-a5c640baffe9"
      },
      "outputs": [
        {
          "output_type": "stream",
          "name": "stdout",
          "text": [
            "False\n",
            "True\n",
            "False\n"
          ]
        }
      ],
      "source": [
        "a = 5\n",
        "b = 10\n",
        "print(a == b)  # False, because 5 is not equal to 10\n",
        "print(a < b)   # True, because 5 is less than 10\n",
        "print(a > b)   # False, because 5 is not greater than 10"
      ]
    },
    {
      "cell_type": "markdown",
      "id": "4e799c93",
      "metadata": {
        "id": "4e799c93"
      },
      "source": [
        "### Exercise 1: Comparison Practice\n",
        "Modify the code below to compare different values and observe the results.\n",
        "```python\n",
        "x = 15\n",
        "y = 20\n",
        "# Write your comparison here\n",
        "```"
      ]
    },
    {
      "cell_type": "markdown",
      "id": "15c7c9ee",
      "metadata": {
        "id": "15c7c9ee"
      },
      "source": [
        "## 2. Boolean Operators\n",
        "Boolean operators (`and`, `or`, `not`) are used to combine or modify Boolean values.\n",
        "### Example: Boolean Operators\n",
        "Run the following code to see how Boolean operators work."
      ]
    },
    {
      "cell_type": "code",
      "execution_count": null,
      "id": "44bf28b0",
      "metadata": {
        "id": "44bf28b0"
      },
      "outputs": [],
      "source": [
        "x = True\n",
        "y = False\n",
        "print(x and y)  # False, because both x and y are not True\n",
        "print(x or y)   # True, because at least one of x or y is True\n",
        "print(not x)    # False, because x is True and not inverts it"
      ]
    },
    {
      "cell_type": "markdown",
      "id": "2a96ab4b",
      "metadata": {
        "id": "2a96ab4b"
      },
      "source": [
        "### Exercise 2: Boolean Logic Practice\n",
        "Change the values of `x` and `y` to see how the Boolean operators work with different combinations.\n",
        "```python\n",
        "a = True\n",
        "b = False\n",
        "# Try different Boolean operations here\n",
        "```"
      ]
    },
    {
      "cell_type": "markdown",
      "id": "b5991da5",
      "metadata": {
        "id": "b5991da5"
      },
      "source": [
        "## 3. Bitwise Operators\n",
        "Bitwise operators work on binary numbers and perform bit-by-bit operations.\n",
        "### Example: Bitwise Operators\n",
        "Run the following code to see how bitwise operators work."
      ]
    },
    {
      "cell_type": "code",
      "source": [
        "#Python bin() function returns the binary string of a given integer. bin() function is used to convert integer to binary string.\n",
        "bin(23)"
      ],
      "metadata": {
        "colab": {
          "base_uri": "https://localhost:8080/",
          "height": 35
        },
        "id": "FswVk-vObe_Z",
        "outputId": "83741113-f17c-450d-d463-031d9233bf08"
      },
      "id": "FswVk-vObe_Z",
      "execution_count": 3,
      "outputs": [
        {
          "output_type": "execute_result",
          "data": {
            "text/plain": [
              "'0b10111'"
            ],
            "application/vnd.google.colaboratory.intrinsic+json": {
              "type": "string"
            }
          },
          "metadata": {},
          "execution_count": 3
        }
      ]
    },
    {
      "cell_type": "code",
      "execution_count": 4,
      "id": "48991b01",
      "metadata": {
        "colab": {
          "base_uri": "https://localhost:8080/"
        },
        "id": "48991b01",
        "outputId": "422a6c97-df55-4e1b-980e-16c8b26da2a2"
      },
      "outputs": [
        {
          "output_type": "stream",
          "name": "stdout",
          "text": [
            "0b1000\n",
            "0b1110\n",
            "0b110\n",
            "-0b1101\n"
          ]
        }
      ],
      "source": [
        "a = 0b1100  # 12 in binary\n",
        "b = 0b1010  # 10 in binary\n",
        "print(bin(a & b))  # AND operation: 0b1000 (8 in binary)\n",
        "print(bin(a | b))  # OR operation:  0b1110 (14 in binary)\n",
        "print(bin(a ^ b))  # XOR operation: 0b0110 (6 in binary)\n",
        "print(bin(~a))     # NOT operation: -0b1101 (-13 in binary)"
      ]
    },
    {
      "cell_type": "markdown",
      "id": "f48d9afb",
      "metadata": {
        "id": "f48d9afb"
      },
      "source": [
        "### Exercise 3: Bitwise Operations Practice\n",
        "Try using different binary numbers with the bitwise operators to see how they work.\n",
        "```python\n",
        "x = 0b1011\n",
        "y = 0b0110\n",
        "# Perform some bitwise operations here\n",
        "```"
      ]
    },
    {
      "cell_type": "markdown",
      "id": "5caa63ff",
      "metadata": {
        "id": "5caa63ff"
      },
      "source": [
        "## 4. Logical, Membership, and Identity Operators\n",
        "### Logical Operators\n",
        "Logical operators include `and`, `or`, and `not`, which are used to combine Boolean expressions.\n",
        "### Membership Operators\n",
        "Membership operators include `in` and `not in`, which are used to check for membership in a sequence (like a list).\n",
        "### Identity Operators\n",
        "Identity operators include `is` and `is not`, which are used to compare the memory location of two objects.\n",
        "### Example: Logical, Membership, and Identity Operators\n",
        "Run the following code to see how these operators work."
      ]
    },
    {
      "cell_type": "code",
      "execution_count": null,
      "id": "51590f6e",
      "metadata": {
        "id": "51590f6e"
      },
      "outputs": [],
      "source": [
        "fruits = ['apple', 'banana', 'cherry']\n",
        "print('banana' in fruits)  # True, because 'banana' is in the list\n",
        "print('grape' not in fruits)  # True, because 'grape' is not in the list\n",
        "\n",
        "x = [1, 2, 3]\n",
        "y = x\n",
        "z = [1, 2, 3]\n",
        "print(x is y)  # True, because x and y are the same object\n",
        "print(x is z)  # False, because x and z are different objects"
      ]
    },
    {
      "cell_type": "markdown",
      "id": "624502cf",
      "metadata": {
        "id": "624502cf"
      },
      "source": [
        "### Exercise 4: Exploring Other Operators\n",
        "Experiment with the logical, membership, and identity operators to see how they behave in different situations.\n",
        "```python\n",
        "a = [10, 20, 30]\n",
        "b = [10, 20, 30]\n",
        "# Try some logical, membership, and identity operations here\n",
        "```"
      ]
    }
  ],
  "metadata": {
    "colab": {
      "provenance": []
    },
    "language_info": {
      "name": "python"
    },
    "kernelspec": {
      "name": "python3",
      "display_name": "Python 3"
    }
  },
  "nbformat": 4,
  "nbformat_minor": 5
}