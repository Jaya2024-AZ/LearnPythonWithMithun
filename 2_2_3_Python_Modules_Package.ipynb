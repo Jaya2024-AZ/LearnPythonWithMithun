{
  "nbformat": 4,
  "nbformat_minor": 0,
  "metadata": {
    "colab": {
      "provenance": []
    },
    "kernelspec": {
      "name": "python3",
      "display_name": "Python 3"
    },
    "language_info": {
      "name": "python"
    }
  },
  "cells": [
    {
      "cell_type": "markdown",
      "source": [
        "# Module"
      ],
      "metadata": {
        "id": "xNiGPHRPRo8T"
      }
    },
    {
      "cell_type": "markdown",
      "source": [
        "A **module** is a file containing Python definitions and statements. The file name is the module name with the suffix .py appended.\n",
        "\n",
        "\n",
        "Within a module, the module’s name (as a string) is available as the value of the global variable **__name__.** Before modules came into place, in early times, all the programming languages had huge lines of code that increased in leaps and bounds.\n",
        "\n",
        "\n",
        "**It had a lot of disadvantages:**\n",
        "\n",
        "It was very difficult maintain such huge code.\n",
        "And there was lot of redundant code.\n",
        "\n",
        "Same code was written by different set of programmers that were used on their own files.\n",
        "To overcome these disadvantages, modules came into place.\n",
        "\n",
        "A module contains a set of classes, functions, variables that got together to get a specific set of tasks done.\n",
        "\n",
        "A module could be reused by other modules.\n",
        "Modules reduced the lines of code that need to be written and thus maintainability improved and redundancy was avoided.\n",
        "\n",
        "In Python, **a module is a python file (.py) that has a set of classes, functions, variable, constants all doing some related tasks. **"
      ],
      "metadata": {
        "id": "p-3s121GQzjw"
      }
    },
    {
      "cell_type": "code",
      "execution_count": null,
      "metadata": {
        "colab": {
          "base_uri": "https://localhost:8080/"
        },
        "id": "FtDK0_7eQrVF",
        "outputId": "d39e6a06-4074-4637-c9be-496aa1daffe0"
      },
      "outputs": [
        {
          "output_type": "stream",
          "name": "stdout",
          "text": [
            "Writing module1.py\n"
          ]
        }
      ],
      "source": [
        "%%writefile module1.py\n",
        "\n",
        "courses=['C', 'C++', 'JAVA', 'PYTHON']\n",
        "\n",
        "def  artmeticoperation(num1, num2):\n",
        "    print(\"Addition is  :\", num1+num2)\n",
        "    print(\"Subtraction is  :\", num1-num2)\n",
        "    print(\"Multiplication  is  :\", num1*num2)\n",
        "    print(\"Division  is  :\", num1/num2)\n",
        "\n",
        "def  compareoperation(num1, num2):\n",
        "    print(num1, \"Greated than  :\",num2,  num1>num2)\n",
        "    print(num1, \"Less than  :\",num2,  num1<num2)\n",
        "    print(num1, \"Equal to   is  :\",num2,  num1==num2)\n",
        "    print(num1, \"Not equal to   is  :\",num2,  num1!=num2)\n",
        "\n"
      ]
    },
    {
      "cell_type": "markdown",
      "source": [
        "A **module** consists of a set of classes, functions, variables and constants that do a specific related tasks. But we have not reused the code of a module into some other module.\n",
        "\n",
        "\n",
        "A module can be used by an other module by using the import statement.\n",
        "\n",
        "\n",
        "The syntax for importing a module is as below.\n",
        "\n",
        "\n",
        "We need to use the modulename that we want to import, if the module is in the same package,.\n",
        "\n",
        "\n",
        "`import modulename  # We dont need to use the file extension.py`\n",
        "\n",
        "We use the packagename before the modulename, if the module is in a different package .\n",
        "\n",
        "\n",
        "`import packagename.modulename `\n",
        "\n",
        "All the functions, variables, classes and constants in the module will be imported and the developer can use it by using the modulename.functionname()"
      ],
      "metadata": {
        "id": "gHbcF5giU15R"
      }
    },
    {
      "cell_type": "code",
      "source": [
        "import module1\n",
        "a = int(input(\"Please enter value for a \"))\n",
        "b = int(input(\"Please enter value for b \"))\n",
        "module1.artmeticoperation(a,b)\n",
        "module1.compareoperation(a, b)\n",
        "print(\"Length of courses :\" , module1.courses.__len__())"
      ],
      "metadata": {
        "id": "Ta6O3T0sVSPj"
      },
      "execution_count": null,
      "outputs": []
    },
    {
      "cell_type": "markdown",
      "source": [
        "We have seen import statement that imports a module.\n",
        "\n",
        "Any number of import statements that can be used in your module.\n",
        "\n",
        "But having a function/variable called by using the huge modulenames becomes difficult to use in programs with many lines of code.\n",
        "\n",
        "So, **Python provides us a simple way of doing that using the as keyword.**\n",
        "\n",
        "The syntax for this is:\n",
        "import modulename as mn and use it as below inside the module.\n",
        "\n",
        "`mn.fn()`"
      ],
      "metadata": {
        "id": "KGoVQldUWaBa"
      }
    },
    {
      "cell_type": "code",
      "source": [
        "import module1 as m\n",
        "a = int(input(\"Please enter value for a \"))\n",
        "b = int(input(\"Please enter value for b \"))\n",
        "m.artmeticoperation(a,b)\n",
        "m.compareoperation(a, b)\n",
        "print(\"Length of courses :\" , m.courses.__len__())"
      ],
      "metadata": {
        "id": "_jSR3BgQWWGF"
      },
      "execution_count": null,
      "outputs": []
    },
    {
      "cell_type": "markdown",
      "source": [
        "Write a program that imports and uses the as keyword following the steps below.\n",
        "\n",
        "\n",
        "import the module Module_Imp1\n",
        "\n",
        "Use Module_Imp1 as mi1\n",
        "\n",
        " import the module Module_Imp2\n",
        "\n",
        "Use Module_Imp2 as mi2\n",
        "\n",
        "Take two user inputs and store in a and b variables\n",
        "Call the function mi1.checkNegativeNumber() by passing a\n",
        "\n",
        "Call the function mi1.checkNegativeNumber() by passing\n",
        "\n",
        "Call the function mi2.arithoperations() by passing a and b"
      ],
      "metadata": {
        "id": "HR0gQPM8Wu3q"
      }
    },
    {
      "cell_type": "markdown",
      "source": [
        "**Using the from keyword along with import **"
      ],
      "metadata": {
        "id": "W6oFhcR5W_Q3"
      }
    },
    {
      "cell_type": "markdown",
      "source": [
        "There will be a lot of functions in a module when you are trying to upload it.\n",
        "\n",
        "So importing everything is not efficient.\n",
        "\n",
        "**Python provides a from keyword that can be used with import that allows us to import a single/multiple function/variable/class etc.**\n",
        "\n",
        "\n",
        "The syntax for the same is:\n",
        "\n",
        "`from modulename import functionname`\n",
        "\n",
        "`functionname `"
      ],
      "metadata": {
        "id": "2Qebk1veXGkt"
      }
    },
    {
      "cell_type": "code",
      "source": [
        "from  module1 import artmeticoperation\n",
        "a = int(input(\"Please enter value for a \"))\n",
        "b = int(input(\"Please enter value for b \"))\n",
        "artmeticoperation(a,b)\n",
        "#compareoperation(a, b)\n",
        "#print(\"Length of courses :\" , m.courses.__len__())"
      ],
      "metadata": {
        "id": "wHMidQoEXhaE"
      },
      "execution_count": null,
      "outputs": []
    },
    {
      "cell_type": "code",
      "source": [
        "from  module1 import artmeticoperation as ar\n",
        "a = int(input(\"Please enter value for a \"))\n",
        "b = int(input(\"Please enter value for b \"))\n",
        "ar(a,b)20\n",
        "#compareoperation(a, b)\n",
        "#print(\"Length of courses :\" , m.courses.__len__())"
      ],
      "metadata": {
        "id": "ZgVDAowjYUMV"
      },
      "execution_count": null,
      "outputs": []
    },
    {
      "cell_type": "markdown",
      "source": [
        "To import all the functions, constants, variables of a module use the symbol **asterisk** *.\n",
        "\n",
        "It is pretty much same as using an import modulename but need not include the modulename when calling a function.\n",
        "\n",
        "\n",
        "The syntax is as below\n",
        "\n",
        "\n",
        "`from modulename import` *\n",
        "\n",
        "And use all the functions with just the names"
      ],
      "metadata": {
        "id": "Wjq7nxrYYlRG"
      }
    },
    {
      "cell_type": "code",
      "source": [
        "from  module1 import *\n",
        "a = int(input(\"Please enter value for a \"))\n",
        "b = int(input(\"Please enter value for b \"))\n",
        "artmeticoperation(a,b)\n",
        "compareoperation(a, b)\n",
        "print(\"Length of courses :\" , courses.__len__())"
      ],
      "metadata": {
        "id": "GI9ejoGUY2G2"
      },
      "execution_count": null,
      "outputs": []
    },
    {
      "cell_type": "markdown",
      "source": [
        "## 6. Importing Modules and Ending a Program\n",
        "### Importing Modules\n",
        "In Python, you can import various modules to use their functions and classes in your program. For example:\n",
        "```python\n",
        "import math\n",
        "print(math.sqrt(16))  # Outputs: 4.0\n",
        "```\n",
        "### Ending a Program Early with `sys.exit()`\n",
        "You can exit a program before it naturally completes using `sys.exit()`.\n",
        "```python\n",
        "import sys\n",
        "sys.exit('Exiting the program.')\n",
        "```\n",
        "The above code will terminate the program and print the message 'Exiting the program.'"
      ],
      "metadata": {
        "id": "MAJpx9N0lS7U"
      }
    },
    {
      "cell_type": "markdown",
      "source": [
        "### Exercise 6: Importing Modules and Exiting\n",
        "Try importing a module of your choice and using one of its functions. Also, practice using `sys.exit()` to terminate a program.\n",
        "```python\n",
        "import random\n",
        "print(random.randint(1, 10))  # Generate a random number between 1 and 10\n",
        "\n",
        "import sys\n",
        "# Write your sys.exit() code here\n",
        "```"
      ],
      "metadata": {
        "id": "G1w5rssMlYGd"
      }
    },
    {
      "cell_type": "markdown",
      "source": [
        "# Packages overview\n"
      ],
      "metadata": {
        "id": "b2hw1HKIZSsz"
      }
    },
    {
      "cell_type": "markdown",
      "source": [
        "Packages are also known as directories\n",
        "\n",
        "\n",
        "A package in Python can contain many other packages and modules.\n",
        "\n",
        "\n",
        "Rules that are to be implemented when creating a package:\n",
        "\n",
        "\n",
        "Each package should have a file called\n",
        "\n",
        "`__init__.py`\n",
        "\n",
        "The __init__.py can be empty but should exist that makes the regular directory a Python package. If the file __init__.py is present in a package, it specifies the package and its modules can be imported.\n",
        "\n",
        "\n",
        "For example:\n",
        "\n",
        "\n",
        "A directory called package pack1 with a __init__.py file which makes it a Python package.\n",
        "\n",
        "\n",
        "Added Python modules Mod1.py, Mod2.py which defines a few functions inside these modules.\n",
        "\n",
        "\n",
        "This pack1(that includes mod1 and mod2) is ready to be imported to any other modules and used."
      ],
      "metadata": {
        "id": "B0vf7wChZfMH"
      }
    },
    {
      "cell_type": "code",
      "source": [
        "%mkdir Robots -p"
      ],
      "metadata": {
        "id": "k_TQFv_beU4p"
      },
      "execution_count": null,
      "outputs": []
    },
    {
      "cell_type": "code",
      "source": [
        "%%writefile Robots/car.py\n",
        "\n",
        "def checkcar():\n",
        "    print(\" I am robot who check car\")\n",
        "def cleancar():\n",
        "    print(\"I am robot who clean car\")"
      ],
      "metadata": {
        "id": "D3Eawq1IeY7O"
      },
      "execution_count": null,
      "outputs": []
    },
    {
      "cell_type": "code",
      "source": [
        "%%writefile Robots/house.py\n",
        "\n",
        "def checkhouse():\n",
        "    print(\" I am robot who check House\")\n",
        "def cleanhouse():\n",
        "    print(\"I am robot who clean House\")"
      ],
      "metadata": {
        "id": "Ww_2Z2KDfDpp"
      },
      "execution_count": null,
      "outputs": []
    },
    {
      "cell_type": "code",
      "source": [
        "import Robots.car\n",
        "Robots.car.checkcar()\n",
        "Robots.car.cleancar()\n",
        "\n",
        "\n"
      ],
      "metadata": {
        "id": "flcPSUCUfTBA"
      },
      "execution_count": null,
      "outputs": []
    },
    {
      "cell_type": "code",
      "source": [
        "import Robots.house\n",
        "Robots.house.checkhouse()\n",
        "Robots.house.cleanhouse()\n"
      ],
      "metadata": {
        "id": "ulYWRIIxgXRH"
      },
      "execution_count": null,
      "outputs": []
    },
    {
      "cell_type": "markdown",
      "source": [
        "**To import using the import keyword and using the dot operator.**\n",
        "\n",
        "`import Robots.Car`\n",
        "\n",
        "Call the function inside Car.\n",
        "\n",
        "\n",
        "`Robots.Car.cleancar()`\n",
        "\n",
        "Import using the from keyword .\n",
        "\n",
        "\n",
        "The syntax is as below:\n",
        "\n",
        "`from packagename import modulename `\n",
        "\n",
        "Now functions can be called directly on module names.\n",
        "\n",
        "\n",
        "`modulename.functionaname()`"
      ],
      "metadata": {
        "id": "Srqcpf1KiAE_"
      }
    },
    {
      "cell_type": "code",
      "source": [
        "from Robots import car\n",
        "car.checkcar()\n",
        "car.cleancar()"
      ],
      "metadata": {
        "id": "8dCv2J2zia6H"
      },
      "execution_count": null,
      "outputs": []
    },
    {
      "cell_type": "code",
      "source": [
        "from  Robots import house\n",
        "house.checkhouse()\n",
        "house.cleanhouse()"
      ],
      "metadata": {
        "id": "6YWYZPGAilRG"
      },
      "execution_count": null,
      "outputs": []
    },
    {
      "cell_type": "markdown",
      "source": [
        "# namespace"
      ],
      "metadata": {
        "id": "sEaJHduEjWCf"
      }
    },
    {
      "cell_type": "markdown",
      "source": [
        "To understand namespaces, be thorough with modules in Python.\n",
        "\n",
        "\n",
        "A module is simply a file containing related Python code.\n",
        "\n",
        "\n",
        "This code can be in the form of classes, functions or just a list of names.\n",
        "\n",
        "\n",
        "Each module gets it’s own global namespaces. So, two modules in the same namespace cannot have the same names for its global variables.\n",
        "\n",
        "\n",
        "The namespaces are isolated which means the names in one module can be used in another module.\n",
        "\n",
        "\n",
        "To access a name that occurs in module the modulename is prefixed to differentiate it with the name in the other module.\n",
        "\n",
        "\n",
        "The builtin functions that can be used in any module are called **__builtin__** and have their own namespace.\n",
        "\n",
        "When a code imports lot of modules, prefixing would resolve the ambiguity of names that occur in multiple modules.\n",
        "\n",
        "If we use the regular import all we would require to do is prefix the modulename before the function/variable name.\n",
        "\n",
        "But, If we use the from keyword and import a specific set of functions , we do not prefix the functionname\n",
        "\n",
        "In the above case, if a function/variable exists with the same name as imported function/variable.\n",
        "\n",
        "\n",
        "The user cannot access the imported module function/variable as the same variable takes precedence over the imported variable."
      ],
      "metadata": {
        "id": "5FNl0miNjK6I"
      }
    },
    {
      "cell_type": "markdown",
      "source": [
        "So a **namespace in Python means, a place that holds a bunch of names.**\n",
        "\n",
        "\n",
        "In Python, everything is an object.\n",
        "\n",
        "\n",
        "A namespace holds these names and each name is mapped to an object.(We can assume it to be a big list of names with each name mapped to the object.)\n",
        "\n",
        "\n",
        "A namespace can be thought as a dictionary object type.\n",
        "\n",
        "\n",
        "This namespace holds names of the current module but also the imported modules.\n"
      ],
      "metadata": {
        "id": "G297dwdcjluo"
      }
    },
    {
      "cell_type": "markdown",
      "source": [
        "A **scope** refers to the specific area of a program where the variables /names of that namespace do not need a prefix.\n",
        "\n",
        "\n",
        "Scopes provide isolation within a module. Generally, scope is the current function/module in which the name is located.\n",
        "\n",
        "\n",
        "Global namespaces:\n",
        "\n",
        "\n",
        "All modules have a global namespace on their own.\n",
        "\n",
        "All the built-ins have a scope on their own.\n",
        "\n",
        "When a function is nested inside an another function, one function cannot access the names inside an other function.\n",
        "\n",
        "If a certain name is declared inside the a global namespace of a module, the name can be reused inside a function. And other functions will still be able to use the same name from the global namespace, but the name inside the function can use the global name by prefixing the name with the 'global' keyword."
      ],
      "metadata": {
        "id": "la2NVbBMjuix"
      }
    },
    {
      "cell_type": "markdown",
      "source": [
        "**Types of scopes:.**"
      ],
      "metadata": {
        "id": "_Z1kC5L6j95A"
      }
    },
    {
      "cell_type": "markdown",
      "source": [
        "![image.png](data:image/png;base64,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)"
      ],
      "metadata": {
        "id": "2d11i4THkB2x"
      }
    },
    {
      "cell_type": "markdown",
      "source": [
        "**Local scope**, is the list of all the names available in the current executing function.\n",
        "\n",
        "\n",
        "Module level scope **bold text** is a list of all the global names of the current module.\n",
        "\n",
        "\n",
        "**Local scope of enclosing functions.**The search for a name starts from the current function scope and moves upwards to the calling function and so on .\n",
        "\n",
        "\n",
        "**The outermost scope** is a list of all the built-in names. This scope is searched if no scope is found.\n",
        "\n",
        "\n",
        "**Working of scope resolving:**\n",
        "\n",
        "\n",
        "We have a statement print(str1) in some function.\n",
        "\n",
        "\n",
        "Now the search for \"str1\" name starts from the current function and then moves to the calling function and higher until it finds a namespace that maps the name to an object.\n",
        "\n",
        "\n",
        "When no such name is found in any namespaces, the program raises a NameError exception.\n"
      ],
      "metadata": {
        "id": "dhwzzZAvkEyb"
      }
    },
    {
      "cell_type": "code",
      "source": [
        "name = 'Ram'\n",
        "greeting = 'Good Morning'\n",
        "print(dir())\n",
        "def fun1():\n",
        "\tname = 'Lakshman'\n",
        "\tgreeting = 'Good Afternoon'\n",
        "\tprint(dir())\n",
        "def fun2():\n",
        "\tgreeting = 'Good Evening'\n",
        "\tprint(dir())\n",
        "fun1()\n",
        "fun2()\n",
        "print(name)"
      ],
      "metadata": {
        "colab": {
          "base_uri": "https://localhost:8080/"
        },
        "id": "Vx2N0Kflkc4k",
        "outputId": "f381ff93-d12a-42f1-dacf-2fa6b313c3e9"
      },
      "execution_count": null,
      "outputs": [
        {
          "output_type": "stream",
          "name": "stdout",
          "text": [
            "['In', 'Out', 'Robots', '_', '__', '___', '__builtin__', '__builtins__', '__doc__', '__loader__', '__name__', '__package__', '__spec__', '_dh', '_exit_code', '_i', '_i1', '_i10', '_i11', '_i12', '_i13', '_i2', '_i3', '_i4', '_i5', '_i6', '_i7', '_i8', '_i9', '_ih', '_ii', '_iii', '_oh', 'a', 'artmeticoperation', 'b', 'car', 'compareoperation', 'courses', 'exit', 'get_ipython', 'greeting', 'house', 'module1', 'name', 'quit']\n",
            "['greeting', 'name']\n",
            "['greeting']\n",
            "Ram\n"
          ]
        }
      ]
    },
    {
      "cell_type": "markdown",
      "source": [
        "\n",
        "# PIP - An overview\n"
      ],
      "metadata": {
        "id": "T3q2AxGKgLMM"
      }
    },
    {
      "cell_type": "markdown",
      "source": [
        "**PIP -** is a package management system that helps in installing Python packages and managing them. Many packages exist in the default source.\n",
        "\n",
        "As per Wikipedia, pip is a recursive acronym that can stands for either **\"Pip Installs Packages\"** or \"Pip Installs Python\".\n",
        "\n",
        "In case, you do not have PIP, install pip, by securely downloading get-pip.py. And follow the instructions at Python.org.\n",
        "\n",
        "Features of PIP\n",
        "\n",
        "Pip stands for \"Preferred Installer Program\".\n",
        "\n",
        "Pip is already installed for versions above Python 2.7.9 or Python 3 and above .\n",
        "\n",
        "\n",
        "---\n",
        "\n",
        "\n",
        "PIP can be installed through the system package manager or by invoking cURL, a client-side data transfer tool.\n",
        "\n",
        "\n",
        "---\n",
        "\n",
        "\n",
        "PIP is used because it is easy to use it through the command-line interface.\n",
        "\n",
        "\n",
        "---\n",
        "\n",
        "\n",
        "Using PIP, installing python packages is just a single command.\n",
        "\n",
        "\n",
        "---\n",
        "\n",
        "\n",
        "Users not only install a package but also uninstall it very easily .\n",
        "\n",
        "\n",
        "---\n",
        "\n",
        "\n",
        "PIP also manages the list of packages along with its version numbers."
      ],
      "metadata": {
        "id": "yRqoH3-AlUNR"
      }
    },
    {
      "cell_type": "markdown",
      "source": [
        "**pip is the preferred installer program.** Starting with Python 3.4, it is included by default with the Python binary installers.\n",
        "\n",
        "A virtual environment is a semi-isolated Python environment that allows packages to be installed for use by a particular application, rather than being installed system wide.\n",
        "\n",
        "**venv** is the standard tool for creating virtual environments, and has been part of Python since Python 3.3. Starting with Python 3.4, it defaults to installing pip into all created virtual environments.\n",
        "\n",
        "The following command will install the latest version of a module and its dependencies from the Python Packaging Index:\n",
        "`python -m pip install SomePackage  `\n",
        "\n",
        "For example:\n",
        "`python -m pip install cv2 # this will install`\n",
        "\n",
        "OpenCv version 2\n",
        "\n",
        "Basic commands of PIP on CLI tool:\n",
        "\n",
        "To install requirements(Requirements files) are files containing a list of items to be installed using pip install. More on this can be found by clicking PIP\n",
        "\n",
        "\n",
        "`pip install -r requirements.txt`\n",
        "\n",
        "To install a package for a specific Python version\n",
        "\n",
        "\n",
        "`pip$ {version} install some-package-name`\n",
        "\n",
        "It’s also possible to specify an exact or minimum version directly on the command line.\n",
        "While using comparator operators such as >, < or some other special character which get interpreted by shell, the package name and the version should be enclosed within double quotes:\n",
        "\n",
        "\n",
        "`python -m pip install SomePackage==1.0.4    # specific version`\n",
        "\n",
        "`python -m pip install \"SomePackage>=1.0.4\"  # `\n",
        "\n",
        "minimum versionNormally, if a suitable module is already installed, attempting to install it again will have no effect. Upgrading existing modules must be requested explicitly:\n",
        "\n",
        "`python -m pip install --upgrade SomePackage`\n",
        "\n",
        "For more details Please refer to the link: Install Python Module"
      ],
      "metadata": {
        "id": "cCYBycOal8s6"
      }
    }
  ]
}