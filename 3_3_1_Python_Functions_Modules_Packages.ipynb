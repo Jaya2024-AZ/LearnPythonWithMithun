{
  "nbformat": 4,
  "nbformat_minor": 0,
  "metadata": {
    "colab": {
      "provenance": []
    },
    "kernelspec": {
      "name": "python3",
      "display_name": "Python 3"
    },
    "language_info": {
      "name": "python"
    }
  },
  "cells": [
    {
      "cell_type": "markdown",
      "source": [
        "# **Python Functions, Modules, and Packages**\n",
        "Welcome to the Python programming session. In this notebook, you'll learn about Python functions, modules, and packages. Let's get started!\n"
      ],
      "metadata": {
        "id": "ULaHSO0IW-Mr"
      }
    },
    {
      "cell_type": "markdown",
      "source": [
        "A program is written to solve a simple/complex problem.\n",
        "\n",
        "Generally, a program solving simple problem is very easy to understand and also to identify mistakes, if any, in them.\n",
        "\n",
        "The steps involved in the programs that solve large complex problems are huge and have thousands of lines of code and become difficult to understand.\n",
        "\n",
        "So, large programs are subdivided into a number of smaller programs called subprograms.\n",
        "\n",
        "Some times, we need to write a particular block of code that needs to be executed more than once in our program.\n",
        "\n",
        "An error in one such block may introduce many errors in the program.This block of code can be grouped as a subprogram.\n",
        "\n",
        "Such subprograms specify one or more actions to be performed for the larger program. These subprograms are called **functions.**"
      ],
      "metadata": {
        "id": "phFKeE4rf5Fr"
      }
    },
    {
      "cell_type": "markdown",
      "source": [
        "## **1. Introduction to Functions**\n",
        "A function is a block of code that performs a specific task. Functions help make your code more organized and reusable.\n"
      ],
      "metadata": {
        "id": "PKF01_J3XGMI"
      }
    },
    {
      "cell_type": "code",
      "source": [
        "# Example: Simple Function\n",
        "\n",
        "def greet(name):\n",
        "    \"\"\"This function greets the person passed as a parameter.\"\"\"\n",
        "    print(f\"Hello, {name}!\")\n",
        "\n",
        "# Calling the function\n",
        "greet(\"Mithun\")\n"
      ],
      "metadata": {
        "colab": {
          "base_uri": "https://localhost:8080/"
        },
        "id": "QR4lMEV2XHL2",
        "outputId": "9496adad-8ace-45e9-8e25-62d60fa57b53"
      },
      "execution_count": null,
      "outputs": [
        {
          "output_type": "stream",
          "name": "stdout",
          "text": [
            "Hello, Mithun!\n"
          ]
        }
      ]
    },
    {
      "cell_type": "markdown",
      "source": [
        "**Syntax of a function:**\n",
        "\n",
        "`def function_name(parameters):`\n",
        "\n",
        "\t\"\"\"A Comment on what this functions does\"\"\"\n",
        "\tstatement(s)\n",
        "\n",
        "\n",
        "\n",
        "\n",
        "The keyword def always occurs as the start of function header.\n",
        "\n",
        "The function_name comes next to the def keyword. It follows the same rules as any identifiers of Python and is unique.\n",
        "\n",
        "The parameters/arguments that are passed to the function are optional.\n",
        "\n",
        "A colon (:) starts the function block.\n",
        "\n",
        "A good practice is to have a few lines of what the function does, as a comment in the start of the function block.\n",
        "\n",
        "This is called the DocString\n",
        "There can be one or more valid Python statements in the function body .\n",
        "\n",
        "Statements must have same indentation level.\n",
        "\n",
        "A return statement which is optional can be used to return a value from the function."
      ],
      "metadata": {
        "id": "eHyjwLFRgCjS"
      }
    },
    {
      "cell_type": "markdown",
      "source": [
        "![image.png](data:image/png;base64,iVBORw0KGgoAAAANSUhEUgAAA+gAAAHFCAIAAADubERyAAAgAElEQVR4nOzdT0wb1/43/tOfrsSVYhHfBcELUJx4VheJTNiBkGoWNF4VI3GjLpovRsoi6hMJ+9ukYhEJW+oCtemDkaIqi0gMlyyqlEc21bMgZeGphGAHEyTu5mcH94GFCdKDw28qlVV+i09ycjr/PAb/Ycz7papymPHMmb/+zJnPOeeTd+/eMQAAAAAAON/+n2YXAAAAAAAAKkPgDgAAAADgAQjcAQAAAAA8AIE7AAAAAIAHIHAHAAAAAPAABO4AAAAAAB6AwB0AAAAAwAMQuAMAAAAAeAACdwAAAAAAD0DgDgAAAADgAQjcAQAAAAA8AIE7AAAAAIAHIHAHAAAAAPAABO4AAAAAAB6AwB0AAAAAwAMQuAMAAAAAeAACdwAAAAAAD0DgDgAAAADgAQjcAQAAAAA8AIE7AAAAAIAHIHAHAAAAAPAABO4AAAAAAB6AwB0AAAAAwAMQuAMAAAAAeAACdwAAAAAAD0DgDgAAAADgAQjcAQAAAAA8AIE7AAAAAIAHIHAHAAAAAPAABO4AAAAAAB6AwB0AAAAAwAMQuAMAAAAAeAACdwAAAAAAD0DgDowxlkgkhoaGml2Ki46OgqZpzS4IAAAAnEd/a3YBak/TtEQiIcvy7Oys3TyKoiwsLDjPc6FomqaqarNL4YqbB4xcLteAktRcOp1mjC0vL8uy3OyyALhFt1PLSeFweGRkBOczAECttGCNe7lcVlXVodqSIvtyuTw9Pd3IgkFNqKrqlWcMM+cHpNnZ2Wg0Oj4+3sgiAZzR77//rqpqsVgU/0j34WQyefPmTbxHYow5/yoBALjUgjXuzjRNGxoaCgaDuVzO7/c3uzhwSh6tU08kEqqqvnv3znJqPB6Px+MNLhJATcRiMXNViKZpc3NziqIMDQ1tbW0Fg8GmlO08GBoaCofDHr1xAcD50YI17g4oameMIWoHAKg3WZbn5+dnZ2fL5fLExESziwMA4HkXqMbdTdReLBZVVf39998ZYzdu3IhGo+LUdDr99u1bhwSbYrG4sLBw9erV33///dNPPw2Hw3bzjI+PW1Y+aZq2vLxsmEovnV+9esUYu3r1ajgctvyuoii///47FY82hDEWi8XEeVwuqjXww2HYCVwqlTJMpa/wY6eq6m+//cYYu3z5cjgcdk7Vdd63qVSKls8/E/F0Eo9gVQvnqMB0/pzlWIt7htJ73r59yxizO6sNBaDPzpeAeSebC1ntJojHKxqNtvC57S3xeHxubk5V1XK5LN57xePrcIlZntXiZSLet6u6Q9JXzCdqVee8868Gne38M7/2Le9L4nrt2gZU3BsA0OLetRx6FxkOh8U/bm1t+f1+v9+/tbVl+a2joyNzloLf75+dneXz0H02l8vZrZpm2N3d9fv90WjUYZ5YLGY5NRqN+v1+51LR14+OjgzfpV+Xo6Mj/ntg2AnJZNL8xBKPx4+Ojui7dtt1rrg/by3PBMOiDFPpK8lkMpfLmX/7w+GwebcTy30bjUb5/G4uQMujUNU5kEwm6RSdnZ21PNZu9hvfM7u7u+aQJRgMmi8iKqR5jZSTZpjZeSfzQlpuQjKZtCyw3fHa3d11uclwanTW2R0aQucwPxl2d3cNAa7DIeNntXiV0aRcLmcZ3dJtzbAcfoc0X1D8rLY852VZtvzhcPOrYZcbY7jz2F1r5svHYW8AwEXQghe8OVxzE7XT3T8Wi/F5MpkM/ZFHEru7u4wxu4j86OiIT+URvHk2utWK0blhCXx1vFThcDiTydDvUC6Xo4X7/X7D8um+T6F/PB7P5XLi9tK3gsHg/Pw8fXFra4tu/eFwGIG7+BUKKWi37+7uHh0dZTIZ2kWyLBsW4nyYZFkWAwjn/WyeWu05QD/qVP5YLJbL5Y6OjnZ3d+fn5ymudRm7U8mDwSCdMHQiOayXwpdYLMYLubu7S4Uxz8yPi7hdYiGTySQtMBqNilPp2jEHiPPz8/zcrrh2qDk3gTsPN+mfsizz2xT9ZWtri85b8yVmOKszmQx9i26YwWBwdnbW4b7N8VPO7/cnk0nzWc1/KfgCc7kcrdfv9xueBFz+anAO9yK+3mQySafr0dERP+EzmYybvQEAF4Q3YrWqGMK1ilH7uw9B7fz8vHkS3R/5nZH+aRkKiL9MW1tbjDGx3oVQhGG3OuqbkpeTB0PmddFyDD8D9LNkuaU0vyGIJLR/PFRt04DA3W6309E3HDjnwyRWur+rPnCv9hygk9Dy7Do6OqKw2E0gSwuxPGHoLDUU6ejoyDJ6sJzZYScfHR3xs9E8ld5lGUIoepy2O7edTwCoCTeBO107/Na0tbVleR5aXmIOZzU9mhr+aHeqO9wh+Sosp9JlaNhA978axOFUDAaDluulDTGc8A57AwAuAm/EalURwzUelZprcbiK9ehi3gst3DKQoqpr/k+qrTTMQ3m3NLN5jbIs83JSqcxL4OhnQ6yMoZ8ly59P54iNQkBvBe45e3zOUwfu5to1QoGgeOAqHiaDqgL3U5wD9KNut8kURpufJ834TracStFzxYXwRVW1kylIsttqc7oa/cXusZx2iMNDO5xdxcDd/WXC06jMy6/qAcxQwU8c7pBUeW8XDVP5xQJU9atB7DaBbr92VyXtEHHqKfYGALSSVu5VhlqjlsvlYDCoaZpdnwbZbJYxZtd5Nt1/aR7GGGWVZLPZcrkszqYoSrlcFhcyOTlZLBbFjnuLxWI2m+U57tlsVuz5WNM0TdP4EmiNk5OTdltHcy4vLxv+PjIyYviLpmnFYtGhrZ5d283zbMje2RdO6Ubmv9NLcPHQVzxMZ3Hqc8DuZKbyU9O3ioLBoF2bPFmWDee/M8uu6+128qeffso+JNKY3bhxgzHG278yxrLZLD3xWs5vt4ugYYrF4ujoKGPM/Wh3lieM+c5WkXiecJZXh9/v5zlp5qlU7S2WqqpfDWd0ctrdhKmhrZv7PABcEC3bq0y5XB4dHS2Xy5SuMDQ0pChKMBg0t76nOGZ5eZk6NzCj8FpVVbqnj4+Pq6o6NzcnLiqVSgWDQfHmG41GE4kEjc9KfxHv9ZOTk+l0OpvN8rZN1PMAXwKVyqEbEyqMYdATy69QjOXcI0o4HPbWqEZ17Q7ZfW8kFQ/TWZz6HKhJbyqnWIiiKK9evXI5yozd8imat5tqeXqXy2Wxox4zVVXR7Ua9Wd5ANE2j+148Hje0Ri2Xy3TCiCewwwOh3YVA3bZomiZ+13xRcKc+8cQNrPZXwwEVe25uzmEe877FYLQAF1bLBu4UPczPz/N369euXUsmk3adA1K1tN3SqD0TfY7FYqlUSlEUHgrQqIGG+qRgMBiNRhVF4X+fm5vj/ZQFg0FZlufm5njgrihKLBZD7/IuVfw5hEbSNG10dLRYLFKjwwavnTrFs5tasR9PqAm7IY2j0ejk5KThglUUhYavPuOFnEgk0uk0ry9vMPe/GhU5nMCUdVl14QCgRbVs4M6EqJ0x5vf7c7nc0NBQIpGwfLE+Ozvr/idkcnIykUhQqM0YS6VSfr/f/DwwMjKSzWaz2Ww0GqXgXqz2m5ycnJiYoCoZyr0xv/10qH+iJxP3PwzOuQ0Yi/ssqsobqeHCqz0H6ieRSBSLxVwuZ76IPvnkk3qvXZZlDEjZdLFYzJA6YhdPl8vlRCJBzTENIamqqu6z3VRVTafT0WiUd8DCpVIp3oizfqr61XCGExgAXGrZHPdwOGyIpGVZzmQy5XJ5aGhIrCahcJmPkeEGVY3Ty00afcOyspz+SEteWFgwBPeU48unUg29oVQOubk0iRKCnVHFj0PCJQ2MUnE5nkO/qXab5jID1VnFw1TXhbs/B+qNnj+b8hqEPxU3ftUgokYRIrtacEpricViZ6xIphT2ycnJxj+7nuJXw3lRiqKcfVEAcBG0bOBuKRwOz8/P8/R3+qMsy+FwWFEUu1pn80tMCsFplDtKrrVrQcgboVK9u2Eh1IDJciovlV3mKL0gdtmuNBaLiYP2iaj2y81CvEiWZWr1a57knFTqfvkOh8kuecDlY1Jtz4H6cdicBjScoEvP7hw2pD7DeeBwRCybk55iOfU+8U7xq8FsCkz1O6lUynJquVzG61AAEF2swJ0xFovF4vG4oZMZGqNxaGgonU6LM1N/CKOjo+ZbJ4ULlOzuUHVE744nJibK5bI5uB8fH6enCGYV+lOpRkdHDaWit8nU7tZlVdP09LQsy8lkkvJKxQ2k9w+tmkNJe3ViYkI8grTPa/Vz6HCYRkdH6UjxP1IdpPjM4BxW1vAcqB+/3x8MBlVVNexSSnyvd/Ho3Vo2mzW8SWOMKYpC2XF1LQBUi64C6olL/LuiKIbz3Bl1MWR+Ajdc73VS7a8GVSLwgJ5vO433VCwWb968aQj36TKnn496bgoAeEqz+6OsvYq9d7/70Pez2B07z7bkI4ny97x2g03ymk7ngetoOXYdydNK7aaaS8X/ae5v2LmPcD7OH/vQqSX9kzJNW3LkVMIPE1WSiYOwmM8Ty26kDWs3n1ruDxMNIcQLQ/lRfKrlUajqHLDsvtr91jlvpkM5+YAJ0Wg0mUwmk0maJx6Pm2d2LsbppvJG3vwo805C0Il7vbkZgMmAOi+n90U0UC41a3YYVszyrOYDQsfj8WQySXUoNJaquUjVDn9WcWpVvxqZTEa8/VK8Lu4QfsY6X+bO1zgAtLwWbJxK91DnTgYoYYbS08MfhrLf3d1VFGV5eZk6mKMRuScnJx1q0xVFqZjaOzk5ubCwYJdLMz097TBVluWtra1sNstLFQwGJycnLVPqnTeZQlXDBs7OztKiPNTtRrWJ1PPz8+Pj4wsLC8VikbY6mUxSXqz5PKE/Xr161WHt5n1lPnnsDhPFkalUigojy7J46C2PQlXnwNWrVx36sqi4dc6b6VBOKuTc3Bx1/0d18NRW1Vzh7VyM002dnZ2dnJykAtBRDofDIyMjTc8jugjorHNzXnEUYdNVqWkaHS+62Ypd6IrLtzyr5+fnP/300+XlZX7c6dIoFovmIjnf5U4xtapfjWg0msvl5ubmisUi5UmK6ZGxWIx6IaOGKw6XufM1DgAt75N3H6owoVrpdDqRSGQyGUN6OgAAAABAzSFwP6VyuXzz5k3GGI19DQAAAABQVxeuceqpUe8r1EiIPpsHXQIAAAAAqBPUuLtFI3pQOjjvh5iaUgEAAAAA1BsC9yqoqkqtqYLB4MjICFLbAQAAAKBhELgDAAAAAHgActwBAAAAADwAgTsAAAAAgAcgcAcAAAAA8AAE7gAAAAAAHoDAHQAAAADAAxC4AwAAAAB4AAJ3AAAAAAAPQOAOAAAAAOABCNwBAAAAADwAgXtDKYpSLpebXQpoQel0utlFAPAeVVU1TWt2KQAA3Prk3bt3zS7DBXLt2rXJycl4PN7sgkBL0TTt5s2bu7u7wWCw2WUB8JLR0VG/3z8/P9/sggAAuIIa98ZRVbVYLM7NzTW7INBq6KRaWFhodkEAvKRYLGaz2Ww2ixehAOAVCNwbh6KrYrGoqmqzywKto1wuZ7NZhmwZgCrRs265XFYUpdllAQBwBYF7g1DVDn1OpVLNLQy0krm5OaovRPwB4F65XObPungRCgBegcC9QcRgnXJmmlgYaCVisI5nQgCXxAyZYrGIh14A8AQE7o1g/lVAgAU1oSiK+BCI+APAJcNNGPdkAPAE9CrTCBMTE+ZwCn2AwNldu3bN8PYmGAzu7u42qzwAnqAoysTEhOGPmUwmGo02pTwAAC6hxr3u7CpBUcEDZ2SobieodAeoyPL2m0gkGl8SAICqIHCvO7sAXVEUdC8Dp1Yul+3iDDwTAjhIpVKWrYzw0AsA5x8C9/rSNM3hlwABFpwa70zGrFgsomtIAEtiZzJmqVQKfboDwHmGwL2+nN+9qqrK+4gEcK9iaI74A8BSIpFwuDQwRh4AnHNonFpH6XS6YtKk3+/f3d31+/2NKRK0hqGhoYp5VtFoNJPJNKY8AJ6gqurQ0FDF2dBzAACcW6hxr5dyuewmE8blbABcNpt10zrC5WwAF4fL5qfmDmcAAM4JBO71Mjo6Kr6Q9fv91NFYMBg09DiWTqeRMAMuFYtFQ1Qhy3I4HGaMhcNhQzWh4SQEuMgSiYSmafyffr8/FovRZ/6BqKqKViIAcD4hcK+LdDpNlZ3025DJZI6OjiYnJxljwWAwk8ns7u7Ozs7KskzzT0xMIMACN/ipEgwG4/H41tbW1tYWD9x3d3e3trbi8ThF8OVyGXWHAOyvsXg0Gp2fnz86Opqfn6e/8H/SpcRMUT4AwHnxDmpta2uLCb8N/O+5XI4xFg6HxZl3d3cpzJJlueElBY+Jx+P0KJjL5cS/J5NJxlgymRT/mMlkYrGY3+83/B3goqF2RLIsz87Oivfkdx+aeBlmplqVYDBomBkAoOn+1sRnhlZVLBbdt20KBoOzs7Ozs7OqqmqaxuvgAQzK5fKNGzeOjo5czh+NRqPR6OzsLBKx4ILTNG1ra8v9PTkej8fjcU3TNE3jdfAAAOcBAvfaO92g2fh5AGdiSm69vwXQSk53T0Y1CgCcQ8hxBwAAAADwAATuAAAAAAAegMAdAAAAAMADELgDAAAAAHgAAncAAAAAAA9A4A4AAAAA4AEI3AEAAAAAPACBOwAAAACAByBwBwAAAADwgLqPnJp/81o/0eu9Fk/IH75mjOknura33eyyQEspvT2g/+PUAjgFXDggd/c2uwgArqDGHQAAAADAAxC4AwAAAAB4AAJ3AAAAAAAPqHuOu0i6EvK1XWrkGs+VcuH/MsZ8bT7k0kFtBS530v9xagGcAi6ciwltG8CLUOMOAAAAAOABCNwBAAAAADwAgTsAAAAAgAcgcAcAAAAA8AAE7gAAAAAAHoDAHQAAAADAAxC4AwAAAAB4AAJ3AAAAAAAPQOAOAAAAAOABCNwBAAAAADwAgTsAAAAAgAcgcAcAAAAA8AAE7gAAAAAAHvC3ZhcAzrtUKtXsIkAFqqry/8M5Nz097Wa2YrG4sLBQ78IAwV3O7OrVq7FYrNmlAACjT969e1fXFeTfvNZPdPosXQn52i7VdXV2VFUdGhpqyqrPoXA4nMvlXM78ySef1LUwABeKy1sublnQXFX9THiUtrfNP8vdvU0sCYB7qHEHV5LJZLOLAOBtp7iIgsEgaj2hwYrFoqIozS4FAFi7WIH7RahCcHbqajyX7/cBwM7pAndcetBgqqoicAc4t9A4FQAAAADAAxC4AwAAAAB4AAJ3AAAAAAAPQOAOAAAAAOABCNwBAAAAADwAgTsAAAAAgAcgcAcAAAAA8AAE7gAAAAAAHoDAHQAAAADAAxC4AwAAAAB4AAJ3AAAAAAAPQOAOAAAAAOABCNwBAAAAADwAgTsAAAAAgAf8rdkFaJBgMJhMJq9evdrsgjQZ9gMAAACAR33y7t27uq4g/+a1fqLTZ+lKyNd2qa6rg5pTVZUxFg6Hm10QAG+r6lIql8uapvn9flmW61wugL+4OOeetrfNP8vdvU0sCYB7CNwBAADgwkHgDl6EHHcAAAAAAA+4KDnuAA2jn+j5w9e+tktSR6jZZQEAAIDWgcC9NvKHhSfqU/p8P3yvrhGbfqIvbWa1/Vf0mi/Q3ildCY31jcpdDXrTp+1vL21m8m8KpeMDxpjc3St33Rjri/rafI0pwHlWOj64u/gVpYdFeoanbj1odonAG9by60tbGcaYr803detrXE3QdNr+trKxyHBOApwnCNxrQz/5g2fL6Sd/1G9F+cNC/MU3vNkAY6x0fFA6PljLr/9099+B9s76rZrMvHy8srMq/kXb29b2tkvHJQSpjLGVnVV+dFZ2VmP9dxpwUKAFPFGf0pNwrP8OIiQ4D+Su3tLbAzotlzpCsf4vm10iAECOu6eUjg8MUTs3KA00IEB8oj41RO3cWN9ovdfuRWiNDW6s7KxSeORr8431RZtdHID3Yv136MPSZoZOUQBoLtS4e4myscij9lj/HcpO0U/0lZ1V6Urd06lLxwdLmxn6LHWE7g/do+Sc/GFhZWe1tfO584cF/iLFOSUp0jO8tJmhwzTWN4qqU3CDEhIYY4NSP84ZT6NXoPRZ6rju9aMZ6Rl+oj7VT3T6oUGlO0DTIXD3krX8Bn2I9AzzG6ivzdeY2u61/Dr//O3INK/glzpC98OtHLUzxp6oT3kqlPrfLx3mDLR3/nR3AY1Twb21/DoP9fDmyutWdlb5Y1j69vcNa3pUP1QZwRhb2swgcAdoOqTKeAbVedBnuetG4wvAY4tAeyfyth342nxyVy+idnBprfD+kVjqCOG0gfOGP0zqJ7pYfQMATYHA3TPyh6/558DlJsTN+cNCE9cO0Kr4m7RBaaC5JQEwC7R38udJ/pAJAM2CwL1q+cNCrdro1HBRF03+sMAfJE6tdHxw9oXUira/XcPzqrnbpZ/o2v62ZStql/KHBW1/u/J8LpSOD1wu6uzFZtVf1OIaB6X+U6zuLMeaNrmGJ57DVG1/u1anpfutdn/0HZz9rGjK6vQT3fnI0s5xsy4+qih/yASAZkGOuyva/vbKzq/a3l9+4aSOUKRnONIzXFXzI7tFDUoDkZ5hcwqKsvGcZ0xy8RcPDX9xTrw+i/D/vGX4i7a3bfhjrP8O5T5q+9u8bBXzO8VNM5ffPLV0fKBsLBp2XaC9c1AaGOsbdZm9Y7n/A+2dcndvpOczQ4HN227+I9928wzmSQYrO6trhXXD22eHk4Gr086pinkzV3ZWV/7zqziKOGNsUBoYDA1Eeoadl0ZN37T9bW3PGEm4WYKhMLS0lZ1VMbyz2xvmYvvafHJ3r/uxEaq9qP/y3Q/r9bX5LPNkLI/10mZGzIx32DrL0q7l17U9YxjtZgkVTzzxQi4dH6zsrPIRJzhfm29Q6jdfboZCGu4klltteROmkS7W8uuGoy9397rvnpWuTcPZKHf3Rv75mWUD4vjPDw2byUw3arm7N/2v72uyOs75MjTfgvKHhaXNjOFcZZSmdeX6YGjA8rXPoDRAae76iZ4/LBhOVP1Ef/RLStvb9rX5vh2ZboG0foDzDIF7BfqJPvPyB8vEvvxh4YlaWNrMTEVc9V/uvCi6n8b6v0TrNEtP1Ke8TxsR/Zyv7KzeD99zju1KxwczLx+bf1zZhwhjZWd1UBpozDgj2v72zMpjy/owOhmUjcWKcT939p1zRvnDwqPllOXmrOXX1/LrK//59dvPpy13rH6iKxvPLcsvLmFpMzMV+dpNCrhdYcx7w+4oUC7vWn490jN8P3zP4Xw4+0Wt7b+iD9KV6xU3jTG2tJnhY72Zt25pMzPWNxrr/9KyzA5nnbgE9yeeZbUCc7zW2IeHtKout5WdVerbxPB3fhP+dmSazo2lzYyy8dw8J7/G74fvOd9j84eFmZUfLGv0acyKwEbnVORBrcLTGq7OYVHE7kbBPpyuKzurgfZOvjM5qePjyantbRum8rb7+on+aDn1v//H/6pYVAA4NaTKOMkfFr54Nu7cHKd0fBB/8bBikx3LRcndf2nCqJ/oT9SnMy8fn6XMLWnm5WOHwI69j58eOxyF/GHh7uJXdpEEt5Zft+spv4ZWdlbjLx5WzE9QNhbjPz+sWJiz75wzokHBnDdH29uOv/jGcpJDMGFeS8W9UbEwfG+4OQorO6szL39wWNfZL+r8m/dtV9y0OH+iPrWM2kVLmxnLHUV3KjdZMcrGorLx3MVs1lE7Yyz+wqL62Wwtv/7ol1TF2VZ2fp15+djh0NMAF/S0YBnfi5zPt5Wd1buLX4mxL71+EevpaU/ajWhRlRquTj/R4y++cYjazTcKy5c8+skf5pcSvjYf/6PlI7FYDOdyAsAZocbdFlUe8NsQ9brIX3zrJ7q2t720laHfp4qRk7ioQWkg1v+leMekHsTo9reysxpoD/Aar1j/l+YsFPdVYmfH332L74Lrl5ljiX60fG2+SM/woDRAlU+l4wNtb5vvN8bYzMsffuruNVfgGWK+QHtnrP8OfwFtWE7+sDDz8odvP59m9dn2lZ1VMYyTu3vHbo7y19P5w8JafoP3BK/tbfPCOCyQnWHnnB2PXOnNPg87KIGEBxz5w4Ky8dx83kZ6PqN5Au2dY32jYuCrn+hr+Q2+FRQEOw/QKxZm7Oao3N1LYx3QXuVhjRiO0/lgV2wK8c3vK85yUYsLEU9Lh+0i/D4zKA1E/jksnjZUnUxLyx8WHv2SMmRlUK4IncaRnuHB0IAsnA/0coBvtbKxWDHJh0ftcnfvYGhAHEoi0vMZTTWcEuxDzbd4hlvuXhEvVaRnmCfY0HDRvHJdP9HFxxLD0Rfv1YyxJ+pTyxHr8ocF8dqM9d8RdwJl4PCSz7x8HLjcySvC+d4Wn2ec0wXPsjozfm7QrUDu6vX9/WO0re1v890odYRi/V+KKTG0i9YK69RTu+VdInC5k98hjZOEPYkOxwDqDYG7LT4COWNM6gilb38n3s58bb5BaWBQGnCodrJc1NStB+ZfqUjP8KDUz+tL3PxqXjRSR0jsPJ4xFmjvNOw3egVvfg8+s/IDD48iPcOGyI8vh8aF9bX5Iv+sV1ZJ6fhArDE1nwzUIWCkZ/jRcoo2yi5wNHzr1DunVswZCHJXr9zVK3fd4NGJZT/QcldvpGdY7rph3sYPTyP9XzwbpyNIqQ4VHz8MO5YvR9wbNMl8aVsW21y2mlzUp+sqyvK0uR8ORXqGeaaEtrdNaTPibPfD95SN5/fD98z3FqkjNHXrQaA9wO9mS5uZ++F7ziXxtfmmbn1tzooe64vmDwuWjQQC7Z2x/i/l7l5eDWG5e80rSt/+Tnwu4o95/JmcHw7DNc7v1TMvH/Pg1XLrHi2n7FZHf4z1f0nH9H0wvfL4p7v/di65g3qszi77aGXnV3Fdhhn4LhrrG7XLRpO7btCTT+mtscad9iQNwzcV+dq5hABwRkiVsUbVQvQ50N5pvtNxFbPSxUVRnb3lbIb7aeJ/NYoAACAASURBVMWHgYvGEJhy1ByK/9PcW5nYQnFQGrCrr/W1+Sj0/OnuQv165RPHvnXIO6c0U/cnw6l3Tq1EeobtrgJqO0ifqQ8T8zyWgS9Hh4b/Uwx2LdldZYa9wWyCGF5s3pOGuaOYelzULh/UHfYVhU18debXgFJH6NvPrU8VEuv/kk91022LZdTOaFd/7tRIkZ7WqlqRZUApdYQM8bfc3Wt3jYuPfObMsZWdVeFJzLY1BT0k02fxNKhWPVZHx9fyfP5YCXXFaTBXN21IzKkyvjbf1K0H6n+/fHbnRwxEAFBvCNytiffHijV8du8WifgL4ZzfIgYo6HVL5Pz+gXIA6LM5s1aMVqduOdUG0f6va8tUfliljpDz8x5VKNJnygqwm/MsO6dWYv13HKZGej7jn09XBrGfxIpLcNixYo/UNKfD4Y7882OxDcFKrS5qcVvcBO5yd2/Fdy8uTxs7PBCvuJ/l7t6zPOIOhj5+17nHRuruxnY5f+1D0+FUpN5s6LM5+hSHwXLeLvGp49QPw/VY3f2hCm9IGGP5N69Pl4aON8AA5wQCd2u8qwd6h+g8s/h7YMZvtbKLDGO+HLu6yYtJ/I235NCwj8cug9JAA7qLcSB2meymj5exvqj4XbvZzrJzakLqCDn/qJ+9/w33B65yYbo/Fsa533Qxd8WQHtCsi1p8lrCdRzi1Kr6dMHO/q90UxmlFf3e7Iuc7sNjCkgYtdpg50B7gn+0extw8jfCL7tRtvmu+ukC7UwY8X4J+ot9d/OoULwr+cjlg+BGA5kGOuzXe1YPLPtrkrht2t0K+KMaYm74aOP1PNM9/z/1vvIH4Fr7p73Dzb4TCXKlcGOrJwa5B2MfZTrtzasX390s1WU7+sEDdS59lmJ6KhREDU/enhCFSadZF7eZ2FGjvpBaZ7H0FhEWLWG1vO3/4On9YsOh8xpTBbLsiF0n51DF/6bhk0efmn3+4XFHFZwl+0F3erknp+MAyL6h0XKp4TEvHJf5ZP9GrrRGox+qcD0ekZ5g35KXud2ZePqZGw4H2gNzdW9XTtbjrAKDBELhbE9uuuZnf4abJF0Wd8rovQ/7wNYZAJ6eustVPPgYHYlfETXGKwvCeHBw0fbiTs9fo5w8LvCvophfGjWZd1C5vR9KV63aloi7za9Jnn3PotpZfF9vvnoX4kqROxGuz2tro/OHraq/BeqzO+XBQcwvD+AYfT5INxhijxqlNv58AgDME7hU08Z2gr602FZlAxB/LpisdH0gdTa4pPyfMHbQH2jvNT8L1S9BvpDNe1C4rd+0qs8VuVYg5Ji69PXB503OIFA19njLGpI6Q4WWI/ucfZ3m1cn40+EZttzoxC8iS1BH66e6/LYdoJXzQMeceVwGguRC4W5M6QoZu45w5RBV8UbghGojvf+tErNhuel6mWBiXTxH8vGpudn5d8d7QqR2nXfY/H9r9PGjWRe2ycpcHxGJsTR290+dBacCyU0jmOKySS5SJQZ+ljtD9oXuWZRYHpmg68dp07uPIi6sT8V6e8oeF0tsDypgS43i7MQdEyJMBaCI0TrXGcyUtaybMeGNWh0VdtI5iKqbzNqAOVRzwr35Dh7ok5rW7KYzYkLFV31+LPS3G+r9sZARzFrW6qKutrHVz2ojziKk1vEFtoL1z6tbX9Yu9xAJMRb72xKn7lxtF3XpNbdbqLFFvNrH+L7/9fPp//4//NXXrgUNHouyvTXQQuAM0EQJ3a2KmbMWWQ9QAy26q2JzfzdDuniYGIs4daGj7242pAhdHl6zYp0ddx+sW+yIUe3G2I1Z8tmprB/HCcYjaz9s46rW6qMVnOTeXAx8b1cHS1sfyiKcN39XO3SudfVfzq4xGE7Nd0TlrfM/31Vp+vQE5PA1eXUWG8RbMM5yrVEOAiwyBuzWxb+ylzYxDRZd+os+sPLabyhgTx9Z+oj51vkfT8JbVl/e8kDpCPCZwiE31E/1J7qnlpJoTe/Xmw5Fayh8W7i5+ZRmH1apHGl4Y/UTn4yZaWtlZ5ZGWOGJ8C3OIDJY2s40sSUX1uKjdBO76iT7z8geHGZY2MxVPG4fQvLb3H+dnAPEB4zww3CicC6/tb9sddJftzmu1OvcqnmDO+Xi8hHYnVU0KCQAVIXC3JQ7I9+iXlGU8p+1vx198U/GGOBX5mAVrFxoyxtby6188G595+bjpSR1nYYhNzbfy0vEBHwe+AQLtnXxMFv1Ej7/4xrLefS2/Tofyifr00S/GkFr8rTIcvqpqKA3jcd5d/Mry5FE2nvMsYRqV0P0qvEVsHGmXWr2ys3oOBxKuyUUtppG47IdxLb8e//mhRe+KJ/oT9ekT9ePzsHlI0Q9L2LC8+ujqOHuNO98oh5E+Z14+Pm+tjcUbRen44Itn43Yv6JSN5/EXD+3u/GK7aod7Ra1W59LKzuoXz/7LoZ+f0vHBys6vvGzmGT42nDA1HM8fFr54Nh5/8dDhQgCAWkHjVFuD0kCkZ5j/8DxRny5tZqimzdfmo1EJ+b2Md5xsSe7qnbr1gIdiT9SnysbzQak/0B6QOq7nD1/rJ/pafp3fUmde/vCTi4Fdzqexvijvb45i00FpgNdY5w8LPILhnZTXW6z/y9JxiQ6lfqLHXzyk/E76faJfLLEk5iGNBqUBHhLRjx+96aZ+GJ7d+dH9wfr282n+3JI/LHzx7L9o//AzwZAOYdeIsDVIHSG5u5diuJWdVf3kD94hHXU3vrSVOW8RHqnVRc2vAjfXAjWK1fa2DadN6bi0lt8QT5upWw8Mr4nG+kbp0qMA/X74Hq+Szx8W1vIbteomUuwyfObl49LxwaDUT4UpHR9oe9vKxmLTW4pbMt8oaNBWX5vPvJ/1E33m5eP0v743LISGAKMNXMuvP/olFfnnsO/vvvybwtJmZirygD/Y1GR1LtGj79JmZmkzQxddoL2TMrWoo33x/LEcfZY/WJpfP/LDzRh7oj51HhMaAM4IgbsTaq/DqxBKxwd2eRSx/i/N1bQiSh/kP/MOr6R9bb6pW197NGpnHzoMFqvuKLo1zOZmp9UQVVrzfZ4/LNhV+Vt28hBo7xzrG+VHn37/+NS1/Ib7VpV8//ACWO4f9uFMaNXsdu5++B4/W+x2xaA0QHF8w0vnpCYXtXQlREGe5WBJBlORr3lX3Hb7itmcw3JXL6+JoCjQspxjfaNnfL9BvQPx5Ssbi5YLvB++J74fOCcMNwq7ez6jDnP++k6Dux++x+9shsO0svOr+JqlJqurqHR8IOahOdz92F+T3Tn9ROfPWubA/bw1QQFobUiVqeB++F769vd2I4D42nyx/jvp29+5Gb0y0jP8091/O0d4kZ7hZ3d+9HqsJnWEnt350WHYFPc7rYambj1wOJSMMbm7N337e7sDdD98z64mqdrqQ1+b79mdH2P9dxwez1rjTHDDzdny7efTjSySe2e/qHkY5+axhPaVw+rk7l6HGaZuPbgfvmd31kkdofTt72oy2lGkZzh9+3u7N0W+Nt+3n0+f23rZijcKftu3a/oyKA2InbSIzPeKs6+uokB75093F2L9d5zf3QXaO7/9fNoyMU88Oc1FFftyaMBoWQAX3Cfv3r2r6wryb15/HIX0Ssi7gwrR22Q+djd1mDAo9dPdWczmFBu2WqL3xaXjA96JpNx1I9DeyZdm9y2+impHqK4JsbGpcy+/HE8ooi8G2jvlrhuWO828QLGvnoqrq2pmSjYQS0Xvjt38LlKZaax4X5tP6giZDzfvhsjNYVrLr4uDzxvOKztn3zluurUxE7eoqs10MzNdYna7ghfYcgnuC+N+11V1xZ3uomYf0snoc/r295abxmus1f9+yVdnuLLE7C9n+olO+5mqXek0FrNZanVVsg+nt7hPpI7r/BmGHzXzRVTVHZWfG4H2TueHKLH8FRdLN4rS8YG4o8TyO6M3MPwYyV03nM+i062uqsuQr0U/+YMflEB7Z6A9wE8AS5Qpyt4/A/zbPMPKzurKf36l96geel3s/EACcD4hcAe4iOI/PzxF5kms/47LZzZw74tn/0Wx3VjfqDkdwjJwB2gkfoq22DCCCNzBi5DjDnARne61ews3k22iQWmAqjPX8uunzmMGqBNxlDRzw30AaDAE7gAXEQLE8yPSM0yBe+n4QNvf9sRQo3Bx8Pay1OlNcwsDAGicCgDQTNTEgj7zvrQBzgNqEUGfz217YoALBYE7AECTRf75GX04XaNhgDpZ2sxSKzVfm899p7cAUD8I3AEAmkwcUvccDhMLF5N+ovM8GW91FwPQwpDjDgDQfPfD93hOAnU2Sp/l7t4YsxjJEqDeSscHPD0GeTIA5wS6gwQAAIALB91BghchVQYAAAAAwAMQuAMAAAAAeAACdwAAAAAAD0DgDgAAAADgAQjcAQAAAAA8AIE7AAAAAIAHIHAHAAAAAPAABO4AAAAAAB6AwB0AAAAAwAMQuAMAAAAAeAACdwAAAAAAD0DgDgAAAADgAQjcAQAAAAA8AIE7AAAAAIAHIHAHAAAAAPAABO4AAAAAAB6AwB0AAAAAwAMQuAMAAAAAeAACdwAAAAAAD0DgDgAAAADgAQjcAQAAAAA8AIE7AAAAAIAHIHAHAAAAAPAABO4AAAAAAB6AwB0AAAAAwAMQuAMAAAAAeAACdwAAAAAAD0DgDgAAAADgAQjcAQAAAAA8AIE7AAAAAIAHIHAHAAAAAPAABO4AAAAAAB6AwB0AAAAAwAMQuAMAAAAAeAACdwAAAAAAD0DgDgAAAADgAQjcAQAAAAA8AIE7AAAAAIAHIHAHAAAAAPAABO4AAAAAAB7wt2YXAADgQtA0LZFIVPut2dlZWZbrUR4AAPAcBO4AAI1QLpdVVT3Ft+pRGAAA8CIE7gAAjSDLci6Xcz9/IpHQNK1+5QEAaD1022zhF5UI3AEAGsHv94fD4armr19hAABqaGhoSFXVd+/eNbEMqVQqnU7TW0q/3z87OxuLxZpYnjpB41QAAAAAT1JV9RN7N2/eTCQSxWKx2cWsO0VRkslkMBicn5/PZDLhcDgYDDa7UHWBGncAAAAADwsGg+baZWpXk06nFUVp1epnbm5uzu/353I5elcZjUabXaJ6QeAOAAAA4GHBYHB6etpykqqqo6OjiUSihSuhGWOapoXD4YuQYYhUGQAAAIDWFA6HY7FYuVzOZrPNLgvUAGrcAQAAAFrWyMhIOp1++/ateRIF9L/99hvlwcuyPDIy4tCMXlXV5eVl6rklGAx++umn5gwcVVVTqdT4+LhDcs7ExES5XM5kMs4lLxaLVDxqchoOh8fHx8X3BuL4GJqmDQ0N0WdZlmdnZ50X7lGocQcAAABoWRSUX7582fD3bDZ77dq1iYkJRVEYY+VyOZ1ODw0NDQ0NmduzlstlmpROp2lqNpudmJi4efOmoeNaWZY1TUulUnblUVVVUZSKPTamUqlr164lEgkaAaNYLCaTSfrLRR7gAoE7AAAAQGsql8tzc3PM1F4zm82Ojo4yxubn59+9e5fL5ba2to6OjpLJpKqqN2/eFINjitpVVY1Go7u7u7u7u7lc7ujoiMamGB0dFWf2+/3xeJwqyy2LtLCwwBgbHx93KHYikUgmkzT8Ba2I1huNRtPpNJWcfRgfg4rBP+dyuVatbmdIlQEAAADwNLuBmTVNm5ubKxaL8/PzYoZJuVyemJigbljEmm+/3z89PX316tWJiYmJiQmeyjI3N6dpWiwWm5+fF5cfDodzudzQ0JCh0n18fDyZTM7NzZl7dykWi4qixGIxh5ay1BkOBeJie9NgMJjJZOgVQTqdjsfjlXdNy0HgDgAAAOBhYnq3WTKZNKSbK4pSLpepSts8fywWW1hYyGazxWKRwut0Ok1DGplnpr8b1k7dUyqKommaYRVU/W/XB444z+zsrGUvMbOzs9lsdm5uDoE7AAAAAHiMZT/uJJvNJpNJRVEymQyPoZeXl5ljssrIyIiqqtlsNh6Pq6paLpdjsZhdZ4vUD6Mh73x6elpRlLm5ObGSvlwuK4pSsWPKbDYbDAbt2sjSKNTZbNb8VHARIHCHFvHFs/8qHR/I3b3pf31vmLSWX3/0S4oxlr79vdzV24zSAQAA1ItDP+7T09PUlfvo6Oju7q7hW3YLpIBY7IjGOdSWZdmQq0ORt6Io09PT/LtU0+9c3e5yddls9mI2UUXjVGgRpeMDxligvdM8KX/4mj5YTgUAAGhh1JW7Q2vROqEAnZqikrm5OYeqdHADNe7QCihqZ4wF2gPmqfqJ/mFqQwN3ZeO5srFInxtQ2a/tb8dfPKTPsf47sf4v67o6YIyF/+ct+mD5qgcA4JygLJdXr15Ra1H6J09hN/vtt98YY1evXhVndli+ZdNYSolJp9OTk5N+v19RFGom66a0blbXwgPBOkCNO7QCIXC3rHEv2E0CAAC4IHhX7iMjI+yvdeEG1LM7VY3LshwMBh1SU2hmS9PT03zQ1oWFBb/f7zAqExeNRovFouXDAGOMJgWDQQTuAF6l//mhTv2yRXSu//mH3SQAAIDWRk1C2YdAnDFGvTEmk0lDN45kYmKiWCzG43EeGU9OTlIPkuaZxbFLzahJayqVUlVVVVWX/cBQjg2NrmreFurEvYV7aneGwB1agXMWO9W4+9p8DS0TAABcSA1OJXdAnabfvHmzWCzGYjGxD5ZMJuP3+2/evJlKpXheiqZpo6OjNKyp2IQ0Ho/HYrFsNnvz5k2+dfQ8MDQ0FAwGHXp3ocGYKOifnJx0U+xgMDg/P18sFq9du0btWenv2WyW+oyPxWLmHuIvCOS4gydp+9viP0vHpQ8fDnjajIGv7ZL4rUB7Z1XJM/qJvrKzqu1v6yd6/s1r/USXu3sZY3LXDanj+qA0wOd8oj6lR4XS248leZJ76vv7Jf5PqSN0P3zPvJbS8YG2t63tvyodH5TeHpSOD6SOkO/vl6SOUKRnWOoImb+ysrO68p9f2YcXCx/++Ku2/0qczS4DWz/R1/IbtMb8m9e+tkuBy51SR2hQGnBOyuebybeldHywll9fK6zrf/6RPyxIHaHA5c7B0MCg1G94ahJ3pra3HWjvDFzulLtuRHqG3R+Utfy6tr+dPyyU3h7oJ39IV64H2t8vxOFbfHeJ+2RlZ5XvAcYYLWowNCAeVi5/WHiiPjX+8c3r+M8Pxb/cD9+zPF4A0PIWFhaWl5fdJHPXiqqqn3zyid1Uv9+fTCYNfbnQ8EYTExPJZDKZTIqTYrGYuQ/1+fl5v98vjlpKwuFwJpMx/FE0OTmZTqfpycGuQ0kzmnniA+dtuVA+effuXV1XQCEOfZauhHxtl5znB3CDNwo8taqab4rNTC352nxjfaNjfVFfmy/+80Ntb9thZmbVljF/WFA2nq/l152/NXXrgSG0rVg2ov73S/MflzYzysZzfoUaSB2hqcjXdtEn30zaFodi+Np8U7e+5kGwsvF8aTNjt9KxvlHLRxqRtr89s/LY/gntL6szEMup/vfLtfz6E/Wp3aIs94DYCNjB2Zsj0wDjuVwOPTAA1IN4o6aKmFpRFGViYkKW5fn5+Xp3NF4sFh1S1S9fvizLsvM9RNO05eXlcrns9/svX74cjUYdcsepa5q3b9/S/CMjI7SBiqL8/vvvdvE03c12d3dPkZWezWZfvXpFq7t69Wo0GrWM/lOp1NWrV90k0HsdatwBKph5+XhlZ9V5Hv1EX9n59dQdufCe5p1pe9t3F796dufHsze01U/0R7+knB8w8oeFu4tfTd164FyHzSrtIlrX1K0Hg1J//MU3VE9vZ2kzkz8sOPTQ8kR9urSZcVgCrS7SMzx164FzsVd2VmdePnaYIX9YiL/4Jn37O9SdA4B7sVgskUhomnbz5s16Vw879ODukizL7p8ugsGgZZ66Q8RcLpdVVXV+HnAQjUbdZMVcnDp4BO7gSenbfwnsqAZ0UBoY6zO+rVvZ+ZViyqlbD8T2qS5j35WdVR6SBto7x/pGpSsh+i5ls2j7r9byG/qJzuuJ74fv6Sd/iKumP0pXPgZ/hldP4qT3aSpC9c9afn1lZ5WqqPUTfeblYzGujfQM08z5Nx9TOCI9w5Gezxy2S4za+XbJXb36iZ4/fC2WfOblY1/bJbsKbPbXWqtIz7DcdYP281p+fS2/ziuzn6hPV/7zK4/a5e7ewdAAbXj+TWGtsM6Xo+1tKxvPLZ+CqLaePvvafJGe4UFpQOq47mvzafvb2t42r8tf2Vn1tfmcK+951C7uczqmfPP1E31m5Ydnd37k35I6rvPTj1e9Sx2h+0N/WZfUcd1h1QDQ2qLRKLUHTSaT2Wx2dnb2wr46S6VSzHV2O1SEwB08SUxC+JiL1REyJyfw5JOK1caWeJgYaO98dudHMVc70N7JulikZ1gP6ys7qzy05bWzYkRLYbHdWih0zh8WYv13zLPJXb2x/i/vLn5FQbC2t00Z5Py75oeQQHvAYXXKxnNetkjP8P3wPb5dvjaf3NUrd/WO9Y3GX3xD+3bm5Q8/dfc6t+6VOkLfjkyLJaFi8yp2SmenSYZafFqdWP+9tJkxB+7a/jbPcrFcndzVO9YX5Wtc2sxUzNS3yKvpYpGeYXHz84eFlZ1VXmDaRcbl/P0SBuUFAG58fJx3kqhp2tDQUDQanZ2dvQg9GI6OjsqyTJH63NxcOp2ORqMX9rml5tCrDHheXbuU4TXEkZ7P7BZCCe6nWz4X6/8y/S/brGhfm28q8jHxYy2/ceoV6Sc6fxqhpHnL7ZI6Qunb3wlfceokwdfmS9/+zrz/6e+G5d8P37N8iIr0DPO/6ye6Od2fR+12qzNPqpj9/+3ItOXLBHow4P9cKzi1PQAAMKCxh8S/ZLPZa9euUU+LzSpVA5TL5XK5nEwm//GPf/zjH/9IJpPhcLiR7XRbHgJ38DznTtyJdOWseQu845o6qfhoIXf18njUOU3cGSX20GfnLHCpIxTrv0OfV3Z+dZgz1v+lw1PNoNTP/0nvFuyWI07iz2OE+tuhz+IrAss18occbW/bruEpY0zu7nWoJpe7ei1fngAAuGGZma0oSmuH736/P5fLbW1tUWc1uVwul8u570wGKkLgDp7nXONOIdepa9x56Lays+rQAUtj8CeTsxSDVx5LHaGKif68Crx0fODwtOCQAc8Yk7tuCAt0yrwX24AatlGsgBefBGzW+PEhx6Gjnsg/nQrDhI4mmnvcAcCLHLK6efhuNzio11E38NPT08iQqTnkuIPn8aDKIQw9da8gY32jPPFa2Vhc2szI3b1SR0jquE79nZ9usQ6oK3rLKl6xY/hTy795H38HLncausN3Ri1uLTk/AIhvQtz3uWZ4TuD/DLR3GirjLfnafIwdMOdiVxpM9zwM2jU0NNTsIgBAXSiKoihKMBicnJysqo9zuMgQuIPnUUhnXd3+ITA99QACkZ5hQx8j1FnKh8X6qHeU07V8NVjZWVU2Fh1SO2qCL1/cEDe0vW3LxJLGdJXIi106PnDTjTqn7b9izLqbTnT8AgAA3oLAHTymdHxg6DKc10MrG89NM79PTKfhjfjfnZObDaZuPYj0fLa0mTGHuTyOVzYWvx2ZPksI66a3+PNJHBHWW85DhXpFGIAJoE7qNwATKRaL165dc5ghGo1OTk7iAoeqIHAHjykdH1h2FWL3d2KIiWPMotdFB9TVIGOMOgsvHZcM2Syl44P4i29OPTSSsvGcl1Du7h27OWqZh+NmTNaKAu2dVHtt2e29g+bWT/MdG2jvFDvYcf9FAIBGmpubs5sUi8Wmp6cvQteQUHMI3AGqwCN4spZfX9rKUDCtn+jKxmLF0Tot8T5bpI6Qw6ChNSFdCVHgnn9T8FDX41JHiLFVxljp+MCy63oAgHMlm7XoRRchO5wRAnfwGHHcSiYMFxrrv2N+1/kk9zR/WPC1+cQ+uVntamEHpYFBaeCLZ/9FofDp0tOpNSp9Pnt/8BUNhgYo56d0fKDtW6etn0OD0gAfF3ZlZ9VyXFUAgHNC0zRDh4/UnXm9Q3ZN0xhjsizXdS3QRAjcwWMM41byTtwt09Yp/Vq6cr2u4WngcqdlyO7y8UD8rkMjWruuZqpd3aDU71N91BXPo+XUT3cXnFO9xVFamyjQ3il399IeUDYWK7ZSaEyxed4RAIBIzJMJBoPz8/P1y2Uvl8tzc3OKooiPCsFgkHLoUbvfYtCPO3ibm07cz0LZeB7/+aFDF+b6iZ5/874MhghY7G3QoSRiALryH+v2qfqJ/mg55VxUcQ9o+6/sZvO1+Xh1tX6i3138ym7rSscH8Z8fxl98c5bxnmrofvge//xoOWXXllc/0Z+oT+8uftWAxr78EOffvEZf7wDA8TyZZDK5u7tbv6hd07Rr164lk0m/35/8IB6P+/3+dDp97do1Q8aOoiipVIVfE5dSqZSiKDVZlLfUcB+eAmrcwdvcdOIuDgBU7cKXNjMU3UodoUFpQO7upQRr/UTPH77OvymIozIZEl3krl5f2/u6bWVj0dd2KdIz7GvzURc398P3eJkjPcMUZa7l12dePjaMDOq+m8hB6X0ajLa3PfPycaz/DlUJr+ysBto7eZ+VY32j+cMCrbF0fHB38atBaWAwNBC43Cl1XM8fvtb/1NcK63yM1ZmVH9K3v2t6HyxSR2jq1gPqVl8/0WdePl7azER6hqUrIToi+skf1MkP7asn6lPpyvW61rsPhgZ4C4f4i2+mIl9LHSH9RF/Lb+QPC+KTBgBcHNlstlwuy7I8Pz9f76yViYmJcrk8Pz8fi8UMk4rFYiKRMDwzLCwsqKo6PT3NziyZTIbDYfN6W14N9+EpIHAHb3PTifup8ciVVpQ/LLAN25kjPcPm5I2xvlHe180T9SnP0qYy88Au1n+Hr2tlZ3VlZ1XqCFGej1hVz+NyO2N9o3wGWg6fJHWExM7mqREtn8G5T3e5u7fpUTuhTeBDYuUPC09U27cB0pXr9W7DGukZ5k9u+cPCY7ncmAAAIABJREFU3cWvxKmx/i/PyX4DgEZaWFiIxWKzs7P1HlNJVVVN02KxmGX0HAwGM5lMXQsAjYfAHbxN//MPVmkIzFN30EthYsXabko+sWxXGuv/snRcsszZWMuv88A90N6Zvv3dzMoPPCnFkJ0SaO/8dmR6Lb/hHLjLXb28Ttogf1ig/lj4X6ZuPZC7bjhvHT1dDEoDDittsEjPcOByp7Kx6JB95GvzjfWNNqABq6/Nl779XfzFN5Z5Mmv5jZqMzAUA3jIyMtKYemhqiuoyi52GYaaviEMy53I5wzKXl5dVVaV/hsPh8fFxcRWapiUSCf6ZL0qW5dnZWXFR5XJZUZTffvutXC4zxkZGRqLRqLm0iqIsLCzMzs7Ksqyq6vLyMm9iOzIyIr4xoKVRKr95qkGxWKSqccaY3++ntZsfpRKJhKZptBMqLt/lPqwrBO7gbb6/X5K7ey2TYUpvDyhkP/WwqYyxSM9wpGc4f1hYy29o+6/0P//gIbXUEQpc7hwMDQxK/Q4Vq3z8pvybAoXIVOCxvqg4m9QRenbnx5Wd1bXCOp8z0N4pXQnxVeTfvKYtckj/iPQMy929ysZi/s1rKqrUEZKuXKe0GcutW9lZ1fZfiY1fKSNoMDTgELLzMlTMRfG1XeLPThWPBZ/TYbFyV2/6X99r+9tr+fX8YYHnl7s5ItTI1bkMVc0sdYR+uruwtJnV9l/RDqSjNtY36pUeewCgthqWPUJBMIXFZ6dp2sTEBA+a/X5/sVikpPnZ2dl4PF7V0rLZLKXxBIPBYDBYLpcTiUQikUgmk4Ykk99//11V1WKxmEqlKCM/HA5rmqaqajqdjsVi8/PzYtnEqfF43PC0QFKpVDKZ5BuiaVo2m00kEvPz89HoX358aVF2y6e1V7cf6+1dnf2/B4Wt//OK/vv//tTrvToAgNZANT25XK7ZBQFoTTw42fo/r5pdllM6OjqiKuT5+XmXX6Ebi+UkauE6Pz9/dHTE/5jL5WgV5nsRYywcDlsuioJdWZbFb/FGuslk0rBexlgwGKS1i6umFgJUML/fn8lkxKn03GLednpwikaju7u75vkNG0JFkmXZUFpx7YblO+zDBkDgDgBwHiFwB6irFgjc330IkdmHTJWtrS3n+Z2DTjFk5ygPJBqNGv5uF7jT40QwGLRcGhVADKkpcGeMmQu/u7tLk/x+v3nq1tYWRfxuSisWzFwey9LS/H6/33ITzMtvDHQHCQAAAOBJsVhsd3c3FotR6vnNmzf/8Y9/jI6OKopyihQay9a0FKcaxpNyQKu2a5tLTxpiP/ckFouZe+AJBoO0dsupVE1eLBbFLaUlW+a3+P3+2dnZYrFoHtR2enraXFq/3x+NRsvlMs/4Pw8QuAMAAAB4FQ3wdHR0lMlk4vF4MBik/PJr166l0+larYXyv91YXl5mjBlSycXSUiNUw99HRkYs56fA/dNPP7WcStG8WLZsNhsOh+3686FS/fbbb5Z/tyyt5d+bCI1TAQAAALyNqocpAKUOVdLpdCKRePv2rfsex6mFqKZp7sN0O2KnK+a1mN8GOHedaTfVMrAW+7qxZN66enfcWUMI3AEAAABaRzAYnJ6eHhkZGRoaMvfiYiebzY6Ojvr9/lgsZqiB5mno7jl01Fi/cWSJ3+93XvvVq1frWoC6QuAOAAAA0GooBVxVVVVV3cTKiUTC7/fv7u6aq5+rCtzp65OTk02pxqbmpM0a1rQBkOMOAAAA0LLcBNDlcrlYLFKv52dcHWWrm5ufNkY0GqVe2Juy9gZA4A4AAADgPYqiJBIJu95jKFWdGoMaJpm7iKF43XJRDi1cLbuaicViwWAwnU5bJsrTWEh2Czw7qmu32y2KorjvHsdZrZZTLQTuAAAAAN7z6tWrdDp98+ZNalHK/14ulxVFGRoaom4Zxa9QdTiPa4vFIv8ijRhqCNOphatlG9BoNEqNWemfqqryWDmTyTDGqGA8wKWZh4aGHB42zo762NE07dq1a2KfmDQ26sTERCKROOMqHPZhI9S7o3gMwAQAcAoYgAmgrlpmACa7LguDwaA41Cg5OjoyVMDzQZT4JGrcSbcgGq/Ucsihra0tQ16NOMjo1taWZWJ9OBw2DKVECfR297rTTc1kMpa7JRaLGQZach5NyXL5DvuwAdA4FQAAAMCTYrEYjb6kqurbt29VVQ0Gg8Fg8MaNG5Z9k9MQpIqi/P777+Vy+erVq7FYTJyUzWZfvXpVLpf9fv/4+Hg0GvX7/eVy2RyFy7K8u7tLi/L7/eKiaGoul9M0jbp1pwWOjIyY83Y+/fTTZDJp9/hxuqnUM6a4LZcvX45Go+Y5x8fHHVruWi7fYR82wCfv3r2r6wryb17rJzp9lq6EfG2X6ro6AIDWMDQ0pKpqLperd9dpABeTtrfNP8vdvU0sCYB7yHEHAAAAAPAABO4AAAAAAB6AHHcAgEYol8tV9TxQv14XAADAoxC4AwA0gqZpQ0NDzS4FAAB4GAJ3AIBGoB7WTvGtehQGAAC8CIE7AEAjUOdozS4FAAB4GBqnAgAAAAB4AAJ3AAAAAAAPQOAOAAAAAOABCNwBAAAAADwAgTsAAAAAgAcgcAcAAAAA8AAE7gAAAAAAHoDAHQAAAADAAxC4AwAAAAB4AAJ3AAAAAAAPQOAOAAAAAOABCNwBAAAAADwAgTsAAAAAgAcgcAcAAAAA8AAE7gAAAAAAHvC3ZhcAAABqTz/RH/2S0va2fW2+++F7kZ7hZpcIAADOCjXuAAAtaGVnVdvbZozpJ/rMy8f6id7sEgEAwFkhcAcAaEH6yR8O/wQAAC9C4A4A0ILk7l7xc6C9s4mFAQCAmkCOO4ArysZzZWORPqdvfy939TrPD9Bccldv+vb32t62r+0SEtwBAFoDAncAgNYkd/XiCRMAoJUgVQYAAAAAwAMQuAMAAAAAeABSZcCr4j8/pA+Rf35GKbyl44OVnVVt/5X+5x+D0kCs/0vzt0rHB2v5dW1/Wz/Rtb1tqSPk+/sluetGpGfYsvXeE/Vp/rDAGCu9Pfj4x9xT398v8X9KHaH74XuW3zJPcrMhp95M55nzhwXa3sHQwKA0UJPWivqJvpbf0PZflY4P8m9e+9ouBS53Sh2hQWnAMklD29/mTQUst5fLHxaeqE/p82BoYKxv1Hkz1/Lra4X1ajezMWeRAS2/dHxQentQOj6gr0sdIakjNCj1+9p8lt/iBWOMUe/s0pXrvjYffUvqCLnZOjt8B9LCA+2dzsdR3JaV//xKn9P/+t6wgfk3rxlj0pXrgfZOOhzOewYAAJwhcAevoj6qGWNy1w39RFc2ni9tZvhUc4hgnocxRuG1tretbCwOSgNTt742hE35wwJfkeFbDiy/5WZDnKdW3EzDzE/Upys7q+aSa3vbT9Snsf47llGpe0ubGWXjudhBuH6il44PtL3tpc2M1BGainxtCCjlrl5fm28t/yFAvNxpGRfqJ/qj5VTp+IAxJnWEDEGnYY89UZ/aHdYn6tNIz/D98D27aLgxZxG3ll+fefmDoUt1/nXGGHvJIj3Dsf474gOAfqLPvPyBdpr4R/rKWn5d2VgMtHfG+u847yhLludJ6fiAH8dAe+dU5IFd+E6ziRv4RH1KB85QjJWdVctTAgAA3EOqDLSC+ItvDLGUQf6wcHfxK+d51vLrXzwbrxiUN1HFzeT0Ez3+4htDNGagbCzOvHx8upLoJ3r854dP1KcOw/rQPjeXYerW1zwqfbScslzCzMsfKPjztfmmIrZxsH6iVzysKzurLg9rvc+ilZ3VR79Yb69hNvGfdCgNUbtZ6fiAKuOrkj8sfPFs3Pk8KR0fxF88VDaeV1wabaAhajesLv7im/N8iQEAnHOocQfPW9rM8GBI6gjJ3b2+Np/YiTWFPnweubs38s/PpCvXpY5Q6fgg/6awtJXhY0zGX3zz7M6PPLK8H75HI9es7PzK45v74XvSlY+1hr62j2kz9VNxMw0zfyibb1Dql7tuBC53Msa0ve2VnV95aLWys3q6BIZHv6R4PWugvXOsb1S6EpK7evUTPX/4WtxXMy8f+9ouiavwtfm+HZmmI6Kf6I9+SfEUC154HqfeD99zqKBd2Vnl+2RQGhgMDdBm6n/qa4X1tfwGTTUfVrO6nkWMsdLxAX9M8rX5Ij3Dg9KAr+1SoL0zf/ha/1PX9rfX8uul44OxvlHxizztiq80cLlT6rheOj7QT/7IvynQF31tvlj/Hbuts0RhNN8iXqr3U98U1grr/ChTgpPzKxq+ge9zbLp7GWOltwfa/it+Pugn+szKD8/u/FhVUQEAgCBwB8+jyMPhhb5YzXk/fE/Mlg60dwbaOwelgZWdVQo7aHx4HkryqFHMB6AgtT5bY6viZpqZ0zbkrt5Y/5czLx/zQOqJ+rTawF3ZeM73hiERxdfmoy4Ix/pGeVA48/KHn7p7xWJQ6j/tcG1vW9l4ziNCMbU90jPsnJlNy6cnAcM+GZQG9LDOHzAMh9VuUXU6i5jwKMUYS9/+TnwaodUNSgP3w/eWNjPiJusnOj9Sg9LAt59P80lSh4++O9Y3SvkqVTVaoGQkvkXmhCJaspjbo2wsyt0V+pf0tfmmbn39lzOqi0V6hsXzIX9YWNlZRdfyAACngFQZaAW+Nt+zOz/atYbkUWas/44Yb4kocHn/lb1tbd9thnojOWymmdzd++3n05ZJJlO3HvC65NLxQVWpC/qJzmNQubt36tYDy1VIHaH07e+Er2QNM4hBubKxSDuc6qr5EqZuPahYHl+bL337O8t94mvzpf/1vfjo5ZxwUtezSKw1d3iHMNY3Ku7P/OFrcZLdtwLtndXGwUubWf7iJdIzbHccB6WBb0c+Pi3whsV2vh2ZtnwOlDpC4nKoFSwAAFQLgTu0AofWhys777u8CLR3Or/oH+sb5eEs/9a54rCZZs6JE2M3P0aB7tvRMsZ4/gljzDmwljpCvAyW+1NMg6GmqLxWmyrR3ZTHOZeGMSYuZ+U/TsncjTmLxO6JqnLqL1oSt8i54yO5q5c/FWh72w6Pec718XJXr+X7KwAAcA+BO3ge5ebaTV3Lb9AHNwkhkX9+ZvjW+eG8mQaBduveWri/Zm//4b4YvK5U6ghVzM3gBbas1xcbnlIzUx7PiQ1YHbjZJ5TE8r7w9jXu9T6LeMxKzycOLThFUsd1/tnc98up5Q8LvACD0kDFp0HxIdDh0uAbboefdRVb6AIAgCXkuIPnSVeu200qHR+Ibe8qJsDwmc9hYOGwmWbURtOB+5p7g/ybAl9FVQlFlo8HUkdo6tbXj35JMWGfx/rvuEy7d7lPpI4QD9mpl/eqFlWTs2isb5SnGK3l19fy63J3r9x1g3pMt3vKoscJitcpb54SzQPtAbm7l3LrnQtjibpXJ252daC909fmo83R9l8xZv3OoX5nHQAAEATu4HkO0YBYr6lsLLJqqtG1/e3Gt0B1UFXQU7+usvkupejT/Re1Pev9OSgN8NiUMSZ397rvXd6he/K/zNbdyw+93euFep9FgfbOqVsPxP43tb1tMWNE7u4dDA1EeoYNJbkfvpd/85q/r6BhmBhjVIxAe6fc3Rvp+ayqc1XcIpehv3TlesX8FvH9AAAA1ANSZcDzLsh4LlVtpoeqNvUTXawAzr957TKNpLYacBZFeoZ/uvtvc2hOaLgoc6/q1GR26tYDyxJSHB9/8TD+88Omvyby0FkHAOBRqHGHVibWJsb679j1em6pMdXtTQ+2qhVo76TAelAacOjnxMyuOlbsp5x96KYwffs7N1GgQ9rGX2YTqopP0el+Dc8iqndnt96PrUup//k3r8XsGnPP9+xDJzw0Wmr+8HX+sFB6+5dmA9reNnUeX+0WlY4P3FS6iw9XAADQLAjcoZWJubml45Lc5TYHo2E8172GdCVEgXv+TeHszzYrO6u8gplngVNX7m76gnQZTYoB7ilq1utxFkkdIbEk+cPC0mamYuf6vjbfoPRxwCz9RF/Lbygbi++PiOv+0cWEfjfHUczyd5meBAAA9YBUGWhxg1I/fRD7MWyYinG55zq0Hgy9jxpLxwdn7O0+f1jgOd80/BDvl1AM6B2I4xPZKR0f8Fz8U4wR++GL9T2LqNN6sRMeN9+ipqvp2x+HeXLdWc3HHoHEIWPtiN23810BAACNh8AdWlyk530XdfqJTr2XOBBrFg2q6r5DrJUUh8w0oCpS94s9Dwalfp7EIg69aceu229KiaHPgfbOqVtfM8bG+kZ5bD3z8rGbkaGeqE+dyyC2B+VPHdWq1VnkLNAeONW3TtOxDN+i0vEBH6rWkniWBto7L0iTEgCA8wmBO7Q4uauXx4La3rZDGz5tfzv+4iEfmN1A7OquYj26mK6gbDy3rJnOHxb4KKEe4mvz8V5fqPN1u/C6dHwQ//lh/MU3ljPMvPyBVw9/O/JxhFexB3c3DwY02KrlKijI5gdL6ghVO7wod/azSNvf/uLZfzn3w6Ptv6IPYn5//OeHT9SnDlXp4tnlPoN/rC/K9/PKzqpd7K7tb4tn6VSkcv4SAADUD3LcofVN3fo6/qEln7a3/cWz8UGpfzA04Pu7T+q4nj98XXp7sFbgnRseWCZYy129PNFZ2Vj0tV2i7kHyhwVl4/n98D2x4pOGoOfdb8dfPIz0DNMaGWP6n/paYZ3XYvLFesVY3yivhS0dH9xd/GpQGhgMDQQud9L+pA3kWSUzKz8YGpsqG895CGsY+pTGTL27+BX7MFZR+l/fMxu06/KHhbuLX9EeDlzu9LX5KD1mZWdV7H99KvL1Wbb6jGcRZaI/+iVFA0LJXb2By+9rr7X97dLbg6XNDH/84K1+tf1t6jVyaTND35KuhKSO67SNtJn8lU5VQ3TRfuYPGEubmbX8+ljfKC2fDuLKf1bFJ42xvtFz1UEqAMAFhMAdWp+vzZe+/R2vl6XEaLscFV+bz6753VjfKE/2faI+FSspzePGG7rftltjpGe4dHzguSaqFJLyLXLu013u7hWjdm1/m+/GSM+wuWsaqSN0P3yPdq+2t61sPLfr2X2sb3Qtv0472fmYpm9/d8Ycj7OcReIhLh0fLG1mHBKopI7QWF+UPq/s/Mr/XrHj/Pvhe9V29k9b9KHdrVPOzFjfqOEMBwCAxkOqDFwIFHXF+u84RzZyd2/69nd21Zax/i/tJpkjKlqjQ2tIX5sv1n/HTd8p59PUrQdTtx44J1gH2ju//XxaDPjE1HYK0C2/KCa7KxuLDgHrszs/OvdKKXf3PrvzY00ys099FgXaO9O3v3fTj+RY36j4duJ++F7F1fHlnyIRSOoIPbvzo3PBzAcRAACaBTXu4FU82nDZOI+Ss///9u7Yt5HsvgP4LHyxfcDBmS1yd7ATYHS3XQCLSmfDwJKNL1VAAbkuwQ67FAEkISnciQJcBDgg4v0FnAVSGiC3O+AKcqt00VwAp7JBHmC7cKMpEmwSw2GKiWlmSFEUSZF6us+n0pLDN783ywW+evubN3/5Z83Pfvp52ZxQLp2+8413nr37QdkAfWu8+9FHf//nf/rDn/xL72e//nnZdlw+uH66RFo544//4rzsKin37Z5W/oMPv/+DZ98vK5+edOFE7jTN+zt4oXJz8c9++nn+iy9mF5Vrf/Ld97/1XjnHykeyf/6n6V6Ey1eIf/TR3/3D7/a5/+zfPq8s28/62/rflFtJVi7yKn+nO/sW1f74u52PPymbW/Jf/Gu5I/v01O//4XuzX4nK6dLv/VX5qXL79mm/+5LrvPrs3v/We52PP5l+S6ebyj/7ow+fvfvBksGnH199Y/s7HQzAvCeTyeReTzD7bJFn7364xtNPAGbV//Gj8of0e399UxcNwHKzPYp+pSQUWmUAACAAgjsAAARAcAcAgAAI7gAAEADBHQAAAmA7SB6u4XAYRVG9Xt93IV854/F4PB4nSZIkyb5rWWDzjSwBIESCOw9Xo9GIoui+dyxl3suXL9vtdrvdPj8/33ctC3Q+/mTfJQDAHmiVAQCAAAjuAAAQAMEdAAACILgDAEAABHcAAAiA4A4AAAEQ3AEAIACCOwAABEBwBwCAAAjuAAAQAMEdAAACILgDAEAABHcAAAiA4A4AAAF4a98FwC0ajca+S/jKGY/H+y4BAKgS3HnohsPhvksAANg/wZ2HazAY7LuE9Z2dneV5fnl5WavV9l3LmpIk2XcJAMDvCe48XPV6fd8lrC+O4yiKarVa0LMAAB4ON6cCAEAABHcAAAiA4A4AAAEQ3AEAIACCOwAABEBwBwCAAAjuAAAQAMEdAAACILgDAEAABHcAAAiA4A4AAAEQ3AEAIACCOwAABEBwBwCAAAjuAAAQAMEdAAAC8NYuT/bmv9/s8nSwR7/9n99GUfTmN//57//1H/uuBQB4DHYa3H9Z/GqXp4M9evObN1EU/bL41c9+/fN91wIAPAZaZQAAIACCOwAABODeW2Xe/vo37/sU8AB97cnXoih6+w+++c433tl3LQDAY3Dvwf078bfv+xTwAL399bejKPpO/O1n736w71oAgMdAqwwAAARAcAcAgAAI7gAAEADBHQAAAiC4AwBAAAR3AAAIgOAOAAABENwBACAAgjsAAARAcAcAgAAI7gAAEADBHdaX53me53f9VFEU/X7/PuoBAB4xwR3WlyRJq9U6ODi4uLgYj8e3Hp9l2fHx8dOnT+M43kF5AMBjIrjD+uI47vV6RVG02+2Dg4Ojo6Msy4qiqBzW7/dbrdbTp09brVa/37+8vKzX63spGAAI15PJZLLvGiBs/X7/+Ph49pVms5nn+Xg8nv4wfaterw8Gg53XCAAET3CHLTg+Pl6lbT2O46urqyRJdlASAPDIaJWBLeh2u6u0rZ+fn0vtAMB6BHfYgjiOLy8vlx9Tr9dPT093Uw8A8PholYGtaTQaw+HwpncHg4F7UgGAtVlxh605Pz+/6a00TaV2AGATVtxhm266S3U0GuluBwA2YcUdtmlhp3uaplI7ALAhwR22KUmSNE0rLy5poQEAWJHgDltWiemW2wGArdDjDts3u72M7nYAYCusuMP2TRfdm82m1A4AbIUVd7gXBwcH4/HY3u0AwLZYcYd7cXJykiSJ1A4AbMtb+y4AHqf5vWUAADahVQYAAAKgVQYAAAIguAMAQAAEdwAACIDgDgAAARDcYYF+v39xcVEUxb4LAQD4P7aDZH0XFxe3HjN9hmhYjo+Pyx8CrR8AeHxsB8n6njx5cusxgX7Bjo+Ph8Nhr9fzBCUA4IEQ3FlfGdwD/Qo1Go3hcBho8ev5Ck4ZAB4TPe4AABAAPe7syHA4jKLops6TPM+Loqi8OxwO4ziu1WqzxywZZOEZZ0eYfb0cqvy5NDvswnpWGXyqKIo8z5MkSZJkxY/cdKLKRYjjeDrm1Hg8Ho/HURTVarU4jhdWu2TKZbVLaquUcdMEp2ff1vQBgN+bwLru9BVafnCZIOc/Uq/XJ5NJu92uhNE0Ta+vrxcONRqN0jSdPTiO49PT0+nxq/xbWFjPZDK5urpqNpuVwdvt9nwxg8EgiqLyrfl62u32bRfs/12E6+vr6UWofLbX61VyfLPZvLq6qgyyfMplteXVXlLGwgnOXvDBYLDd6QMAU1bceejKzuw0TQ8PD2u12uvXr7Msy7Isz/PBYFAJ9FmWnZ2dFUWRpunz58+TJMnz/NWrV51OZzgclseXmfLs7KwcYfVKsixrtVpRFFUGb7fbWZb1er35teSiKA4ODqIoOj09PTw8jOO4rL/dbo/H4263u+Kpy5tlm81mrVZ7/vz59PVWq5VlWZIkl5eX5dlfvXqVZVm/3+92u7N5er0p36ooiqOjoyiK0jSdXV+fvruV6QMAUWTFnQ3c6Su0/OCbVtyjKIrjuLJ+PJlMykhaWbi9urq66fhutxvHca/XW37GJe8uHzyKolqtNvviNB/XarXKevz19XUZsqfr00ssuQjtdjuKojRNK6+PRqOyZWU0Gi2fVKXaNVbcF05w+bt3mj4AMOXmVB666Vpy5cUoirIsm33x7OwsiqKFK99pmo5Go0qXy50sH7zdbud53ul05j/Y6/Uq/y0Qx3G5PfzLly9XPPv8RSiKotPp1Gq1+XXrJEm63W5RFKtstL+5+Qkuf3eN6QMAkV1l2NyTm20+eBzHlQ7p6ev1er28HbM0Ho/LmyNvuqN0Sbi81a2Dn5ycRIuSaLPZnL+RtHy9HHbFAuYvQr/fL4qiPO+8Wq3WbDb7/f6K46+tXq8vnGBpW9MHACK7yrC5smHjnqy+A0mZAjdZU99k8HKzlDzPK69vZQeVhb8tfPnll1EUFUUxu0tMpaRya5d73cVl+Q4/NpABgC0S3NlU2fbAJiv6aysbeJYot4AEAB4BwR22Yy+NH4PBYMVd7QGA0OlxZ0eWd03MN5msN/49dXXfOnj5/KNdZujDw8Moil6/fr2V0e77bwcA2Jzgzo4syb5Zlm3e0VHexprn+U3xepP0eevgZcvKixcv1j7FXZX3fXY6nZsu3Z0uafk01uFwuPBTn3766ZpVAgDbI7izI2WoPTs7q7SUDIfDWxu1V3R+fh7HcavVmo/XrVbr6Oho9j7OcreTyoaSaw/e7/fr9frCDXDuz+XlZVEUjUZj/neSTqdzdHRUudTLp1wW32q1Ktm90+msfpUAgPujx50dKXNtlmVHR0fTXQLLNew0Tcv9Fjc8RZIkg8Gg0WgcHx+X+yFGUVQURb/fH4/HtVpttiHkxYsX5WNWv/jiiziOx+NxkiRLbrS9dfBer7dh/XfVbDa73W75O0n5UNVKSZX7ZZdP+eTkpN/v9/v9PM+bzWb52fKP5Vl2PDsAoGrfT4AiYGt8hbrd7mx6Lh8VNLn5yalLnuV503NAr6+v2+327Pbh5VOK5o/s9XrTw+I4nn0O65LBT09PVxm8fHRo5dmuq89u9cNGo1GaprMZ/aaSJkunPFl06er1evl80/kkVDU5AAAA/ElEQVQylk9wW9MHAKaeTH4Xv2CXiqLYwf6JK55lvWJ2M4U7Wb2kW498gLMDgK84wR0AAALg5lQAAAiA4A4AAAEQ3AEAIACCOwAABEBwBwCAAAjuAAAQAMEdAAACILgDAEAABHcAAAiA4A4AAAEQ3AEAIACCOwAABEBwBwCAAAjuAAAQAMEdAAACILgDAEAABHcAAAiA4A4AAAEQ3AEAIACCOwAABEBwBwCAAAjuAAAQAMEdAAACILgDAEAABHcAAAiA4A4AAAEQ3AEAIACCOwAABEBwBwCAAAjuAAAQAMEdAAACILgDAEAABHcAAAiA4A4AAAEQ3AEAIAD/CwaFLlzLgW3NAAAAAElFTkSuQmCC)"
      ],
      "metadata": {
        "id": "FRnIuhGBgTwu"
      }
    },
    {
      "cell_type": "markdown",
      "source": [
        "### **ToDo 1:** Create a function `welcome_message` that takes a string `message` as input and prints it.\n"
      ],
      "metadata": {
        "id": "kkMe3r4LXRPO"
      }
    },
    {
      "cell_type": "code",
      "source": [
        "# ToDo 1: Define the function 'welcome_message'\n",
        "\n",
        "def welcome_message(message):\n",
        "    pass  # Replace 'pass' with your code\n",
        "\n",
        "# Test your function\n",
        "welcome_message(\"Welcome to Python programming!\")\n"
      ],
      "metadata": {
        "id": "jxdXmM8dXQPF"
      },
      "execution_count": null,
      "outputs": []
    },
    {
      "cell_type": "markdown",
      "source": [
        "## **2. Function Arguments & Return Values**\n",
        "You can pass data to functions using arguments and get data back using the `return` statement.\n"
      ],
      "metadata": {
        "id": "sX8sSU7LXbqR"
      }
    },
    {
      "cell_type": "markdown",
      "source": [
        "**Return** statement in a function :\n",
        "\n",
        "The return statement is used to quit a function it is executing and to pass the control back to the statement from where it was called.The syntax of the return statement is as below.\n",
        "\n",
        "\n",
        "`return [expression_list / value]`\n",
        "\n",
        "**Features of the return statement:**\n",
        "\n",
        "The return statement can have an expression which gets evaluated and the value is returned or a value directly can be returned.\n",
        "\n",
        " If there is no expression in the statement then the function will return None.\n",
        "\n",
        "If the function does not have a return statement as we have done a few functions in previous examples, then the function will return None.\n",
        "Multiple values can be returned by a Python function"
      ],
      "metadata": {
        "id": "ZZN--Yc4gluo"
      }
    },
    {
      "cell_type": "code",
      "source": [
        "# Example: Function with Arguments and Return Value\n",
        "\n",
        "def add(a, b=10):\n",
        "    return a + b\n",
        "\n",
        "# Calling the function\n",
        "result = add(5)\n",
        "print(result)  # Output: 15\n"
      ],
      "metadata": {
        "id": "7IhJBMUaXeKy"
      },
      "execution_count": null,
      "outputs": []
    },
    {
      "cell_type": "code",
      "source": [
        "def addavg():\n",
        "  return a+b, (a+b)/2\n",
        "\n",
        "def mul():\n",
        "  c=a*b\n",
        "  return c\n",
        "\n",
        "a=int(input(\"Enter Value of a  \"))\n",
        "b=int(input(\"Enter Value of b  \"))\n",
        "\n",
        "print(\"sum and average of a and  b are   \", addavg())\n",
        "print(\"Multiplication a and  b are   \", mul())\n"
      ],
      "metadata": {
        "colab": {
          "base_uri": "https://localhost:8080/"
        },
        "id": "qcA7T3fbgj85",
        "outputId": "178e5f95-fc56-466f-dfc4-142eaf25b9f0"
      },
      "execution_count": null,
      "outputs": [
        {
          "output_type": "stream",
          "name": "stdout",
          "text": [
            "Enter Value of a  10\n",
            "Enter Value of b  2\n",
            "sum and average of a and  b are    (12, 6.0)\n",
            "Multiplication a and  b are    20\n"
          ]
        }
      ]
    },
    {
      "cell_type": "markdown",
      "source": [
        "**ARGUMENT**\n",
        "\n",
        "An argument is an expression which is passed to a function by its caller, in order for the function to perform its task.\n",
        "\n",
        "It is an expression in the comma-separated list bound by the parentheses in a function call expression. Arguments are local to the particular function.\n",
        "\n",
        "These variables are placed in the function declaration and function call.\n",
        "These arguments are defined in the calling function.\n",
        "\n",
        "**PARAMETER**\n",
        "\n",
        " Parameters are variables defined in the function to receive the arguments.\n",
        "\n",
        " Parameters are those defined in the function definition.\n",
        "\n",
        " Parameters are available only with in the specified function and parameters belong to the called function.\n",
        "\n",
        " Parameters are the local variables to the function.\n",
        "\n",
        " The Parameters occupy memory only when the function execution starts and are destroyed when the function execution completes."
      ],
      "metadata": {
        "id": "6yIvxdelhCrs"
      }
    },
    {
      "cell_type": "code",
      "source": [
        "def add(a,b):\n",
        "  return a+b\n",
        "\n",
        "\n",
        "\n",
        "print(add(5,10))"
      ],
      "metadata": {
        "colab": {
          "base_uri": "https://localhost:8080/"
        },
        "id": "RmRYh97lhLhl",
        "outputId": "ba9f0f05-bb96-4b5b-fd47-3d6d874832e6"
      },
      "execution_count": null,
      "outputs": [
        {
          "output_type": "stream",
          "name": "stdout",
          "text": [
            "15\n"
          ]
        }
      ]
    },
    {
      "cell_type": "markdown",
      "source": [
        "### **ToDo 2:** Create a function `multiply` that takes two arguments `x` and `y` and returns their product.\n"
      ],
      "metadata": {
        "id": "ZdDygZDvXgGE"
      }
    },
    {
      "cell_type": "code",
      "source": [
        "# ToDo 2: Define the function 'multiply'\n",
        "\n",
        "def multiply(x, y):\n",
        "    pass  # Replace 'pass' with your code\n",
        "\n",
        "# Test your function\n",
        "result = multiply(6, 7)\n",
        "print(result)  # Expected Output: 42\n"
      ],
      "metadata": {
        "id": "JR5YToIaXg3U"
      },
      "execution_count": null,
      "outputs": []
    },
    {
      "cell_type": "code",
      "source": [
        "def evaluateboy(isRich, isYoung, isHandsome):\n",
        "\tif(isRich):\n",
        "\t\tprint('The boy is RICH!')\n",
        "\tif(isYoung):\n",
        "\t\tprint('The boy is Right Age for you')\n",
        "\tif(isHandsome):\n",
        "\t\tprint('The boy is GOOD LOOKING!')\n",
        "\n",
        "evaluateboy(True,True, False)"
      ],
      "metadata": {
        "colab": {
          "base_uri": "https://localhost:8080/"
        },
        "id": "ju2e62n3hV57",
        "outputId": "f917dcea-b78b-4048-b8fe-5cfa0615be86"
      },
      "execution_count": null,
      "outputs": [
        {
          "output_type": "stream",
          "name": "stdout",
          "text": [
            "The boy is RICH!\n",
            "The boy is Right Age for you\n"
          ]
        }
      ]
    },
    {
      "cell_type": "markdown",
      "source": [
        "It is very difficult to understand what these arguments are.This can be changed by using **Keyword arguments.**"
      ],
      "metadata": {
        "id": "VlY11BxnhbhH"
      }
    },
    {
      "cell_type": "code",
      "source": [
        "def evaluateboy(*, isRich, isYoung, isHandsome):\n",
        "\tif(isRich):\n",
        "\t\tprint('The boy is RICH!')\n",
        "\tif(isYoung):\n",
        "\t\tprint('The boy is Right Age for you')\n",
        "\tif(isHandsome):\n",
        "\t\tprint('The boy is GOOD LOOKING!')\n",
        "\n",
        "evaluateboy(isHandsome = True, isYoung = False, isRich = True)\n",
        "\n",
        "#Notice the sequence in which the arguments are passed. They are not in the same sequence as they are in the function definition.\n",
        "\n",
        "# This passing of arguments in any order by passing the names and assigning them to the right parameters is **called keyword arguments.**\n"
      ],
      "metadata": {
        "colab": {
          "base_uri": "https://localhost:8080/"
        },
        "id": "Sz0S2cHzhXLn",
        "outputId": "38264395-ec3e-4f6b-a1d6-7bc8c9011029"
      },
      "execution_count": null,
      "outputs": [
        {
          "output_type": "stream",
          "name": "stdout",
          "text": [
            "The boy is RICH!\n",
            "The boy is GOOD LOOKING!\n"
          ]
        }
      ]
    },
    {
      "cell_type": "markdown",
      "source": [
        "An **anonymous function** is a function without a name.\n",
        "\n",
        "\n",
        "Regular functions are defined using the def\n",
        "\n",
        "keyword. Similarly, anonymous functions are\n",
        " defined by using the **lambda keyword.**\n",
        "\n",
        "So, anonymous functions can also be referred to as **lambda functions.**"
      ],
      "metadata": {
        "id": "uwV_OAFzhqg1"
      }
    },
    {
      "cell_type": "markdown",
      "source": [
        "The syntax of a lambda function in Python:\n",
        "\n",
        "`lambda arguments: expression`\n",
        "\n",
        "Features of lambda function:\n",
        "\n",
        "They can be used anywhere we need regular function objects.\n",
        "\n",
        "They can have many arguments but can have only one expression.\n",
        "\n",
        "The expression is evaluated first and a value is returned."
      ],
      "metadata": {
        "id": "z8GfyNP3ht0E"
      }
    },
    {
      "cell_type": "code",
      "source": [
        "tax=lambda x: x*20/100\n",
        "sal=int(input(\"Please Enter your  salary \"))\n",
        "print(\"Tax to be paid\", tax(sal))\n"
      ],
      "metadata": {
        "colab": {
          "base_uri": "https://localhost:8080/"
        },
        "id": "b2j6FOAPhxCm",
        "outputId": "6cba13be-c293-4f07-b281-df481562b57f"
      },
      "execution_count": null,
      "outputs": [
        {
          "output_type": "stream",
          "name": "stdout",
          "text": [
            "Please Enter your  salary 10\n",
            "Tax to be paid 2.0\n"
          ]
        }
      ]
    },
    {
      "cell_type": "markdown",
      "source": [
        "**The map(f, sequence) function ** applies a function f to each element of a sequence and returns a transformed list.\n",
        "\n",
        "\n",
        "If a sequence = [a1, a2, a3, a4,....,an] and a function f is given, then\n",
        "\n",
        "\n",
        "`map(f, sequence) => iterator over [f(a1), f(a2), f(a3),....,f(an)]`"
      ],
      "metadata": {
        "id": "7OOqNd6plSOM"
      }
    },
    {
      "cell_type": "code",
      "source": [
        "list1 = [1, 2, 3, 4, 5]\n",
        "def squares(x):\n",
        "       return x ** 2\n",
        "\n",
        "print(list(map(squares, list1)))"
      ],
      "metadata": {
        "colab": {
          "base_uri": "https://localhost:8080/"
        },
        "id": "HJ4GYVHWlSzx",
        "outputId": "1046be2a-dc61-4f9b-8746-4837bea5b242"
      },
      "execution_count": null,
      "outputs": [
        {
          "output_type": "stream",
          "name": "stdout",
          "text": [
            "[1, 4, 9, 16, 25]\n"
          ]
        }
      ]
    },
    {
      "cell_type": "code",
      "source": [
        "print(list(map(lambda x: x ** 2, list1)))"
      ],
      "metadata": {
        "colab": {
          "base_uri": "https://localhost:8080/"
        },
        "id": "ediS6esTlcnw",
        "outputId": "2f7828d0-5d86-434b-90d7-c5ade48163e8"
      },
      "execution_count": null,
      "outputs": [
        {
          "output_type": "stream",
          "name": "stdout",
          "text": [
            "[1, 4, 9, 16, 25]\n"
          ]
        }
      ]
    },
    {
      "cell_type": "markdown",
      "source": [
        "**The filter(f, sequence) **\n",
        "\n",
        "function applies the function f to each element in the sequence.\n",
        "\n",
        "\n",
        "This function returns an iterator to a sequence of elements where each element satisfies the condition in the function f.\n",
        "\n",
        "\n",
        "Let's consider an example:\n",
        "consider two lists\n",
        "\n",
        "a = [1, 2, 3, 5, 7, 9]\n",
        "\n",
        "b = [2, 3, 6, 7, 9, 8]\n",
        "\n",
        "\n",
        "A list with elements that are common to both the lists i.e, intersection has to be returned.\n"
      ],
      "metadata": {
        "id": "NWmv8q72lmYJ"
      }
    },
    {
      "cell_type": "code",
      "source": [
        "a = [1, 2, 3, 5, 7, 9]\n",
        "\n",
        "b = [2, 3, 6, 7, 9, 8]\n",
        "\n",
        "print(list(filter(lambda x : x in a, b)))"
      ],
      "metadata": {
        "colab": {
          "base_uri": "https://localhost:8080/"
        },
        "id": "xC9ya9IElqbb",
        "outputId": "18a9401f-63df-4e0f-9dbd-36734ed5d781"
      },
      "execution_count": null,
      "outputs": [
        {
          "output_type": "stream",
          "name": "stdout",
          "text": [
            "[2, 3, 7, 9]\n"
          ]
        }
      ]
    },
    {
      "cell_type": "code",
      "source": [
        "# A list comprehension can be written using\n",
        "print([x for x in a if x in b])\n"
      ],
      "metadata": {
        "colab": {
          "base_uri": "https://localhost:8080/"
        },
        "id": "d99rSLxilyJR",
        "outputId": "accec087-7ab3-4c3a-efe5-dfe09b1dac25"
      },
      "execution_count": null,
      "outputs": [
        {
          "output_type": "stream",
          "name": "stdout",
          "text": [
            "[2, 3, 7, 9]\n"
          ]
        }
      ]
    },
    {
      "cell_type": "markdown",
      "source": [
        "## **3. Scope of Variables**\n",
        "Understanding the scope of variables (local vs. global) is important in functions.\n"
      ],
      "metadata": {
        "id": "ZtynW2A_XjeG"
      }
    },
    {
      "cell_type": "code",
      "source": [
        "global_var = 10  # Global variable\n",
        "\n",
        "def my_function():\n",
        "    local_var = 5  # Local variable\n",
        "    print(global_var)  # Accessing global variable\n",
        "    print(local_var)\n",
        "\n",
        "my_function()\n",
        "#print(local_var)  # This would cause an error because local_var is not accessible outside the function"
      ],
      "metadata": {
        "id": "ttL1IQO8Z_HS",
        "colab": {
          "base_uri": "https://localhost:8080/"
        },
        "outputId": "836d89f2-7d39-418f-f9b5-db8a67cfada3"
      },
      "execution_count": null,
      "outputs": [
        {
          "output_type": "stream",
          "name": "stdout",
          "text": [
            "10\n",
            "5\n"
          ]
        }
      ]
    },
    {
      "cell_type": "code",
      "source": [
        "# Example: Global and Local Scope\n",
        "\n",
        "x = 10  # Global variable\n",
        "\n",
        "def change_global():\n",
        "    global x\n",
        "    x = 5  # This changes the global variable\n",
        "\n",
        "change_global()\n",
        "print(x)  # Output: 5\n"
      ],
      "metadata": {
        "id": "qEdQBGsZXlad",
        "colab": {
          "base_uri": "https://localhost:8080/"
        },
        "outputId": "b1dcf7c4-fd62-4f3f-d599-1d4312359b2e"
      },
      "execution_count": null,
      "outputs": [
        {
          "output_type": "stream",
          "name": "stdout",
          "text": [
            "5\n"
          ]
        }
      ]
    },
    {
      "cell_type": "markdown",
      "source": [
        "### **ToDo 3:** Create a function `update_value` that updates a global variable `value` to 100.\n"
      ],
      "metadata": {
        "id": "aaH23MfGXq2i"
      }
    },
    {
      "cell_type": "code",
      "source": [
        "# ToDo 3: Define the function 'update_value'\n",
        "\n",
        "value = 0  # Global variable\n",
        "\n",
        "def update_value():\n",
        "    pass  # Replace 'pass' with your code\n",
        "\n",
        "# Test your function\n",
        "update_value()\n",
        "print(value)  # Expected Output: 100\n"
      ],
      "metadata": {
        "id": "xB9ubWAbXsHo",
        "colab": {
          "base_uri": "https://localhost:8080/"
        },
        "outputId": "9490f8ee-bb73-47dd-fb81-a6386724fabe"
      },
      "execution_count": null,
      "outputs": [
        {
          "output_type": "stream",
          "name": "stdout",
          "text": [
            "0\n"
          ]
        }
      ]
    },
    {
      "cell_type": "markdown",
      "source": [
        "## **4. Recursion**\n",
        "Recursion occurs when a function calls itself to solve a problem.\n"
      ],
      "metadata": {
        "id": "bIkNVhZiXupd"
      }
    },
    {
      "cell_type": "code",
      "source": [
        "# Example: Recursive Function for Factorial\n",
        "\n",
        "def factorial(n):\n",
        "    if n == 1:\n",
        "        return 1\n",
        "    return n * factorial(n - 1)\n",
        "\n",
        "# Calling the function\n",
        "print(factorial(5))  # Output: 120\n"
      ],
      "metadata": {
        "id": "6Z_G5d-lXw30",
        "colab": {
          "base_uri": "https://localhost:8080/"
        },
        "outputId": "3e17d58f-de26-4a77-fb23-005ac2c9c764"
      },
      "execution_count": null,
      "outputs": [
        {
          "output_type": "stream",
          "name": "stdout",
          "text": [
            "120\n"
          ]
        }
      ]
    },
    {
      "cell_type": "markdown",
      "source": [
        "### **ToDo 4:** Create a recursive function `sum_numbers` that returns the sum of all numbers from 1 to `n`.\n"
      ],
      "metadata": {
        "id": "N7dUH6ETXzZB"
      }
    },
    {
      "cell_type": "markdown",
      "source": [
        "## **5. Anonymous Functions (Lambda)**\n",
        "Lambda functions are small anonymous functions that can have any number of arguments but only one expression.\n"
      ],
      "metadata": {
        "id": "lkt2XYcdX3u-"
      }
    },
    {
      "cell_type": "code",
      "source": [
        "# Example: Lambda Function\n",
        "\n",
        "square = lambda x: x * x\n",
        "print(square(5))  # Output: 25\n"
      ],
      "metadata": {
        "id": "z2YDgGLeX7in"
      },
      "execution_count": null,
      "outputs": []
    },
    {
      "cell_type": "markdown",
      "source": [
        "### **ToDo 5:** Create a lambda function `add_five` that adds 5 to the input number.\n"
      ],
      "metadata": {
        "id": "YxJHNoUGX9f_"
      }
    },
    {
      "cell_type": "code",
      "source": [
        "# ToDo 5: Define the lambda function 'add_five'\n",
        "\n",
        "add_five = lambda x: None  # Replace None with your code\n",
        "\n",
        "# Test your function\n",
        "print(add_five(10))  # Expected Output: 15\n"
      ],
      "metadata": {
        "id": "7-J3HJECYAjw"
      },
      "execution_count": null,
      "outputs": []
    },
    {
      "cell_type": "code",
      "source": [
        "# ToDo 4: Define the recursive function 'sum_numbers'\n",
        "\n",
        "def sum_numbers(n):\n",
        "    pass  # Replace 'pass' with your code\n",
        "\n",
        "# Test your function\n",
        "print(sum_numbers(10))  # Expected Output: 55\n"
      ],
      "metadata": {
        "id": "GCwLulEOX3D_"
      },
      "execution_count": null,
      "outputs": []
    },
    {
      "cell_type": "code",
      "source": [
        "# Example: Create and Use a Module\n",
        "\n",
        "# Step 1: Create a module named 'mymodule.py' with the following code:\n",
        "# def greet(name):\n",
        "#     print(f\"Hello, {name}!\")\n",
        "\n",
        "# Step 2: Import and use the module\n",
        "import mymodule\n",
        "\n",
        "mymodule.greet(\"Alice\")\n"
      ],
      "metadata": {
        "id": "o3HtNQDzYEfe"
      },
      "execution_count": null,
      "outputs": []
    },
    {
      "cell_type": "markdown",
      "source": [
        "### **ToDo 6:** Create a module `math_operations` with a function `subtract(a, b)` that returns the difference of `a` and `b`.\n"
      ],
      "metadata": {
        "id": "m3Eu66jxYGic"
      }
    },
    {
      "cell_type": "code",
      "source": [
        "# ToDo 6: Create the module 'math_operations' and define the function 'subtract'\n",
        "\n",
        "# Step 1: Create a file named 'math_operations.py' with the following code:\n",
        "# def subtract(a, b):\n",
        "#     return a - b\n",
        "\n",
        "# Step 2: Import and use the module\n",
        "# import math_operations\n",
        "# print(math_operations.subtract(10, 3))  # Expected Output: 7\n"
      ],
      "metadata": {
        "id": "3pE9x8LjYJOa"
      },
      "execution_count": null,
      "outputs": []
    }
  ]
}