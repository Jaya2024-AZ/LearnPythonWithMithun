{
  "nbformat": 4,
  "nbformat_minor": 0,
  "metadata": {
    "colab": {
      "provenance": []
    },
    "kernelspec": {
      "name": "python3",
      "display_name": "Python 3"
    },
    "language_info": {
      "name": "python"
    }
  },
  "cells": [
    {
      "cell_type": "markdown",
      "source": [
        "# List"
      ],
      "metadata": {
        "id": "kTRHwSRw2z1O"
      }
    },
    {
      "cell_type": "markdown",
      "source": [
        "**List is a data type of Python and is used to store sequence of items.**\n",
        "\n",
        "The items of a list need not be of the same data type.\n",
        "\n",
        "Lists are ordered sequence of items.\n",
        "\n",
        "\n",
        "Let us consider an example:\n",
        "L1 = [56, 78.94, \"India\"]\n",
        "In the above example, L1 is a list, which contains 3 elements. The first element is 56 (integer), the second is 78.94 (float), third is \"India\" (string).\n",
        "\n"
      ],
      "metadata": {
        "id": "JLqfpZJlJcWY"
      }
    },
    {
      "cell_type": "markdown",
      "source": [
        "\n",
        "Lists are ordered, we can retrieve the elements of a List using \"index\".\n",
        "\n",
        "A List in general is a collection of objects. A List in Python is an ordered group of items or elements.\n",
        "List can be arbitrary mixture of types like numbers, strings and other lists as well.\n",
        "\n"
      ],
      "metadata": {
        "id": "vDpS7Z1UJjBI"
      }
    },
    {
      "cell_type": "markdown",
      "source": [
        "The main properties of Lists are :\n",
        "\n",
        "\n",
        "\n",
        "1.   Elements in a list are ordered\n",
        "2.   They can contain objects of different types\n",
        "\n",
        "1.   Elements of a list can be accessed using an index similar to accessing an element in an array\n",
        "\n",
        "1.  A List can contain other lists as their elements\n",
        "2.   They are of variable size i.e they can grow or shrink as required\n",
        "\n",
        "2.  They are mutable which means the elements in the list can be changed/modified\n",
        "\n",
        "\n",
        "\n",
        "\n",
        "\n",
        "\n",
        "\n",
        "\n",
        "\n",
        "\n",
        "\n",
        "\n",
        "\n",
        "\n"
      ],
      "metadata": {
        "id": "wbTXLtBCJvHr"
      }
    },
    {
      "cell_type": "markdown",
      "source": [
        "We can declare a List using [] (square brackets).\n",
        "\n",
        "A list contains items separated by commas(,)\n",
        "\n",
        "We can create a list in two different ways.\n",
        "\n",
        "\n",
        "1.   One is using list() predefined method:\n",
        "\n",
        "\n",
        "list1 = list(sequence)\n",
        "\n",
        "print(type(list1))\n",
        "\n",
        "<class 'list>\n",
        "\n",
        "\n",
        "\n",
        "\n",
        "\n"
      ],
      "metadata": {
        "id": "hglMnNoVKKwB"
      }
    },
    {
      "cell_type": "markdown",
      "source": [
        "\n",
        "\n",
        "2.   Second way is using []:\n",
        "\n",
        "\n",
        "\n",
        "\n",
        "list2 = []\n",
        "\n",
        "print(type(list2))\n",
        "\n",
        "<class 'list'>"
      ],
      "metadata": {
        "id": "dlUPoM-ZLlE_"
      }
    },
    {
      "cell_type": "markdown",
      "source": [
        "\n",
        "\n",
        "**Create a List**                                                                                                                                         Create a comma separated list of elements and assign to variable a"
      ],
      "metadata": {
        "id": "k1nOne6fHIvN"
      }
    },
    {
      "cell_type": "code",
      "source": [
        "a = [2 ,3, 4, 5, 6, 7, 8, 9, 10]\n",
        "print(a)"
      ],
      "metadata": {
        "colab": {
          "base_uri": "https://localhost:8080/"
        },
        "id": "-hTbLnpMHGZD",
        "outputId": "6b43da38-b09e-4155-b313-44e71ee308ed"
      },
      "execution_count": null,
      "outputs": [
        {
          "output_type": "stream",
          "name": "stdout",
          "text": [
            "[2, 3, 4, 5, 6, 7, 8, 9, 10]\n"
          ]
        }
      ]
    },
    {
      "cell_type": "code",
      "source": [
        "for item in a:\n",
        "  print(item)"
      ],
      "metadata": {
        "colab": {
          "base_uri": "https://localhost:8080/"
        },
        "id": "hO4OjYNYBFUk",
        "outputId": "2f832515-455a-45cd-be0a-8a44d172817e"
      },
      "execution_count": null,
      "outputs": [
        {
          "output_type": "stream",
          "name": "stdout",
          "text": [
            "2\n",
            "3\n",
            "4\n",
            "5\n",
            "6\n",
            "7\n",
            "8\n",
            "9\n",
            "10\n"
          ]
        }
      ]
    },
    {
      "cell_type": "code",
      "source": [
        "list1 = []\n",
        "size = int(input(\"Enter length of the list: \"))\n",
        "for i in range(size):\n",
        "\te = input(\"Enter value: \")\n",
        "\tlist1.append(e)\n",
        "print(list1)\n",
        "print(type(list1))"
      ],
      "metadata": {
        "colab": {
          "base_uri": "https://localhost:8080/"
        },
        "id": "OGpIekRR3q37",
        "outputId": "b1a64670-387c-4627-eaf4-bdb276860a7c"
      },
      "execution_count": null,
      "outputs": [
        {
          "output_type": "stream",
          "name": "stdout",
          "text": [
            "Enter length of the list: 4\n",
            "Enter value: 1\n",
            "Enter value: 2\n",
            "Enter value: 3\n",
            "Enter value: 4\n",
            "['1', '2', '3', '4']\n",
            "<class 'list'>\n"
          ]
        }
      ]
    },
    {
      "cell_type": "markdown",
      "source": [
        "**Indexing**"
      ],
      "metadata": {
        "id": "e7NbwToOHyXd"
      }
    },
    {
      "cell_type": "markdown",
      "source": [
        "![image.png](data:image/png;base64,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)"
      ],
      "metadata": {
        "id": "qUCSk3Wl4LAE"
      }
    },
    {
      "cell_type": "markdown",
      "source": [
        "Access the item at position 0\n",
        "\n",
        "Access the item at position 8\n",
        "\n",
        "Access the last item using negative indexing"
      ],
      "metadata": {
        "id": "ZswQLRCoHRes"
      }
    },
    {
      "cell_type": "code",
      "source": [
        "a = [2 ,3, 4, 5, 6, 7, 8, 9, 10]\n",
        "print(a[0])\n",
        "\n",
        "print(a[8])\n",
        "\n",
        "print(a[-1])\n"
      ],
      "metadata": {
        "colab": {
          "base_uri": "https://localhost:8080/"
        },
        "id": "M2Ik5O5QHV4D",
        "outputId": "07787405-112b-4dfa-bf0f-59a45bc35ed1"
      },
      "execution_count": null,
      "outputs": [
        {
          "output_type": "stream",
          "name": "stdout",
          "text": [
            "2\n",
            "10\n",
            "10\n"
          ]
        }
      ]
    },
    {
      "cell_type": "markdown",
      "source": [
        "**Slicing**"
      ],
      "metadata": {
        "id": "og20AK_cH34N"
      }
    },
    {
      "cell_type": "markdown",
      "source": [
        "![image.png](data:image/png;base64,iVBORw0KGgoAAAANSUhEUgAAATQAAACkCAIAAACW8kU/AAAgAElEQVR4nO2deVwUR9rHn+4ZYE5mhkMGBEQdUCIqx4IxQoxn1Kx4QJLdqBFf0MTEDcY3r0kUNm5wybGuQqKbC14x+ppLhHWjEo0awriJsIx4RUVUIsgM58wwPQfM0e8fbSYEuYSZpoH6/jGf7uruep7qqV/X0dVVGEmSgEAgmAc+2A4gEIiuQeJEIBgKe7Ad6B21ofGdb58LEE0wWvSvzHmPNosPBz6xNDyZBnM36i+duHbQaNHLPKfSY3HHqZfEHO+q5vOvzv1IwvOmwSIAvHZkucwzImVGOm222iyG5eHrfUWBNFikKKzIbdLXAUBCxPMOuLEk49l/7u+VqosdN5zNqauHS2+fPnX1MA22OvLsgYl0mis4n1N6+zQ9tkpvny44n/OJ/E16zO3+7jV6DHWkTvPz/nN/d2CE96q1KpUqPz//fukqFIq1KesG+gAYGCpdtZdQCgB+7mNr1FU0WJw9cRkNVjqhNjT6CkPpsXWj/lJhRW5V84XooFn0WCy+WTAzJJ4eWwBQo72eczbjQOlO2iwCQK36JgAUVuQWVuQ6JMJ74qyqqir5voQgCJVKpVAoqECFQlFfX09t28PtvwRBOMQDBMU73z6XOjOLHlu+/LEzQ+LFHO+y6jM0mDtQunPF716hwZCdt+MPp8xInzAqgmZ9+rmPpRomp68VDDy2X9ucQqGwpKRk0aJFqS+lFhwueHzB4+np6bLxwXw+T6FQbNu2bdzYcbdv375+/XrB4QL5WfmZM3T8rwAg5nibzEYAqGu9PW3MPJqMcr10Jg09tgBgT/HrydP+QlvrSCAQAAhmypYWVxXSUHiazPqjl/dpTI0Npptl1WdoK67FXC+TWU+PrY6MFo9zSObBSJIEALlc/k3RN4/MeKSy8trTT/8xPe3PY8cFPfroozKZLD3tz2GTQ0tKzvqP9g+PCF+wYIGvr++xY8cWLlw4cPN9Qam9k128kWrfvzjzrYFHeLcZzl24U91MtGqwTStD3bmdTzh9rUBx90yjhuS2vODKtvUcW0yY59xoaXdHPz1yq7bZ2ItDbdpWvx1h0liTWX9/R8LdZvjk8NWe3Wi34I9P85o+pdseiMy9Vzru/tRQ9dAo2U8NVQ+JvMFNZA/fsmZSdzH8cLHxm3NNvbqxdnnoaM+uj6oNjX96/9/RY6bqjT0Jxt+T+2z8uB5O6BW1oTH3hwypMOiySk5njxcAvHZkeZg09rJK/nb84YHH9mvJqdPpAECvNwJAfYNq/QvPR0VFJSQkSMQecXEzvzj4mf9of5lMtmHDhmPHji1atIika/SCryjQIUkFgKvV7XsOXfm+spXvigOAvt22aWUXzbwY/3mzJy6r+OnnZ7OqqTN7wN/zPnF3oLRSW17de/3/5MpPqQ0BT9Dp0J27jYfLGnp2Q99umzKe38MJZy5riLaOuvK4WdMicPO6WWMFaLln2g3f0n0MyiZjX9x4fJrXaM+uxSDheV+8Kb5ZU9NDDAAQFSR4tuczekPC8/6lV3/TwGJ6YH7JqI6xe0+csbGx4eHhAoEgLi5OIBAcPHhQIBAolUqpVEoQhEAgOHHqNEEQUqlUJpNJpVJKyUOLT4/c2vF1jY+Q7SP89ZFUePJWN6c3qA043xUXuPWUHYk2W2mlFo50HQmX66rWmwGg10gOn26w2+10tLbZ2KsbAHDxpp4gukvLPe6PxB5CSferk7VGY3uX196qb+uLG2fKG25Ud5s3+nI/1XrzVydrAcDfx21SsPf99ZqRA0ZbATi4ZH9enXv6Z7ssR7m7SPguXiLOOB83Lte1y0uMxvZb9W29xiwRcv08u31dfKNW227pfaTHpCBhd4cc4saV7gXTRzfqmi1qXW/1c4Ae7mcf3XBl24L979W0jcb26Cn+oUHdRji8GQRxHj9+nGaLtQ2G9ANVnqxWajfMnx88bjTNPiD6zZjRAv9RvMH2gg4iIiKk0g79Fw58Z9pHBi/tCASjOXToUEelDM7wvdhVIVMeD7C299IROkBYrvg/Vp4KmbkhMOoPivzXRF4XF74c7TyjLFe8vkqbv+0/abu+5nNcX18/f96LYcHTfZxq8c6F5q//VvHWBycA4PX183//P+GBUz2davH4rjJbc9Cb2QUlJw/k7H7juf91+nuRj/7rTMqGv+x6a1PY5BnuwY1xqx+i4ZaWl5cDQFRUlLNvKYVRZ/40Vd4pcHDEyXV35YvdzG1Wp1pxcWNRG2y3e00ppxrFWZgLhw0AfI6rn994AHDjsZ1q0cWN5cZnA4Cr571auhvf6RYFHvzWZuByXUnMFQC4IlechdmsTqkQ2WO+XGt9MvOWqsXo7uQ/0X5L/fz8qBBn31IAwFkYq6tu8EH7KsVqce6jyE67c/JNH3FqMjtG3t58lwaLXeIkZXaMudVocZKJTnR595x9S7u7gcP/k7G54aMWTHEfbC8QiAdm+IszTCZcsyTIgz8EPo5DIDoy/MWJQAxRkDiHA/YGJ2I4gcSJQDAUJE4EgqEgcSIQDAWJE4FgKEicCARDGf5v/46eVap5V1v0FtHw/TLQBj19ae0MuvvsE+FAhr84bygNrNvmwfbCueAwCDPl0IyHm2mwXaCb4V+tdWVhg+2C07EBn/7Ck06mhwjTVodHThQPtiO0MvzFiRgG6Ax0j+ZnAkicCARDYXqb02jR2re5bFHHEGrXgeAszGL9zUx5OPDtgWyWoO/fRjW19bWBZPuluWiPv38W+0jHNOK/1ITtPuDOqRvfHz8NFtsslo45xHnZBrrKpfbAgZhjtDij/OfbZ5GuUVd9efFdAFgQkjLJN0ZjbMq/+H6bxeAoWzgLY1tko8jlVriXd82YsgXLY1tDfGwvAABB/qjHvu9LZtKb2vs+I5UHucqF9LWBUQvHgFVvsRJcy6Oe5MP2EAfqE2dhuNXH27YGB64ZU7ayC2xWEmdhYssqF9LXHuIoc3aoNJoxZQu2Hwe+DfQicimHDLGBkXD93IF/IoXRoo0NenLamHknrh2saj4PAG5s3jORr4q5XleUpUWVOY7V52hRyJKwtfbdvxevA4DfjV40U7YUAE5cO1jZLO/fM+iXmREJQqFQUIss5OfnM2GpBaNF6+c+Nthnco26qkZdVdd6GwCemrJ5aXhyjboqOmjWq3M/6vjEGiA2K2nDdCbshhlTmjGlkJzmQvqyWSL/9m0sENjA6GtL5ZOP4o7rXrKBXkwu55DBZkwptMT4WjdbrFp3cpGvLdUGRjcywL99m2OlYrESo6zPAQALBB62pRLzGhu0jjJvFtpizZhSbJ7vaX7B5tCOXxu0+lnfsMfvbfuTDVo9yFXetlVmTMkjw0a1bbdBqwMtGi3aNx7/YmXMpmCfySKutw30NtC/HX9YNipMY2xaGp68ICTFgdkGALhsvj2XUmv5TPZ5LGVGusbYJOCIXpz5Fpfdz1mt74mzoqJiw/rnL168SBDEvn37+idOgiDS0xy/wNvuH5fvK98ir/4KAGZPXHaj/tK+8i2FFbkSnrfMM9qBhiygasH2t2B5FmgGADWez7fMxVk8Ff5OI55lhiYB+XCneu9AwIHfgu2vw7feMu3Ssy+xrDyNUe1ue8wEN2+0vdGEH8RZPC4Z5cDHAQ78WtbmRvx9Ff6OzWpwIwMAWDxykgY/fsu0S8cu5VsmO8oWBZct5cB4Nf5PKo08MgwAhLZYHXbulmmXGv+nC3i5QogD08hliw5XfLCn+HVqt81imewzHwByf8jYffYFtaHR4espGS16APjXTx/tK99CVe7mT3wGAHaffSG7eCMAzA9Z1b/HwT1x8ng8Lx+pj4+PfWa+zMzM0NDQ9LR0giACAgIemRazNmXdrFmz4uPjAWBj6sbQ0NC8vDyFQvHItJiAgIC8vLzc3E+2/3V7dvYu6lq5vPOERf3jnYUX0+Z+addhjbqK6yKmVkEUcxw80z4OfACWxLbEBDcbjOdcyQCb1UA92q2gZYEAoE9zyZia+7RUBpslEJEJwW5/4Vsma1xOAAALRGasScyV2DAdALCg8wTwA4SqX3HJSJzFM+CXXGE8AFigWcyVWDENznLKDJRs8AQAGxhZVh4O7iwrz4wpxVyJFXQAgJPdTpbbPy7Vf+fG/jUhXnw/AGjS13JdxE06lcNXZ+Cy+QCwec7HaXO/jA160mjWCDgitaGR6yLWmJQAIOT08w3Qr21OV1dX+0ZdXd3WrVsPHTqUmJj44oYXBQLBv8+VYhhGkiSGYQqFIvu9bOpoSUnJpMnhJ06djo6OLisrKyw8kpr68tqUdatWrZLJZANLs+hqfWmrqcWd4zF74rJXfN57/svp9qMOb6hQ4CyMa4lzAS8NflzMlUB/O/A5nn39PzhkCBskAMAhg8Vcyf3at1gJB/aa4CwMrHwv20ozNLWyC9iWAf1HvWK0qHTYOQ/bUjFrvpU0WFm/+dcocTqcTk1Kd46HM6zYqdFeP32toNXUMjMkfmXMJpWumuPimMFo90pOg8EAAD4+PgRBtLe326ce++tf/yoQdH54249mZe3k8Xh8/q9Pqe+++06lUi1PWNZQ37Bn954BOnep/ruiypx95VuoBdXEHF8AEHLERrNGxPUGAI2pcYAmOmGxakXkPJvVoMUKAVhWTAMAbJYIAFggsgIBwOpLPH0sOS1Woh5/60rbWo3LCR45iU8+Br8tLa1AsFmOLDwtVsLP+gbLymtwS7NYiV/KZyEAsEixzfoAj7y+vHvEwb0ef+sOa7OSt8mAXQYAqhrCIsUAwAJ3AKB86Jk7zW0nfqyra+h95nv4bd8pALSaWgDAi+9vL9P6Eknf0ZiUX158t+DKjoNlOwFAKgxq0qkAwGjW8N3EANDvFcfulZwymSwubkZJSTEArF+/nloo5YsvPouIiBAIBNu3bweAvXv3Ur9SqbS8vLykpDgqKtrPzy/xyUTqHIFAcOjQoaqqKgAIjwhPTEwcSJqNFm1yTOb1hvNaY2NEYCwAKHVXldo70UGzJt+cN2dCIgBUNZf12vPWbiU1rX2q8eMsjG0N4ZGTtOzvAIDNEhgslzxYS90tyyzQ7AJeTdj/OfD1hg30HuQqCzRzOHVc8iEAMGN1Buyy0BLDcYkSkfNtVoORVd63enRfLfrZ3nS1+ta7fGK1uHPI0Sas3AxNQjKuHep4ZJiefclhxgAAAGdhQktCG1S7mCeIyMca8f0AYGLf5pFhHDJKYvu9GZraoRK39jIDW6vRUnSxlZoas1dkntFUVdbPfazMM/rHO0eXhifPHL9MzPH2FQU6ZOVMOzbQPzVlc6uppar5AtXUvKySUx2Z84LXThgVAQAnKvf3r3/4njilUmlq6ssdDwgEAntIQkICACQlJdl/IyMjIyMj7dfaz6F+HYIbm31Xc+uJsFUSnveN+kvvfPuclyAou3hj6sysV+a8p9Te2XHqJb6buFepbEwcn7gy7rEz7F4zucVKeJDLzNCkxY9RIjRhFY34frFtIQC04IV67Hvc6rAaJpslaLNUS2yLWSCyglaJZ7XDzWb8f3E218e23graOpe/O3pKWKsL6WNlGbxsK6j9GtamevwDL9szPuR6E3azEd/j2BePFivBIUPE5EIAaMT3a7FCHNzVru9L2v/kY1tvwVqU+LtslsiBaTRatMnT0yU8b7WhcfbEZQES2fZvnzpQuvOJsFXRQbPKqs98efFdB75KYbMEV+tLn4netJSXrDY05pzNoApSIUe8MmaT2tB4oHSnxqQckDgZCA78M7fyiipzqF0qeW1g+Ms3T3cM6QvCvnVzUN2nLaw8e3bBga/FCrWsfAAAYDk249qsZBv7fK31O2qXzRJRyq/H36W6nRybawEAB/efWSmdQizsqlrrfwOAwxMIADjw7cmxx99mMdThf3ZSGrls0etf/6Y/1oM7pqy2gOrtB0cPQrBZyVuaCrtFLltExZ9buiW3FADAjc3ut0XmihMAcOBz73PQGSM8OlqE307y66QhLBQ2K4mDu327k0VnjAewm+vSh76jNvR14GeXN9Cpabw/h3SZkRyFzUreb9EhuRSNrXUObk58giBGCCNFnC16mubzRyAcxUgRJ51wOZLBdgExHEDiRCAYChInAsFQkDgRCIYy/MWp1xvv1qOp4hBDD0a/53QInxyv+1fducH2AjFQ+jgGczgxaOJksXEWLcZdWZjY/de3jva16J1i675X3c5OJrXQPbiJoE1L7dJzY+0flzn1ftoJ8+dve2XawqNcAIIeo/bvPei5pe1dLd2NkSTdq7JjGO1zVbp6QnszALg6f2hA+2+f78622H5fcUKTRdpvaeiEsVev33a6sV/w9/cHgNraWtosAsChQ4c6jk4fhJIzJXltx6/MaOA/P7XcajRS2+O8h+/E78OX3z3kAQDzHx9sP5yJXm/w8fHpGDIIJSf93G2Gha8X+wjvPYkm+PKC/dE4gaGBWmd8fJrX9CkOnr5gSDAixAkA35apNn1y3a5PABjl7gIAEr6Ln2e3c+XVNber9b0v5TApsNvB8e0W/EZd7x8T9+zGlTt9mnSrBzf6mJBgP6Eru9tPqGl2o92CA8DT88aHBvV9MsNhxfDvraWYGy3dCbDpk+t8V1zghgNAQ+u9XBLsL9Ebu8h2fC5frdfbT+uBST0e7UsMEr4Ln8vvzo2G1j59Sh/TfQwA7bca26iE9+iGqbu7AX1LSM9u9OV+Em22YD+hvyc3OEg4MgtMOyNFnAAwN1oqD5Pu/vzK5z808V1xANC32xY+LEl9Mqi7SzbsUN9q7GVqDH27bcuabuV5tbr9cFkDZa6HGNY/4bl8dmB3J3xddpdo62VOEIEbnvqHbhPybRnn+8rrPcegb7e9udq/Bz38a0NJzzEAwDhvtx7c+OokO+Orm73ejZFcWnZkpFRrO/HDxUZ9m7VV1+7rxe0hO35bpmrV9T6AoQddtRrh2x/u9BpD6DhpD9nx8OneY+jZjbvNcO5C75FMmxo42rPbo31xw13oOjda2t3Rq9XtV2+pBujGyGGEihOBYD7Df/geAjFEQeJEIBgKEicCwVBGUG/tsOHtD0/270K9qX32tPGzpk90rD8IJ4HEOfQ4WdFsYI/ux4X6dtcxvs2zpvd+JoIJIHEOSXodToAYBqD/GIFgKEicCARDQeJEIBgKEicCwVCQOBEIhoLEiUAwFCROBIKhIHEiEAwFiXMkQhDE8ePHjx8/DgCJiYlyuTwvL08ul3c8JzExkSCIQXIQAYDEOTKZP2d2ZeW1yspr9pApU6bIZLKO5yQnJ9vnbu0IQRBItPSAxDkSqalT6vXG1NSX7SEFhwvOnz+vUCgwDHtkWoxKpVq0aBEABAQEJCYmYhh2/PhxlUoVEBAQHR0tFAoHz/cRBBpbOxK5evVq2tY0DMOUSqVE7AEAXB4XADIzM8vLyyMjI+1n1tbWlpWVJScnf1P0DQAkrU4KjwivOF8xWJ6PKJA4RyKVlZVZ2Vl6veHs2bOdDtXX1wNAx4qrQCAwGAwAIBQKVap6nU6XsT2DTm9HLKhaOxLZtm1baGioWtPScfJ/ANiyZcu6desemRZjD6FWJeDxeFRVtuib44cPH87MzKTZ4ZEJmuBr6DHn+c9xfkA/LiTabMlxeMrTM/pnd23KurDJoVFR0XFxcSjb0AAqORF9ZVfWTpFIUl5eplQqB9uXEQFqcyL6ikAgSEpKGmwvRhCo5EQgGApqczKOViP87aOj/76mE3K6rtfcbGyXSsf0L3KbvqbLaHUmCwCsWxz89BNR/YsZ4XCQOBlKxU8/79xfVnLTKh3l59QZg4g2m6qh7rnZHhtWTu9ySBBisEDiZDQVP/287eOyC3VWWYC/M+Kvqqld+Yjg1ZSZSJYMBIlzCHDmh2vb91UY2KMdWIRW1dTGjWe9mxorlXa77hBicEHiHDI4SqKULDetig5/qJ8NVwQ9IHEOMb44Wr794HWBJKAfEq2qqZ3qx9q2DslyaIDEOSTJ+eJs9pGf+y7Rep3FG1emrQ5HazEMIZA4hyoEQew+8MNHp1t67s4l2mw8y10ky6EIEufQhiCId3KKD/ybuF+iRJuNUNekPTMBvbocoiBxDgdUKtWez8sP/Jug3rhQskyNH9PvMe4IJoDEOXxQqVSbs+UlN61bE/z/8MRU9OpyqIPEOdwgCALJcniAxIlAMBT0ydgDc6B0p8msfyJsta8okDaLT4StkvC8abB1o/5ScVUhx4VPm8XCitwmfd3U0bHRQbNoMDeEQJ+MPRg7Tr00Z0JiQsTz755aR4/FPcWvq3TVTToVPeYEHFHKjPQJoyIOlu2kwZza0DgzJD5lRvrnF95VGxppsDiEQOJ8MJTEDV9RoITnPVoUQk9menHmW1JhEA2GKKjqgJjrRY85Cc9bwvNWau/4CoLpKaiHEIwTp1wuV6m6KCXy8/MVCgX9/nTCBeNSG2KOt8lsHFxnnEfuuTeWh6+nx9bpawWnrh8Sc5AyO8M4cR766lBVVRU1NaN9gkaCIK5fv95p1sZO59CD0XKvtNSYGjkuXNrsCjgi2mzlnM1ImPIn2lrUsycuWxmzyYvvV1Z9hh6LQwXGiRMAeDxeUlJSfHy8UChUqVSZmZmLFy/eunWrUCjMzt6VlJQUGhpKEIRQKMzPz3/n7Xfo9G2yz/zT1wqobERPNUypvaM1Nl5VltNTiy6syAUAf8n4G/WXaDB3o/5SWfWZG/WXfrxz1F8yngaLQwjWtm3bBtuH31BUVDQ1fGpJSckHH3wQFham0+mSk5Nv374tkYj8/EY//fQf5s+bf+HChfnz50+fPn3FihVHjx11dXWlzb3IwJlNhEpn0qyI2USPxbLq0+O8JrVbTC64q6fAx9nmdCYt39W9iVC2mlrGeoU625ynwKdOU91I1P0+7L9oK6uHCox7z7kxdeOzq5/dtm3bxx9//MUXn4WETDycXzB2XNAHH3zw2Wef7cv7NGxyKAAkJ68NDQ1dv349AGzZsmWwvUYgHA/jxKlQKEJCQiorK0NCQqj2pFQqlcvl1BpY1DaPx6POiYyMlMvlsbGxD2RCLpdTK38ghjQ6nS4rO2uwvXAijBMnDeTl5a1Zs2awvUA4gOGde0fuCKH/+XoRDVb0mrZ/rDxVUlISGxuLYVjsqpDpT8t6v2wAXC2u+/pvFSRJKhSKqKioZ7Njfca7O9ViVsqxF55KzcrOyszM3Lp1Kz039ocvquT7K2kwNIiMXHGa26zONoGzMGu7DQB0Oh09pnEW1mawdAq0Wmw2q7NKGBc3FgDo9QYAMBruvfh19r2ljA57mPgqBYFAABInAsFYkDgRCIaCxIlAMBQkTgSCoSBxIhAMBYkTgWAoSJwIBENB4kQgGAoSJwLBUJA4EQiGgsSJQDAUJE4EgqEgcSIQDAWJE4FgKCP3e84+YrRoO+5y2SKchenbNPZd51nku4mp7zA7+uBUi/bI7SFubDYOfDotOiOBQxQkzp6Y5DMjZUa6ffdG/aXt3z4VF/RMQsTzEp73jfpLu8++4Ni8O1oUsuJ3r/iKAtWGxqOX98urvwKA5JhMah2Rworcosocx2bfjhbzz394qf5Em8VCWbT74CSLSu2d7OKNZtLoKwjuGNJmMTjQ3NAFVWt7oqr5/J7i13eceinnbAYAaIxNHtwxKTPSqxou55zNCPaZvOShTZ2K1oGAszCZ59SryvI9xa8DwMqYTQCwICQlOmhWztmMsuozS8OTZZ7RjjIHADbQyzynnrt9MudshoTnnTIjXWNsemrK5uigWXuKX2/SqVbGbBJzfB1r8ZU57wHAjlMv+YoCU2dm3VYXJU9P57hw7SEOvKVDGiTOnmizGG5pKqqay8Z5hgFA/sX3Z457ktooqT6oNjRGBD7YxH89Y7OSJT8f2le+5dTtt6m1HoxmzbSx89SGxpLqg/kX3weAyNGzHPk4AP6ZW3lFlTlUcqjAiMBYpfZOaW3hPy9/AgAPBz5hA72jLHLZ3gBw7vbJS6qTZdVnfEWBIR7LJDzv4soj9hDHPg6GLkwUJ0EQ1KSYcrl8sH0BqtU3e+IypfaOUnfVneNBhXNdxM5YK0Xfpkmb+2XuUw2+osADpTsBgOPCNZmNXBexkyp7OPC5bNFk6TxqQSEAkPC8CZOW6yJu0tdS57RZOs9LNEAm+cb4CkOp5ZK8+P4AQLRruS5inUnjWENDGsaJc2PqxsWLF7+8cRNBEHFxcf2LRKFQOGrVI6NFuyAkBQBOXT/EdRE7JM4ecGOzryhLz9+RA8DKmE0e3DHOtkiRPD0dALKLNzrbkMakPH2tINhn8tvxh72EUmebG9IwTpxCoXDDhg0Z298EAH9/fwBIT0ufNWuWSqWSy+XUdl5e3qxZs6hydW3Kuvj4eIIg8vLy7GcuWbIkKipKoVBsTN0YHx8/QJdmhsQDANU302pqAQAvvr/RrOG4cB2+bGabxVJwZce+8i3UmiVR/vNNZiPHhWs0a0aLQgCgrvW2G9uR3XhGi3bznI8lPO/XjizXmJQAoDY0egmlRrMmQDQBAJr0dQ7sEOKyRfvKt6z+v9DleViTTqU2NFLls8BVZDRrhBwxAJjJYbt82wPBxN7aku9LdDpdUlKSQCCQy+UXLl7YsGHDunXrqMUXMjIysrKyPvvss3Xr1lVVVfH5vDlzZlHLGYVHhI+XjS8qKsrKygKAkJCQ7PeyS0pKBuLMZJ/HJDzv09cKAIDLFv145+jS8OQVv3ulVr1MwvPOP/+h/YXHwDFatP8982MAqFFXzZ64DAAuq+QCV9HS8OQNM/4hGxUGAOeVJx3YP2y0aJNjMn1FgTfqL80PWQUAJyr3n78jnz1x2eqoTKpF/Z+7xxwoTqNFmzb3yxp1VYBEFuwzOedshlJ3VW1oXBqe7M7xiA6aVVZ9Rt+mQS9UgIElp06nS3wyMSkpyd7ypCZ9Xb16tcFgGC8bz+PxQif+usBO7d1af//Axxc8DgBjx44VCoXUJSD6it8AAARiSURBVLW1dwCgvLz8j3/8Y7+ruDgLGy2S3ai/dKJyP5VdzKRxx6mXCJNWzPXKOZvxn7vHHDglLJctyj33hsbYFCCRlVWfee3I8jaLoagyp7AiV8z1qmq4/NqR5Q6fgVZn0lALigVIZAESWYBowpcX3y2syA2QyCiLDtfJFWVpgEQGAHuKX//P3WMe3DHvfPtcWfWZAImssCI3t3QLUiYF40rOuEfj9uV9mpWVtXv37qTVSbGxsfPmzSs6/s3qpGcBwMfHx8/Pb7xsvEAgePjhh5OSkm5W3Sw6/s36F54PjwgHgLFjx9bX10dERKSn/bmysvKDf3y4fv36yMjI/jlDdZ92fLVos5J3tZV/L14HAHw3scOzUZvFkFt6b10mKnIuW0R1qIITXtBz2aIvL77bKYTLFhVV5jjPYsfIqfjvTzUCGCjOhISEhIQEajtjewZ0tYhYUlKSPZw6BwA6KfCTnI/tvwPBZiXvzy5UiJOmUb/fHA58rtP+qC7F4FSF0G9xiMK4ai0CgaBA4kQgGAoSJwLBUJA4EQiGgsSJQDAUJE4EgqEgcSIQDGVEixNnYYPtgoNhsUf0HzrMYNwgBNpoNzr4M6guMerMnULMbVbnmbbHTBCEwWCgQkxEZx+cilMTSEHPfzfoYCTplGEuTCYvL2/NmjWD7QXCAQzv3DsSS84pU6YcOnRosL1ADBTqi4hhzEgsORGIIQHqP0AgGAoSJwLBUJA4EQiGgsSJQDAUJE4EgqEgcSIQDAWJE4FgKEicjMM+7WCvZGZmJiYm2k/u7kLVL1BHMzMz16asU6kcPOMuwvGQCIaxd+/etK1p3R0tLy/X6XTUNgDYt/fu3QsAx44d63Q+NW1vQkLC4sWL7UcXL15cXl7uBN8RjmQkDt9jOEKhkMvjdnd0yZIlZWVlAoGA2qU2FAqFUCjMytrZ5SVZWTtTU1/uGOLq6uo4fxHOAlVrmU5eXt4j02IemRajUCiys3fV1tYuXxKfnb2r4zmRkZH2+UQp5HI5ht37IO72rZ/tdVrEEAKVnExnzZo15C/jnyMjIz/88OPD/zwilXaxBJBe/+sSI+Hh4eXl5QAgk8mEQuGe3Xu2/3X73r17qSl/EUMCVHIynZKSEgzDMjMzH+gqgUBAzbItlUoztmdkbM/Q6XToQ7mhBRIn04mNjSVJks/npqelA4DEXdjdmXx+ty1VxFAEVWuZyNf/LOTzuXq9ccGCBStWrHj11VcLC49s3rwZAGIefiQ97c/LE5YtXLjQfr5KpSoqKjp16sztWz/X19cnJSXJ5fK4uDiSJDembhQKheNl49esWXPs2LHBSxPigUHfczIOgiAqKiqo7fDwcACoqKiQyWT2dqZcLqd2Meze30ddwuPxAMBgMMTGxhIEUVlZSdVsFQqFwWAIDw+39/EmJiZu2bKl3+s7IegBiXMIg2FY2ta0V1971a66vkDN0lJeXo7EyXCQOIcw1JCgLntue4AaG/SgVyHo5/8BE+GdvRpgTlYAAAAASUVORK5CYII=)"
      ],
      "metadata": {
        "id": "-RtK92dN4dxl"
      }
    },
    {
      "cell_type": "markdown",
      "source": [
        "Print a part of list starting at index 0 till index 2\n",
        "\n",
        "Print a part of the list starting at index 0 till the end of list"
      ],
      "metadata": {
        "id": "c7T2r0eDH6Z2"
      }
    },
    {
      "cell_type": "code",
      "source": [
        "print(a[0:3])\n",
        "\n",
        "\n",
        "print(a[0:])"
      ],
      "metadata": {
        "colab": {
          "base_uri": "https://localhost:8080/"
        },
        "id": "V9Mok_1vIDv-",
        "outputId": "836769b3-32ba-40b8-eadc-39c381ce1d30"
      },
      "execution_count": null,
      "outputs": [
        {
          "output_type": "stream",
          "name": "stdout",
          "text": [
            "[2, 3, 4]\n",
            "[2, 3, 4, 5, 6, 7, 8, 9, 10]\n"
          ]
        }
      ]
    },
    {
      "cell_type": "markdown",
      "source": [
        "Syntax:\n",
        "\n",
        "`Lst[ Initial : End : IndexJump ]`"
      ],
      "metadata": {
        "id": "6VqDpDDq5B_1"
      }
    },
    {
      "cell_type": "code",
      "source": [
        "# Initialize list\n",
        "List = [1, 2, 3, 4, 5, 6, 7, 8, 9]\n",
        "\n",
        "# Show original list\n",
        "print(\"\\nOriginal List:\\n\", List)\n",
        "\n",
        "print(\"\\nSliced Lists: \")\n",
        "\n",
        "# Display sliced list\n",
        "print(List[3:9:2])\n",
        "\n",
        "# Display sliced list\n",
        "print(List[::2])\n",
        "\n",
        "# Display sliced list\n",
        "print(List[::])\n"
      ],
      "metadata": {
        "colab": {
          "base_uri": "https://localhost:8080/"
        },
        "id": "8ioe3R7j5LIl",
        "outputId": "6ca1d6f3-42fc-42d0-80c1-2d5926f4f14a"
      },
      "execution_count": null,
      "outputs": [
        {
          "output_type": "stream",
          "name": "stdout",
          "text": [
            "\n",
            "Original List:\n",
            " [1, 2, 3, 4, 5, 6, 7, 8, 9]\n",
            "\n",
            "Sliced Lists: \n",
            "[4, 6, 8]\n",
            "[1, 3, 5, 7, 9]\n",
            "[1, 2, 3, 4, 5, 6, 7, 8, 9]\n"
          ]
        }
      ]
    },
    {
      "cell_type": "code",
      "source": [
        "# Initialize list\n",
        "List = ['Deepak', 4, 'Moud !']\n",
        "\n",
        "# Show original list\n",
        "print(\"\\nOriginal List:\\n\", List)\n",
        "\n",
        "print(\"\\nSliced Lists: \")\n",
        "\n",
        "# Display sliced list\n",
        "print(\"(List[::-1])\")\n",
        "print(List[::-1])\n",
        "\n",
        "# Display sliced list\n",
        "print(\"List[1::-3]\")\n",
        "print(List[1::-3])\n",
        "\n",
        "# Display sliced list\n",
        "print(\"List[:1:-2]\")\n",
        "print(List[:1:-2])\n"
      ],
      "metadata": {
        "colab": {
          "base_uri": "https://localhost:8080/"
        },
        "id": "5oA_oCUY505o",
        "outputId": "2bfa909d-3129-4de2-eb52-d7a2336e10dd"
      },
      "execution_count": null,
      "outputs": [
        {
          "output_type": "stream",
          "name": "stdout",
          "text": [
            "\n",
            "Original List:\n",
            " ['Deepak', 4, 'Moud !']\n",
            "\n",
            "Sliced Lists: \n",
            "(List[::-1])\n",
            "['Moud !', 4, 'Deepak']\n",
            "List[1::-3]\n",
            "[4]\n",
            "List[:1:-2]\n",
            "['Moud !']\n"
          ]
        }
      ]
    },
    {
      "cell_type": "code",
      "source": [
        "# Initialize list\n",
        "List = [-999, 'G4G', 1706256, '^_^', 3.1496]\n",
        "\n",
        "# Show original list\n",
        "print(\"\\nOriginal List:\\n\", List)\n",
        "\n",
        "print(\"\\nSliced Lists: \")\n",
        "\n",
        "# Display sliced list\n",
        "print(List[10::2])\n",
        "\n",
        "# Display sliced list\n",
        "print(List[1:1:1])\n",
        "\n",
        "# Display sliced list\n",
        "print(List[-1:-1:-1])\n",
        "\n",
        "# Display sliced list\n",
        "print(List[:0:])\n"
      ],
      "metadata": {
        "colab": {
          "base_uri": "https://localhost:8080/"
        },
        "id": "ynDiHtiW5jbc",
        "outputId": "ad004188-e4fe-4848-9d2f-9ed66202a65d"
      },
      "execution_count": null,
      "outputs": [
        {
          "output_type": "stream",
          "name": "stdout",
          "text": [
            "\n",
            "Original List:\n",
            " [-999, 'G4G', 1706256, '^_^', 3.1496]\n",
            "\n",
            "Sliced Lists: \n",
            "[]\n",
            "[]\n",
            "[]\n",
            "[]\n"
          ]
        }
      ]
    },
    {
      "cell_type": "markdown",
      "source": [
        "**Concatenation**"
      ],
      "metadata": {
        "id": "WT51on14IK7W"
      }
    },
    {
      "cell_type": "markdown",
      "source": [
        "Concatenate two lists and show its output"
      ],
      "metadata": {
        "id": "qSWfmzM0IRAe"
      }
    },
    {
      "cell_type": "code",
      "source": [
        "a = [2 ,3, 4, 5, 6, 7, 8, 9, 10]\n",
        "b = [20, 30]\n",
        "print(a + b)"
      ],
      "metadata": {
        "colab": {
          "base_uri": "https://localhost:8080/"
        },
        "id": "XDLND9y8ITue",
        "outputId": "16ec8c6b-9340-40e7-85e2-5c78ac5db069"
      },
      "execution_count": null,
      "outputs": [
        {
          "output_type": "stream",
          "name": "stdout",
          "text": [
            "[2, 3, 4, 5, 6, 7, 8, 9, 10, 20, 30]\n"
          ]
        }
      ]
    },
    {
      "cell_type": "markdown",
      "source": [
        "**Updating**"
      ],
      "metadata": {
        "id": "q-MOM1b1IXGm"
      }
    },
    {
      "cell_type": "markdown",
      "source": [
        "Update the list element at index 2"
      ],
      "metadata": {
        "id": "IIVvVQPaIaZQ"
      }
    },
    {
      "cell_type": "markdown",
      "source": [
        "append(x)\n",
        "Add a single item to the end of the list\n",
        "Equivalent to a[len(a):] = [x]"
      ],
      "metadata": {
        "id": "OLrDsvizCmpU"
      }
    },
    {
      "cell_type": "code",
      "source": [
        "a = [2 ,3, 4, 5, 6, 7, 8, 9, 10]\n",
        "a[2] = 100\n",
        "print(a)"
      ],
      "metadata": {
        "colab": {
          "base_uri": "https://localhost:8080/"
        },
        "id": "EDwWdMYoId4X",
        "outputId": "c6082734-97fc-4d6d-c79c-21456a792feb"
      },
      "execution_count": null,
      "outputs": [
        {
          "output_type": "stream",
          "name": "stdout",
          "text": [
            "[2, 3, 100, 5, 6, 7, 8, 9, 10]\n"
          ]
        }
      ]
    },
    {
      "cell_type": "markdown",
      "source": [
        "**Membership**"
      ],
      "metadata": {
        "id": "re327jiqIjzW"
      }
    },
    {
      "cell_type": "markdown",
      "source": [
        "Returns True if element is present in list.\n",
        "Otherwise returns false."
      ],
      "metadata": {
        "id": "7fFMjRNzIm6y"
      }
    },
    {
      "cell_type": "code",
      "source": [
        "100 in a\n"
      ],
      "metadata": {
        "colab": {
          "base_uri": "https://localhost:8080/"
        },
        "id": "nZTpnx1GIuK2",
        "outputId": "ade16e84-ad5a-4cc0-d2b7-ca81ef39362d"
      },
      "execution_count": null,
      "outputs": [
        {
          "output_type": "execute_result",
          "data": {
            "text/plain": [
              "True"
            ]
          },
          "metadata": {},
          "execution_count": 8
        }
      ]
    },
    {
      "cell_type": "code",
      "source": [
        "70 in a"
      ],
      "metadata": {
        "colab": {
          "base_uri": "https://localhost:8080/"
        },
        "id": "KspxX2wh8tnM",
        "outputId": "9b666f61-fa1f-4581-eee4-46dade03d5ae"
      },
      "execution_count": null,
      "outputs": [
        {
          "output_type": "execute_result",
          "data": {
            "text/plain": [
              "False"
            ]
          },
          "metadata": {},
          "execution_count": 9
        }
      ]
    },
    {
      "cell_type": "markdown",
      "source": [
        "**Comparison**"
      ],
      "metadata": {
        "id": "zrEPOy0zI1PC"
      }
    },
    {
      "cell_type": "markdown",
      "source": [
        "Returns True if all elements in both lists are same.\n",
        "Otherwise returns false"
      ],
      "metadata": {
        "id": "hbEQ8ZVZI4Ju"
      }
    },
    {
      "cell_type": "code",
      "source": [
        "a = [2, 3, 4, 5, 6, 7, 8, 9, 10]\n",
        "b = [2, 3, 4]\n",
        "a == b"
      ],
      "metadata": {
        "colab": {
          "base_uri": "https://localhost:8080/"
        },
        "id": "3p402YYkI64o",
        "outputId": "f80e13a3-9b90-4d5e-cdcc-fe38a81d08d4"
      },
      "execution_count": null,
      "outputs": [
        {
          "output_type": "execute_result",
          "data": {
            "text/plain": [
              "False"
            ]
          },
          "metadata": {},
          "execution_count": 10
        }
      ]
    },
    {
      "cell_type": "code",
      "source": [
        "a != b"
      ],
      "metadata": {
        "colab": {
          "base_uri": "https://localhost:8080/"
        },
        "id": "rXqb3iJpI-Gf",
        "outputId": "51ebce1a-9cad-4ce6-9c34-5512d3f5456a"
      },
      "execution_count": null,
      "outputs": [
        {
          "output_type": "execute_result",
          "data": {
            "text/plain": [
              "True"
            ]
          },
          "metadata": {},
          "execution_count": 9
        }
      ]
    },
    {
      "cell_type": "markdown",
      "source": [
        "**Repetition**"
      ],
      "metadata": {
        "id": "yOd3KzICJBSi"
      }
    },
    {
      "cell_type": "markdown",
      "source": [
        "Here the * operator repeats a list for the given number of times."
      ],
      "metadata": {
        "id": "w3eB4tyzJEPX"
      }
    },
    {
      "cell_type": "code",
      "source": [
        "a = [1, 2, 3]\n",
        "a * 0\n"
      ],
      "metadata": {
        "colab": {
          "base_uri": "https://localhost:8080/"
        },
        "id": "zQ0ua7wNJFp6",
        "outputId": "d92994ef-8efe-4f83-d48a-197ed140506c"
      },
      "execution_count": null,
      "outputs": [
        {
          "output_type": "execute_result",
          "data": {
            "text/plain": [
              "[]"
            ]
          },
          "metadata": {},
          "execution_count": 11
        }
      ]
    },
    {
      "cell_type": "code",
      "source": [
        "\n",
        "a * 2\n"
      ],
      "metadata": {
        "colab": {
          "base_uri": "https://localhost:8080/"
        },
        "id": "VeOMFshiJNAK",
        "outputId": "0e6fc11e-4656-49f7-b62d-80a8aef9957d"
      },
      "execution_count": null,
      "outputs": [
        {
          "output_type": "execute_result",
          "data": {
            "text/plain": [
              "[1, 2, 3, 1, 2, 3]"
            ]
          },
          "metadata": {},
          "execution_count": 11
        }
      ]
    },
    {
      "cell_type": "code",
      "source": [
        "\n",
        "print(a * 3)\n"
      ],
      "metadata": {
        "colab": {
          "base_uri": "https://localhost:8080/"
        },
        "id": "RQ9PSZ9aJQa4",
        "outputId": "18c4d39f-a5dc-4ab8-f778-b9354967af94"
      },
      "execution_count": null,
      "outputs": [
        {
          "output_type": "stream",
          "name": "stdout",
          "text": [
            "[1, 2, 3, 1, 2, 3, 1, 2, 3]\n"
          ]
        }
      ]
    },
    {
      "cell_type": "code",
      "execution_count": null,
      "metadata": {
        "colab": {
          "base_uri": "https://localhost:8080/"
        },
        "id": "UG3hL7uHChmp",
        "outputId": "5c65156f-a2ed-40e7-b197-274375b113c2"
      },
      "outputs": [
        {
          "output_type": "stream",
          "name": "stdout",
          "text": [
            "['a', 'b', 'c', 'd', 'e']\n"
          ]
        }
      ],
      "source": [
        "x = ['a', 'b', 'c', 'd']\n",
        "x.append('e')\n",
        "print(x)"
      ]
    },
    {
      "cell_type": "code",
      "source": [
        "x = ['a', 'b', 'c', 'd']\n",
        "x.append([1, 2, 3])\n",
        "print(x)\n"
      ],
      "metadata": {
        "colab": {
          "base_uri": "https://localhost:8080/"
        },
        "id": "-gC0Ss3CC0Da",
        "outputId": "85e7a044-8fc8-4100-c3e2-8f249b3c504c"
      },
      "execution_count": null,
      "outputs": [
        {
          "output_type": "stream",
          "name": "stdout",
          "text": [
            "['a', 'b', 'c', 'd', [1, 2, 3]]\n"
          ]
        }
      ]
    },
    {
      "cell_type": "code",
      "source": [
        "x = ['a', 'b', 'c', 'd']\n",
        "y = [1, 2, 3, 4]\n",
        "x.extend(y)\n",
        "print(x)"
      ],
      "metadata": {
        "colab": {
          "base_uri": "https://localhost:8080/"
        },
        "id": "piRfo9u0DGlT",
        "outputId": "b12bca09-dac7-4b41-f7ba-7a9e53ae99da"
      },
      "execution_count": null,
      "outputs": [
        {
          "output_type": "stream",
          "name": "stdout",
          "text": [
            "['a', 'b', 'c', 'd', 1, 2, 3, 4]\n"
          ]
        }
      ]
    },
    {
      "cell_type": "markdown",
      "source": [
        "**insert(index, item)**\n",
        "Insert an item at a position before the element given by index.\n",
        "\n",
        "a.`insert(0, x)` inserts at the front of the list.\n",
        "`a.insert(len(a), x)` is equivalent to a.append(x) which inserts an element at the end of list."
      ],
      "metadata": {
        "id": "04HrGX7hDRXU"
      }
    },
    {
      "cell_type": "markdown",
      "source": [
        "**`extend(iterable)`**\n",
        "Extend the list with the items of another list or iterable\n",
        "\n",
        "Equivalent to `a[len(a):] = iterable`"
      ],
      "metadata": {
        "id": "Y64FhdSrC99z"
      }
    },
    {
      "cell_type": "code",
      "source": [
        "x = ['a', 'b', 'c', 'd']\n",
        "x.insert(0, 1)\n",
        "print(x)\n",
        "\n"
      ],
      "metadata": {
        "colab": {
          "base_uri": "https://localhost:8080/"
        },
        "id": "7DNRI6xmDVfM",
        "outputId": "87bfe2db-ca1e-423f-d795-69c1fa6c640d"
      },
      "execution_count": null,
      "outputs": [
        {
          "output_type": "stream",
          "name": "stdout",
          "text": [
            "[1, 'a', 'b', 'c', 'd']\n"
          ]
        }
      ]
    },
    {
      "cell_type": "code",
      "source": [
        "x.insert(len(x), 'e')\n",
        "print(x)\n",
        "[1, 'a', 'b', 'c', 'd', 'e']"
      ],
      "metadata": {
        "colab": {
          "base_uri": "https://localhost:8080/"
        },
        "id": "TvSQ-2J3DaRU",
        "outputId": "65716659-7c6c-4fdf-a4d9-fbc38817673a"
      },
      "execution_count": null,
      "outputs": [
        {
          "output_type": "stream",
          "name": "stdout",
          "text": [
            "[1, 'a', 'b', 'c', 'd', 'e']\n"
          ]
        },
        {
          "output_type": "execute_result",
          "data": {
            "text/plain": [
              "[1, 'a', 'b', 'c', 'd', 'e']"
            ]
          },
          "metadata": {},
          "execution_count": 16
        }
      ]
    },
    {
      "cell_type": "markdown",
      "source": [
        "**remove(element)**\n",
        "\n",
        "Remove the first item in the list whose value is element\n",
        "\n",
        "Error if the item doesn't exist with the value element in list"
      ],
      "metadata": {
        "id": "4irx_9VNDhZU"
      }
    },
    {
      "cell_type": "code",
      "source": [
        "L1 = [1, 'a', 'b', 'c', 'd', 'e']\n",
        "L1.remove(1)\n",
        "print(L1)\n",
        "\n",
        "\n"
      ],
      "metadata": {
        "colab": {
          "base_uri": "https://localhost:8080/"
        },
        "id": "xDGcLpP7DgI8",
        "outputId": "122becd6-ffc4-481a-cc9b-1700e83f841f"
      },
      "execution_count": null,
      "outputs": [
        {
          "output_type": "stream",
          "name": "stdout",
          "text": [
            "['a', 'b', 'c', 'd', 'e']\n"
          ]
        }
      ]
    },
    {
      "cell_type": "code",
      "source": [
        "L1.remove('f')"
      ],
      "metadata": {
        "colab": {
          "base_uri": "https://localhost:8080/",
          "height": 165
        },
        "id": "Z1EoK_W-Dq6c",
        "outputId": "e6e2422e-fe66-40cd-a557-e1efdc1d0830"
      },
      "execution_count": null,
      "outputs": [
        {
          "output_type": "error",
          "ename": "ValueError",
          "evalue": "ignored",
          "traceback": [
            "\u001b[0;31m---------------------------------------------------------------------------\u001b[0m",
            "\u001b[0;31mValueError\u001b[0m                                Traceback (most recent call last)",
            "\u001b[0;32m<ipython-input-8-ce74401e1c9b>\u001b[0m in \u001b[0;36m<module>\u001b[0;34m\u001b[0m\n\u001b[0;32m----> 1\u001b[0;31m \u001b[0mL1\u001b[0m\u001b[0;34m.\u001b[0m\u001b[0mremove\u001b[0m\u001b[0;34m(\u001b[0m\u001b[0;34m'f'\u001b[0m\u001b[0;34m)\u001b[0m\u001b[0;34m\u001b[0m\u001b[0;34m\u001b[0m\u001b[0m\n\u001b[0m",
            "\u001b[0;31mValueError\u001b[0m: list.remove(x): x not in list"
          ]
        }
      ]
    },
    {
      "cell_type": "markdown",
      "source": [
        "**pop()**, **pop(index)**\n",
        "Removes an item at the given position specified by index\n",
        "\n",
        "Removes and returns the last element if index is not specified\n",
        "\n",
        "If an invalid index is specified, then an IndexError is thrown"
      ],
      "metadata": {
        "id": "MEyI9h_0DyoM"
      }
    },
    {
      "cell_type": "code",
      "source": [
        "x = ['a', 'b', 'c', 'd', 'e']\n",
        "print(x.pop(2))\n",
        "\n",
        "print(x)"
      ],
      "metadata": {
        "colab": {
          "base_uri": "https://localhost:8080/"
        },
        "id": "iuWDxhzoD4NN",
        "outputId": "e5dc1218-26bb-4357-ab32-07543c85e425"
      },
      "execution_count": null,
      "outputs": [
        {
          "output_type": "stream",
          "name": "stdout",
          "text": [
            "c\n",
            "['a', 'b', 'd', 'e']\n"
          ]
        }
      ]
    },
    {
      "cell_type": "code",
      "source": [
        "x.pop()\n",
        "\n",
        "print(x)"
      ],
      "metadata": {
        "colab": {
          "base_uri": "https://localhost:8080/"
        },
        "id": "fOjiugN0D_b-",
        "outputId": "497cf658-f547-4ff1-c650-fbcc18ed9d8c"
      },
      "execution_count": null,
      "outputs": [
        {
          "output_type": "stream",
          "name": "stdout",
          "text": [
            "['a', 'b', 'd']\n"
          ]
        }
      ]
    },
    {
      "cell_type": "code",
      "source": [
        "x.pop(-1)\n",
        "'d'\n",
        "print(x)\n"
      ],
      "metadata": {
        "colab": {
          "base_uri": "https://localhost:8080/"
        },
        "id": "m1tGQM8oEHKe",
        "outputId": "21044c1a-f8a3-4c05-eb70-5a3d17b269c0"
      },
      "execution_count": null,
      "outputs": [
        {
          "output_type": "stream",
          "name": "stdout",
          "text": [
            "['a', 'b']\n"
          ]
        }
      ]
    },
    {
      "cell_type": "markdown",
      "source": [
        "**count(x)**\n",
        "\n",
        "Return the number of times the item x appears in the list"
      ],
      "metadata": {
        "id": "iF0MEAIbEMx9"
      }
    },
    {
      "cell_type": "code",
      "source": [
        "x = ['a', 'b', 'a', 'c', 'd', 'e', 'a']\n",
        "x.count('a')"
      ],
      "metadata": {
        "colab": {
          "base_uri": "https://localhost:8080/"
        },
        "id": "o0Yf66ccEMNH",
        "outputId": "4f345089-215c-42c8-b6cf-fea6ff83296b"
      },
      "execution_count": null,
      "outputs": [
        {
          "output_type": "execute_result",
          "data": {
            "text/plain": [
              "3"
            ]
          },
          "metadata": {},
          "execution_count": 20
        }
      ]
    },
    {
      "cell_type": "markdown",
      "source": [
        "**sort(key = None, reverse = False)**\n",
        "\n",
        "Sort the items of the list in place in ascending order\n",
        "\n",
        "If the parameter reverse = True, then the list is sorted in place in descending order."
      ],
      "metadata": {
        "id": "9QPy-TuQEYUu"
      }
    },
    {
      "cell_type": "code",
      "source": [
        "x = ['z', 'f', 'e', 'a','b', 'g', 't']\n",
        "x.sort()\n",
        "print(x)"
      ],
      "metadata": {
        "colab": {
          "base_uri": "https://localhost:8080/"
        },
        "id": "F4skTWy4EWWf",
        "outputId": "de2b1c2e-f41b-4b91-ab0d-ca5a1421d4f4"
      },
      "execution_count": null,
      "outputs": [
        {
          "output_type": "stream",
          "name": "stdout",
          "text": [
            "['a', 'b', 'e', 'f', 'g', 't', 'z']\n"
          ]
        }
      ]
    },
    {
      "cell_type": "code",
      "source": [
        "x.sort(key = None, reverse = True)\n",
        "print(x)"
      ],
      "metadata": {
        "colab": {
          "base_uri": "https://localhost:8080/"
        },
        "id": "5phH5VCQEoVX",
        "outputId": "2236b639-f771-4df9-d54d-4efdab36f553"
      },
      "execution_count": null,
      "outputs": [
        {
          "output_type": "stream",
          "name": "stdout",
          "text": [
            "['z', 't', 'g', 'f', 'e', 'b', 'a']\n"
          ]
        }
      ]
    },
    {
      "cell_type": "code",
      "source": [
        "# A function that returns the length of the value:\n",
        "def myFunc(e):\n",
        "  return len(e)\n",
        "\n",
        "cars = ['Ford', 'Mitsubishi', 'BMW', 'VW']\n",
        "\n",
        "cars.sort(key=myFunc)\n",
        "print(cars)"
      ],
      "metadata": {
        "colab": {
          "base_uri": "https://localhost:8080/"
        },
        "id": "gxznxd0678RQ",
        "outputId": "718ec729-1ed4-4bbb-b630-2b00b1582dfe"
      },
      "execution_count": null,
      "outputs": [
        {
          "output_type": "stream",
          "name": "stdout",
          "text": [
            "['VW', 'BMW', 'Ford', 'Mitsubishi']\n"
          ]
        }
      ]
    },
    {
      "cell_type": "code",
      "source": [
        "# A function that returns the 'year' value:\n",
        "def myFunc(e):\n",
        "  return e['year']\n",
        "\n",
        "cars = [\n",
        "  {'car': 'Ford', 'year': 2005},\n",
        "  {'car': 'Mitsubishi', 'year': 2000},\n",
        "  {'car': 'BMW', 'year': 2019},\n",
        "  {'car': 'VW', 'year': 2011}\n",
        "]\n",
        "\n",
        "cars.sort(key=myFunc)\n",
        "print(cars)"
      ],
      "metadata": {
        "colab": {
          "base_uri": "https://localhost:8080/"
        },
        "id": "dpUD-aks8fjt",
        "outputId": "32cabe8a-6afe-48a1-e72d-873b509bdfea"
      },
      "execution_count": null,
      "outputs": [
        {
          "output_type": "stream",
          "name": "stdout",
          "text": [
            "[{'car': 'Mitsubishi', 'year': 2000}, {'car': 'Ford', 'year': 2005}, {'car': 'VW', 'year': 2011}, {'car': 'BMW', 'year': 2019}]\n"
          ]
        }
      ]
    },
    {
      "cell_type": "markdown",
      "source": [
        "**reverse()**\n",
        "\n",
        "Reverse the order of elements of the list in place"
      ],
      "metadata": {
        "id": "oQ091ur0ExCP"
      }
    },
    {
      "cell_type": "code",
      "source": [
        "x = ['z', 'f', 'e', 'a','b', 'g', 't']\n",
        "x.reverse()\n",
        "print(x)"
      ],
      "metadata": {
        "colab": {
          "base_uri": "https://localhost:8080/"
        },
        "id": "xH2K3slLExsg",
        "outputId": "d2207812-5c5e-44f0-ad80-4ee22c225dfc"
      },
      "execution_count": null,
      "outputs": [
        {
          "output_type": "stream",
          "name": "stdout",
          "text": [
            "['t', 'g', 'b', 'a', 'e', 'f', 'z']\n"
          ]
        }
      ]
    },
    {
      "cell_type": "markdown",
      "source": [
        "**copy()**\n",
        "\n",
        "Return the shallow copy of the list\n",
        "Equivalent to a[:]"
      ],
      "metadata": {
        "id": "L5JX6CNlE8io"
      }
    },
    {
      "cell_type": "code",
      "source": [
        "x = ['z', 'f', 'e', 'a','b', 'g', 't']\n",
        "y = x.copy()\n",
        "print(x)\n",
        "print(y)"
      ],
      "metadata": {
        "colab": {
          "base_uri": "https://localhost:8080/"
        },
        "id": "QLyAkcWiFCAn",
        "outputId": "7eb549bf-db19-4ae8-b502-ca81150d8f16"
      },
      "execution_count": null,
      "outputs": [
        {
          "output_type": "stream",
          "name": "stdout",
          "text": [
            "['z', 'f', 'e', 'a', 'b', 'g', 't']\n",
            "['z', 'f', 'e', 'a', 'b', 'g', 't']\n"
          ]
        }
      ]
    },
    {
      "cell_type": "code",
      "source": [
        "# new list without modifying the original lists).\n",
        "print(x is y)"
      ],
      "metadata": {
        "colab": {
          "base_uri": "https://localhost:8080/"
        },
        "id": "ZyR-CRm0FFSv",
        "outputId": "93e1770b-cdbe-4e94-a055-3666113e2f55"
      },
      "execution_count": null,
      "outputs": [
        {
          "output_type": "stream",
          "name": "stdout",
          "text": [
            "False\n"
          ]
        }
      ]
    },
    {
      "cell_type": "code",
      "source": [
        "import copy\n",
        "x = ['z', 'f', 'e', 'a','b', 'g', 't']\n",
        "y = x.copy()\n",
        "y.append('xaq') # # new list without modifying the original lists).\n",
        "z=copy.deepcopy(x)\n",
        "x.append(5)\n",
        "print(x)\n",
        "print(y)\n",
        "print(z)"
      ],
      "metadata": {
        "colab": {
          "base_uri": "https://localhost:8080/"
        },
        "id": "zrRZjT8K9jmx",
        "outputId": "260a3c55-6e82-4eec-df9c-fd8ea3eb0e1b"
      },
      "execution_count": null,
      "outputs": [
        {
          "output_type": "stream",
          "name": "stdout",
          "text": [
            "['z', 'f', 'e', 'a', 'b', 'g', 't', 5]\n",
            "['z', 'f', 'e', 'a', 'b', 'g', 't', 'xaq']\n",
            "['z', 'f', 'e', 'a', 'b', 'g', 't']\n"
          ]
        }
      ]
    },
    {
      "cell_type": "code",
      "source": [
        "# Python 3 code to demonstrate\n",
        "# techniques of deep and shallow copy\n",
        "import copy\n",
        "\n",
        "# Initializing list\n",
        "list1 = [ 1, [2, 3] , 4 ]\n",
        "\n",
        "# all changes are reflected\n",
        "list2 = list1\n",
        "\n",
        "# shallow copy - changes to\n",
        "# nested list is reflected,\n",
        "# same as copy.copy(), slicing\n",
        "\n",
        "list3 = list1.copy()\n",
        "\n",
        "# deep copy - no change is reflected\n",
        "list4 = copy.deepcopy(list1)\n",
        "\n",
        "list1.append(5)\n",
        "list1[1][1] = 999\n",
        "\n",
        "print(\"list 1 after modification:\\n\", list1)\n",
        "print(\"list 2 after modification:\\n\", list2)\n",
        "print(\"list 3 after modification:\\n\", list3)\n",
        "print(\"list 4 after modification:\\n\", list4)\n"
      ],
      "metadata": {
        "colab": {
          "base_uri": "https://localhost:8080/"
        },
        "id": "6cYW5miq9w-Y",
        "outputId": "b755e60d-a034-493c-9a01-b88af864876c"
      },
      "execution_count": null,
      "outputs": [
        {
          "output_type": "stream",
          "name": "stdout",
          "text": [
            "list 1 after modification:\n",
            " [1, [2, 999], 4, 5]\n",
            "list 2 after modification:\n",
            " [1, [2, 999], 4, 5]\n",
            "list 3 after modification:\n",
            " [1, [2, 999], 4]\n",
            "list 4 after modification:\n",
            " [1, [2, 3], 4]\n"
          ]
        }
      ]
    },
    {
      "cell_type": "markdown",
      "source": [
        "**all()**\n",
        "\n",
        "Returns True if all the items in the list have a True value."
      ],
      "metadata": {
        "id": "5zlero6VFXUo"
      }
    },
    {
      "cell_type": "code",
      "source": [
        "print(all([' ', ',', '1', '2']))"
      ],
      "metadata": {
        "colab": {
          "base_uri": "https://localhost:8080/"
        },
        "id": "5zWx2BhpFbsY",
        "outputId": "f0b0a74d-d052-4653-c3a2-19c48c4f7b0b"
      },
      "execution_count": null,
      "outputs": [
        {
          "output_type": "stream",
          "name": "stdout",
          "text": [
            "True\n"
          ]
        }
      ]
    },
    {
      "cell_type": "code",
      "source": [
        "print(all([False, ',', '1', '2']))"
      ],
      "metadata": {
        "colab": {
          "base_uri": "https://localhost:8080/"
        },
        "id": "v-K6kdve_tdc",
        "outputId": "1ff1f8d6-a5e0-4ca3-8133-f633c895ce86"
      },
      "execution_count": null,
      "outputs": [
        {
          "output_type": "stream",
          "name": "stdout",
          "text": [
            "False\n"
          ]
        }
      ]
    },
    {
      "cell_type": "markdown",
      "source": [
        "**any()**\n",
        "\n",
        "Returns True if even one item in the list has a True value."
      ],
      "metadata": {
        "id": "CIuL8P9kFgoQ"
      }
    },
    {
      "cell_type": "code",
      "source": [
        "print(any([' ', ',', '1', '2']))"
      ],
      "metadata": {
        "colab": {
          "base_uri": "https://localhost:8080/"
        },
        "id": "Iy7NB--oFoQa",
        "outputId": "e230a823-d507-466b-da07-e2916cdaa72e"
      },
      "execution_count": null,
      "outputs": [
        {
          "output_type": "stream",
          "name": "stdout",
          "text": [
            "True\n"
          ]
        }
      ]
    },
    {
      "cell_type": "code",
      "source": [
        "print(any([False, False]))"
      ],
      "metadata": {
        "colab": {
          "base_uri": "https://localhost:8080/"
        },
        "id": "25Q4gA5r_0xi",
        "outputId": "6c7901d9-f034-4f3d-b73f-cd6aa56f0956"
      },
      "execution_count": null,
      "outputs": [
        {
          "output_type": "stream",
          "name": "stdout",
          "text": [
            "False\n"
          ]
        }
      ]
    },
    {
      "cell_type": "code",
      "source": [
        "print(any([False, False, '2']))"
      ],
      "metadata": {
        "colab": {
          "base_uri": "https://localhost:8080/"
        },
        "id": "qecCAZC5_9t6",
        "outputId": "e2fa9533-7248-4ff1-d319-ce9db366c615"
      },
      "execution_count": null,
      "outputs": [
        {
          "output_type": "stream",
          "name": "stdout",
          "text": [
            "True\n"
          ]
        }
      ]
    },
    {
      "cell_type": "markdown",
      "source": [
        "**enumerate()**\n",
        "\n",
        "Returns an enumerate object consisting of the index and value of all items of the list as a tuple pair."
      ],
      "metadata": {
        "id": "hgLKhXvuFsAZ"
      }
    },
    {
      "cell_type": "code",
      "source": [
        "print(list(enumerate(['a','b','c','d','e'])))"
      ],
      "metadata": {
        "colab": {
          "base_uri": "https://localhost:8080/"
        },
        "id": "9JulWLqcF0Vg",
        "outputId": "3c77a25a-bb78-4867-8b4b-f3b9ee6b7217"
      },
      "execution_count": null,
      "outputs": [
        {
          "output_type": "stream",
          "name": "stdout",
          "text": [
            "[(0, 'a'), (1, 'b'), (2, 'c'), (3, 'd'), (4, 'e')]\n"
          ]
        }
      ]
    },
    {
      "cell_type": "markdown",
      "source": [
        "**len()**\n",
        "\n",
        "This function calculates the length i.e., the number of elements in the list."
      ],
      "metadata": {
        "id": "c0jMg5pUGC-p"
      }
    },
    {
      "cell_type": "code",
      "source": [
        "print(len(['a', 'b', 'c', 'd', 'e']))"
      ],
      "metadata": {
        "colab": {
          "base_uri": "https://localhost:8080/"
        },
        "id": "F5fWagJ7GGBZ",
        "outputId": "e1c0b9f7-9a56-4abe-e4af-e94edb40ee09"
      },
      "execution_count": null,
      "outputs": [
        {
          "output_type": "stream",
          "name": "stdout",
          "text": [
            "5\n"
          ]
        }
      ]
    },
    {
      "cell_type": "markdown",
      "source": [
        "**list()**\n",
        "\n",
        "This function converts an iterable (tuple, string, set, dictionary) to a list"
      ],
      "metadata": {
        "id": "3Ms3PW4aGJhZ"
      }
    },
    {
      "cell_type": "code",
      "source": [
        "print(list(\"abcdef\"))\n"
      ],
      "metadata": {
        "colab": {
          "base_uri": "https://localhost:8080/"
        },
        "id": "RkJgPXI7GOeM",
        "outputId": "0d5903eb-13c2-424f-9f60-b695686032dc"
      },
      "execution_count": null,
      "outputs": [
        {
          "output_type": "stream",
          "name": "stdout",
          "text": [
            "['a', 'b', 'c', 'd', 'e', 'f']\n"
          ]
        }
      ]
    },
    {
      "cell_type": "code",
      "source": [
        "print(list(('a', 'b', 'c', 'd', 'e')))"
      ],
      "metadata": {
        "colab": {
          "base_uri": "https://localhost:8080/"
        },
        "id": "NeyEUpgtGVQq",
        "outputId": "4cd93529-569c-40b4-f6b2-b0f41d445db4"
      },
      "execution_count": null,
      "outputs": [
        {
          "output_type": "stream",
          "name": "stdout",
          "text": [
            "['a', 'b', 'c', 'd', 'e']\n"
          ]
        }
      ]
    },
    {
      "cell_type": "markdown",
      "source": [
        "**max()**\n",
        "\n",
        "This function returns the item with the highest value from the list"
      ],
      "metadata": {
        "id": "opZqXvYxGaFS"
      }
    },
    {
      "cell_type": "code",
      "source": [
        "print(max([1, 2, 3, 4, 5]))"
      ],
      "metadata": {
        "colab": {
          "base_uri": "https://localhost:8080/"
        },
        "id": "zT4ryoxVGYIq",
        "outputId": "ea57b154-164a-4820-c433-0c5c8c256c15"
      },
      "execution_count": null,
      "outputs": [
        {
          "output_type": "stream",
          "name": "stdout",
          "text": [
            "5\n"
          ]
        }
      ]
    },
    {
      "cell_type": "code",
      "source": [
        "print(max(['a', 'b', 'c', 'd', 'e']))"
      ],
      "metadata": {
        "colab": {
          "base_uri": "https://localhost:8080/"
        },
        "id": "s7N8NN7JAcZa",
        "outputId": "08734d59-37f2-44f3-81d5-738bc2b7e12b"
      },
      "execution_count": null,
      "outputs": [
        {
          "output_type": "stream",
          "name": "stdout",
          "text": [
            "e\n"
          ]
        }
      ]
    },
    {
      "cell_type": "markdown",
      "source": [
        "**min()**\n",
        "\n",
        "This function returns the item with the lowest value from the list."
      ],
      "metadata": {
        "id": "mIjhJB5jGiV6"
      }
    },
    {
      "cell_type": "code",
      "source": [
        "print(min([1, 2, 3, 4, 5]))"
      ],
      "metadata": {
        "colab": {
          "base_uri": "https://localhost:8080/"
        },
        "id": "sUD3w_ZOGl8L",
        "outputId": "e2dbea5b-bd29-4f7e-b7cc-644c56860085"
      },
      "execution_count": null,
      "outputs": [
        {
          "output_type": "stream",
          "name": "stdout",
          "text": [
            "1\n"
          ]
        }
      ]
    },
    {
      "cell_type": "code",
      "source": [
        "print(min(['a', 'b', 'c', 'd', 'e']))"
      ],
      "metadata": {
        "colab": {
          "base_uri": "https://localhost:8080/"
        },
        "id": "vk9RsZasAi4Z",
        "outputId": "ddb14613-91d7-40d7-bd35-8ec4e2390d5b"
      },
      "execution_count": null,
      "outputs": [
        {
          "output_type": "stream",
          "name": "stdout",
          "text": [
            "a\n"
          ]
        }
      ]
    },
    {
      "cell_type": "markdown",
      "source": [
        "**sorted()**\n",
        "\n",
        "This function returns a sorted result of the list, with the original list unchanged."
      ],
      "metadata": {
        "id": "obtUhHS4GotD"
      }
    },
    {
      "cell_type": "code",
      "source": [
        "origlist = [1, 5, 3, 4, 7, 9, 1, 27]\n",
        "sortedlist = sorted(origlist)\n",
        "print(sortedlist)"
      ],
      "metadata": {
        "colab": {
          "base_uri": "https://localhost:8080/"
        },
        "id": "mtMjRogKGt1C",
        "outputId": "034dfdc8-5c77-4c8c-f48a-a8ec631d20b4"
      },
      "execution_count": null,
      "outputs": [
        {
          "output_type": "stream",
          "name": "stdout",
          "text": [
            "[1, 1, 3, 4, 5, 7, 9, 27]\n"
          ]
        }
      ]
    },
    {
      "cell_type": "markdown",
      "source": [
        "**sum()**\n",
        "\n",
        "This function returns the sum of all elements in the list.\n",
        "This function works only on numeric values in the list and will error out if the list contains a mix of string and numeric values."
      ],
      "metadata": {
        "id": "j1S21-TIGx1z"
      }
    },
    {
      "cell_type": "code",
      "source": [
        "print(sum([1, 5, 3, 4, 7, 9, 1, 27]))"
      ],
      "metadata": {
        "colab": {
          "base_uri": "https://localhost:8080/"
        },
        "id": "7GP5kx8mG02K",
        "outputId": "8ac2f852-02a7-4733-d0d0-04dd19e857ea"
      },
      "execution_count": null,
      "outputs": [
        {
          "output_type": "stream",
          "name": "stdout",
          "text": [
            "57\n"
          ]
        }
      ]
    },
    {
      "cell_type": "markdown",
      "source": [
        "Create a list with integer values by taking the inputs from the user. For each function length and enumerate, minimum, maximum and sorted print to the console, the result of these functions applying on the given input list as shown in the example.\n"
      ],
      "metadata": {
        "id": "6F_s1QLOG61T"
      }
    },
    {
      "cell_type": "markdown",
      "source": [
        "# List Comprehensions"
      ],
      "metadata": {
        "id": "Jw7mG0Hmw50u"
      }
    },
    {
      "cell_type": "markdown",
      "source": [
        "Comprehensions are used to construct the sequences to be built from other sequences.\n",
        "\n",
        "We can use List Comprehensions to create Lists based on existing lists.\n",
        "\n",
        "\n",
        "List comprehension is a complete substitute for the lambda function as well as the functions map(), filter() and reduce().\n",
        "\n",
        "\n",
        "List Comprehension consists of brackets containing an expression followed by a for clause and then may be followed by an additional zero or more for clause or if statements\n",
        "\n",
        "\n",
        "The result of List Comprehension may be of evolving an expression through iterating the for loop.\n",
        "\n",
        "\n",
        "The result of a List Comprehension will always be a List.\n",
        "\n",
        "\n",
        "Syntax for List Comprehensions:\n",
        "\n",
        "\n",
        "**`[ expression for an item in iterate if condition ]`**\n"
      ],
      "metadata": {
        "id": "Usz84twexDid"
      }
    },
    {
      "cell_type": "markdown",
      "source": [
        "**Let's consider the below example to print 1 to 10 numbers in List using for clause.**"
      ],
      "metadata": {
        "id": "pYuEvYZkxNjP"
      }
    },
    {
      "cell_type": "code",
      "source": [
        "list1 = []\n",
        "for i in range(1, 11): # loop repeats from 1 to 10\n",
        "\tlist1.append(i) # every time  value in 'i' will be appended to empty list.\n",
        "print(list1) # finally print list with no. of elements."
      ],
      "metadata": {
        "colab": {
          "base_uri": "https://localhost:8080/"
        },
        "id": "48PYUiENxSEm",
        "outputId": "f3531a75-e537-4f0a-b9c9-dca1491ca074"
      },
      "execution_count": null,
      "outputs": [
        {
          "output_type": "stream",
          "name": "stdout",
          "text": [
            "[1, 2, 3, 4, 5, 6, 7, 8, 9, 10]\n"
          ]
        }
      ]
    },
    {
      "cell_type": "code",
      "source": [
        "# Let's try the above example using List Comprehension:\n",
        "[i for i in range(1, 11)] # will print the result as"
      ],
      "metadata": {
        "colab": {
          "base_uri": "https://localhost:8080/"
        },
        "id": "vRzPpHbFxXqS",
        "outputId": "132bc0cd-4f67-42bc-ec63-df0fb2456632"
      },
      "execution_count": null,
      "outputs": [
        {
          "output_type": "execute_result",
          "data": {
            "text/plain": [
              "[1, 2, 3, 4, 5, 6, 7, 8, 9, 10]"
            ]
          },
          "metadata": {},
          "execution_count": 55
        }
      ]
    },
    {
      "cell_type": "markdown",
      "source": [
        "Here i is an expression which gives final output, for i in range(1, 11) means repeats a for loop from 1 to 10 numbers."
      ],
      "metadata": {
        "id": "N7HB1OB0xihJ"
      }
    },
    {
      "cell_type": "markdown",
      "source": [
        "**print odd numbers of 1 to 10 using List Comprehensions**"
      ],
      "metadata": {
        "id": "4WUuEHKpxpjb"
      }
    },
    {
      "cell_type": "code",
      "source": [
        "[i for i in range(1, 11) if(not i % 2 == 0)]  # List Comprehension to print only odd numbers"
      ],
      "metadata": {
        "colab": {
          "base_uri": "https://localhost:8080/"
        },
        "id": "29zZZiMXxurh",
        "outputId": "b814a00f-dcc5-4c81-d915-f11f38e0c9d2"
      },
      "execution_count": null,
      "outputs": [
        {
          "output_type": "execute_result",
          "data": {
            "text/plain": [
              "[1, 3, 5, 7, 9]"
            ]
          },
          "metadata": {},
          "execution_count": 26
        }
      ]
    },
    {
      "cell_type": "code",
      "source": [
        "# find whether the given number is even or odd\n",
        "n = 11\n",
        "[\"even\" if(n % 2 == 0) else \"odd\"]"
      ],
      "metadata": {
        "colab": {
          "base_uri": "https://localhost:8080/"
        },
        "id": "2SsvHaaWx_c9",
        "outputId": "4bd0e092-7a60-4a5e-a643-e56c3206cce3"
      },
      "execution_count": null,
      "outputs": [
        {
          "output_type": "execute_result",
          "data": {
            "text/plain": [
              "['odd']"
            ]
          },
          "metadata": {},
          "execution_count": 57
        }
      ]
    },
    {
      "cell_type": "code",
      "source": [
        "str=input(\"Enter string\")\n",
        "[i for i in str]"
      ],
      "metadata": {
        "colab": {
          "base_uri": "https://localhost:8080/"
        },
        "id": "UZVl-foAyLhW",
        "outputId": "158619ba-92b8-4071-c7d3-09c73fa5618e"
      },
      "execution_count": null,
      "outputs": [
        {
          "name": "stdout",
          "output_type": "stream",
          "text": [
            "Enter stringDeepak Moud\n"
          ]
        },
        {
          "output_type": "execute_result",
          "data": {
            "text/plain": [
              "['D', 'e', 'e', 'p', 'a', 'k', ' ', 'M', 'o', 'u', 'd']"
            ]
          },
          "metadata": {},
          "execution_count": 27
        }
      ]
    },
    {
      "cell_type": "markdown",
      "source": [
        "We can also use Nested for clauses in List Comprehensions.\n",
        "\n",
        "\n",
        "There is no limit to number of clauses in List Comprehensions, but you should remember that the order of the loops should be the same in both the original code and the list comprehension."
      ],
      "metadata": {
        "id": "2VM_nwjKy1Y6"
      }
    },
    {
      "cell_type": "markdown",
      "source": [
        "`[ expression for item in iterable (optional if `condition)  \n",
        "\n",
        "             for item in iterable (optional if condition)\n",
        "             for item in iterable (optional if condition)......]\n",
        "\n",
        "\n",
        "\n",
        "\n"
      ],
      "metadata": {
        "id": "SvWNtbhQy5OY"
      }
    },
    {
      "cell_type": "code",
      "source": [
        "[a * b for a in [1, 2, 3] for b in [10, 20, 30]]"
      ],
      "metadata": {
        "colab": {
          "base_uri": "https://localhost:8080/"
        },
        "id": "VlwANPRDy85B",
        "outputId": "70b70de0-af73-4f08-fef4-d29b436404b3"
      },
      "execution_count": null,
      "outputs": [
        {
          "output_type": "execute_result",
          "data": {
            "text/plain": [
              "[10, 20, 30, 20, 40, 60, 30, 60, 90]"
            ]
          },
          "metadata": {},
          "execution_count": 8
        }
      ]
    },
    {
      "cell_type": "code",
      "source": [
        "[a for a in [10, 8, 5, 4] for b in [4, 7, 5, 10] if a == b]"
      ],
      "metadata": {
        "colab": {
          "base_uri": "https://localhost:8080/"
        },
        "id": "FR6kZdAyzEEw",
        "outputId": "95e68715-20d6-494e-fb75-30762f7bd018"
      },
      "execution_count": null,
      "outputs": [
        {
          "output_type": "execute_result",
          "data": {
            "text/plain": [
              "[10, 5, 4]"
            ]
          },
          "metadata": {},
          "execution_count": 9
        }
      ]
    },
    {
      "cell_type": "code",
      "source": [
        "[a * 7 for a in range(1, 11) if(not a * 7 == 42)]"
      ],
      "metadata": {
        "id": "q0TIEDgCzP6p",
        "outputId": "1b404e3b-69c9-4382-a05a-eaba37223722",
        "colab": {
          "base_uri": "https://localhost:8080/"
        }
      },
      "execution_count": null,
      "outputs": [
        {
          "output_type": "execute_result",
          "data": {
            "text/plain": [
              "[7, 14, 21, 28, 35, 49, 56, 63, 70]"
            ]
          },
          "metadata": {},
          "execution_count": 10
        }
      ]
    }
  ]
}
