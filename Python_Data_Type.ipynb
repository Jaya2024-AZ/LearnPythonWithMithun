{
  "nbformat": 4,
  "nbformat_minor": 0,
  "metadata": {
    "colab": {
      "provenance": []
    },
    "kernelspec": {
      "name": "python3",
      "display_name": "Python 3"
    },
    "language_info": {
      "name": "python"
    }
  },
  "cells": [
    {
      "cell_type": "markdown",
      "source": [
        "all programming languages, data types are used to classify data to one particular type of data.\n",
        "\n",
        "The data type of the data determines :\n",
        " possible values it can be assigned.\n",
        " possible operations that can be performed. (Arithmetic operations can be applied on numeric data and not strings)\n",
        " the format in which it is stored in the memory.\n",
        " the amount of memory allocated to store the data.\n",
        "Some of the built-in data types supported in Python are:\n",
        "\n",
        "Number\n",
        "String\n",
        "List\n",
        "Tuple\n",
        "Set\n",
        "Dictionary\n"
      ],
      "metadata": {
        "id": "8uqA-zwPhnRr"
      }
    },
    {
      "cell_type": "markdown",
      "source": [
        "In Python, every value has a data type.\n",
        "\n",
        "A variable in Python can hold value of any data type.\n",
        "\n",
        "The same variable in Python can refer to data of different data types at different times.\n",
        "\n",
        "So variables in Python are not (data) typed.\n",
        "\n",
        "Let us consider an example:\n",
        "\n",
        "\n",
        "\n",
        "The syntax of the type() function is as follows :\n",
        "type(variable_name)\n",
        "returns the data type of variable_name"
      ],
      "metadata": {
        "id": "hJ0_XMHLhrsT"
      }
    },
    {
      "cell_type": "code",
      "source": [
        "a = 5 # variable a now refers to Integer data type\n",
        "a = 90.45 # variable a now refers to Float data type\n",
        "a = \"India\"  # variable a now refers to String data type\n",
        "a = [5, 90.45, \"India\"]  # variable a now refers to List data type"
      ],
      "metadata": {
        "id": "nWnIrfIIhvCs"
      },
      "execution_count": null,
      "outputs": []
    },
    {
      "cell_type": "markdown",
      "source": [
        "**Numbers**\n",
        "\n",
        "We have three different categories of numbers in Python. They are :\n",
        "int\n",
        "\n",
        "float\n",
        "\n",
        "complex\n",
        "\n",
        "**1.int** – int stands for integer. This Python data type stores signed integers. We can use the type() function to find which class it belongs to.\n",
        "\n",
        "\n",
        "In Python an integer can be of any length, with the only limitation being the available memory.\n",
        "\n"
      ],
      "metadata": {
        "id": "5SPOGN-uhbvc"
      }
    },
    {
      "cell_type": "code",
      "source": [
        "a = -7\n",
        "print(type(a)) # will print output as follows\n"
      ],
      "metadata": {
        "colab": {
          "base_uri": "https://localhost:8080/"
        },
        "id": "Si0qJFV7h7n7",
        "outputId": "acc2e9ba-0aa8-4aea-8cb5-958720f1ec16"
      },
      "execution_count": null,
      "outputs": [
        {
          "output_type": "stream",
          "name": "stdout",
          "text": [
            "<class 'int'>\n"
          ]
        }
      ]
    },
    {
      "cell_type": "markdown",
      "source": [
        "\n",
        "**2.float** – float stands for floating-point numbers. This Python data type stores floating-point real values. An int can only store the number 20, but float can store numbers with decimal fractions like 20.25 if you want.\n",
        "\n",
        "\n"
      ],
      "metadata": {
        "id": "MqHQ7q0HiByj"
      }
    },
    {
      "cell_type": "code",
      "execution_count": null,
      "metadata": {
        "colab": {
          "base_uri": "https://localhost:8080/"
        },
        "id": "DQyziniBhfzj",
        "outputId": "466caa34-cd68-408b-aced-24384737863e"
      },
      "outputs": [
        {
          "output_type": "stream",
          "name": "stdout",
          "text": [
            "<class 'int'>\n"
          ]
        }
      ],
      "source": [
        "a = 12536984596965565656236534754587821564\n",
        "print(type(a)) # will print output as follows\n"
      ]
    },
    {
      "cell_type": "markdown",
      "source": [
        "**3.complex** – complex stands for complex numbers. This Python data type stores a complex number. A complex number is a combination of a real number and an imaginary number. It takes the form of a + bj Here, a is the real part and b*j is the imaginary part.\n",
        "\n"
      ],
      "metadata": {
        "id": "We920WAOiPAU"
      }
    },
    {
      "cell_type": "code",
      "source": [
        "a = 2 + 3j # It is important to note that there should not be any space between 3 and j\n",
        "print(type(a)) # will print output as follows\n"
      ],
      "metadata": {
        "colab": {
          "base_uri": "https://localhost:8080/"
        },
        "id": "Xq1YrL4aiRle",
        "outputId": "3803d9e2-8f11-41c3-9993-0421ff596433"
      },
      "execution_count": null,
      "outputs": [
        {
          "output_type": "stream",
          "name": "stdout",
          "text": [
            "<class 'complex'>\n"
          ]
        }
      ]
    },
    {
      "cell_type": "markdown",
      "source": [
        "In Python  **STRING**  is a sequence of characters enclosed inside a pair of single quotes(‘) or double quotes(“). Even triple quotes (''') are used in Python to represent multi-line strings.\n"
      ],
      "metadata": {
        "id": "_asJNnsRDI-l"
      }
    },
    {
      "cell_type": "markdown",
      "source": [
        "An individual character within a string is accessed using an index.\n",
        "\n",
        "Index starts from 0 to n-1, where n is the number of characters in the string.\n",
        "\n",
        "Python allows negative indexing in strings. The index of -1 refers to the last item in the string, -2 refers to the second last item and so on.\n",
        "\n",
        " In Python, a string of length 1 is treated as a character."
      ],
      "metadata": {
        "id": "m9n6SzwQDaiS"
      }
    },
    {
      "cell_type": "markdown",
      "source": [
        "Ways of creating strings in Python "
      ],
      "metadata": {
        "id": "pW1hlJtEDgRS"
      }
    },
    {
      "cell_type": "code",
      "source": [
        "# 1. Using single quotes (' ')\n",
        "str = 'Welcome To Python World'\n",
        "print(str)# will print output as follows  \n"
      ],
      "metadata": {
        "colab": {
          "base_uri": "https://localhost:8080/"
        },
        "id": "6qRWVu2bDnby",
        "outputId": "f6314a83-61ca-4384-f51e-4ba7b24e8cee"
      },
      "execution_count": null,
      "outputs": [
        {
          "output_type": "stream",
          "name": "stdout",
          "text": [
            "Welcome To Python World\n"
          ]
        }
      ]
    },
    {
      "cell_type": "code",
      "source": [
        "sentence =  \"Welcome to Python's world\"\n",
        "print (sentence) # will print output as follows"
      ],
      "metadata": {
        "colab": {
          "base_uri": "https://localhost:8080/"
        },
        "id": "cAihc6RUDxH6",
        "outputId": "46c8d582-8769-4e22-8010-f13afba30f4b"
      },
      "execution_count": null,
      "outputs": [
        {
          "output_type": "stream",
          "name": "stdout",
          "text": [
            "Welcome to Python's world\n"
          ]
        }
      ]
    },
    {
      "cell_type": "code",
      "source": [
        "sentence =  'Welcome to Python\\'s world' # observe a backslash (\\) before (')\n",
        "print (sentence) # will print output as follows"
      ],
      "metadata": {
        "colab": {
          "base_uri": "https://localhost:8080/"
        },
        "id": "plmdlMMvD5ZS",
        "outputId": "46d3f7eb-d9b5-40b9-8ad1-e288a3de67f7"
      },
      "execution_count": null,
      "outputs": [
        {
          "output_type": "stream",
          "name": "stdout",
          "text": [
            "Welcome to Python's world\n"
          ]
        }
      ]
    },
    {
      "cell_type": "code",
      "source": [
        "str = \"Welcome to the world of Python\"\n",
        "print(str) # will print output as follows"
      ],
      "metadata": {
        "colab": {
          "base_uri": "https://localhost:8080/"
        },
        "id": "tepJoqsxD9ea",
        "outputId": "2ff265ac-06de-40c8-9abf-8036aa8100b6"
      },
      "execution_count": null,
      "outputs": [
        {
          "output_type": "stream",
          "name": "stdout",
          "text": [
            "Welcome to the world of Python\n"
          ]
        }
      ]
    },
    {
      "cell_type": "code",
      "source": [
        "str = \"\"\"Welcome to the world of Python\n",
        "I love Python and Python is very easy to learn\n",
        "Practice makes man perfect\"\"\"\n",
        "print(str) # will print output as follow"
      ],
      "metadata": {
        "colab": {
          "base_uri": "https://localhost:8080/"
        },
        "id": "tpXL2dMwEDwh",
        "outputId": "8cec7119-7362-49a8-a6d8-a1b11778e5a8"
      },
      "execution_count": null,
      "outputs": [
        {
          "output_type": "stream",
          "name": "stdout",
          "text": [
            "Welcome to the world of Python\n",
            "I love Python and Python is very easy to learn\n",
            "Practice makes man perfect\n"
          ]
        }
      ]
    },
    {
      "cell_type": "code",
      "source": [
        "str = '''Welcome to the world of Python\n",
        "I love Python and Python is very easy to learn\n",
        "Practice makes man perfect'''\n",
        "print(str) # will print output as follows"
      ],
      "metadata": {
        "colab": {
          "base_uri": "https://localhost:8080/"
        },
        "id": "7M_pvAtTEGvp",
        "outputId": "e75b0651-c14d-46e1-b0dd-d03797625f9a"
      },
      "execution_count": null,
      "outputs": [
        {
          "output_type": "stream",
          "name": "stdout",
          "text": [
            "Welcome to the world of Python\n",
            "I love Python and Python is very easy to learn\n",
            "Practice makes man perfect\n"
          ]
        }
      ]
    },
    {
      "cell_type": "markdown",
      "source": [
        "**List** is a data type of Python used to store multiple values of different types of data at a time. List are represented with [].\n",
        "\n",
        "A list can be created by putting comma separated values between square brackets []."
      ],
      "metadata": {
        "id": "GTFNlBRCEcJa"
      }
    },
    {
      "cell_type": "code",
      "source": [
        "list1 = [1, 2, \"one\", \"hi\"]\n",
        "print(list1) # will print output as follows\n"
      ],
      "metadata": {
        "colab": {
          "base_uri": "https://localhost:8080/"
        },
        "id": "SWT_VnKJEjqD",
        "outputId": "c7d8ab0b-1e8b-45ab-a36c-13414b09496e"
      },
      "execution_count": null,
      "outputs": [
        {
          "output_type": "stream",
          "name": "stdout",
          "text": [
            "[1, 2, 'one', 'hi']\n"
          ]
        }
      ]
    },
    {
      "cell_type": "code",
      "source": [
        "list2 = [4, 5, \"hello\"]\n",
        "print(list2) # will print output as follows"
      ],
      "metadata": {
        "colab": {
          "base_uri": "https://localhost:8080/"
        },
        "id": "KjfSb3lXEms6",
        "outputId": "045f7270-cce7-4e64-e131-e1822dbef1ca"
      },
      "execution_count": null,
      "outputs": [
        {
          "output_type": "stream",
          "name": "stdout",
          "text": [
            "[4, 5, 'hello']\n"
          ]
        }
      ]
    },
    {
      "cell_type": "code",
      "source": [
        "list2 = [4, 5, \"hello\"]\n",
        "print(list2[1]) # prints the value present at 1st index in list2"
      ],
      "metadata": {
        "colab": {
          "base_uri": "https://localhost:8080/"
        },
        "id": "CfNh1ZaAEqDS",
        "outputId": "d3160eea-c475-4958-9d8d-69835a957d71"
      },
      "execution_count": null,
      "outputs": [
        {
          "output_type": "stream",
          "name": "stdout",
          "text": [
            "5\n"
          ]
        }
      ]
    },
    {
      "cell_type": "markdown",
      "source": [
        "**Slicing lists**"
      ],
      "metadata": {
        "id": "Yacicn6yEys7"
      }
    },
    {
      "cell_type": "code",
      "source": [
        "l = [1, 4, 5, 7, 4, 15]\n",
        "print( l[2:4])"
      ],
      "metadata": {
        "colab": {
          "base_uri": "https://localhost:8080/"
        },
        "id": "eKYay3jUE6Mb",
        "outputId": "70462db9-3a59-432a-946e-ca72d05c8e7c"
      },
      "execution_count": null,
      "outputs": [
        {
          "output_type": "stream",
          "name": "stdout",
          "text": [
            "[5, 7]\n"
          ]
        }
      ]
    },
    {
      "cell_type": "code",
      "source": [
        "l = [1, 4, 6, 22, 44, 12, 55, 66]\n",
        "print(l[3:-3])\t"
      ],
      "metadata": {
        "colab": {
          "base_uri": "https://localhost:8080/"
        },
        "id": "uSPlsUPEFLjK",
        "outputId": "c8dd9322-fa51-4d8f-f10e-a4f3970c02e6"
      },
      "execution_count": null,
      "outputs": [
        {
          "output_type": "stream",
          "name": "stdout",
          "text": [
            "[22, 44]\n"
          ]
        }
      ]
    },
    {
      "cell_type": "code",
      "source": [
        "l[3:]\t"
      ],
      "metadata": {
        "colab": {
          "base_uri": "https://localhost:8080/"
        },
        "id": "kOyFRwGtFY6d",
        "outputId": "d812b63d-00cd-4596-8145-3e552fe8ec7f"
      },
      "execution_count": null,
      "outputs": [
        {
          "output_type": "execute_result",
          "data": {
            "text/plain": [
              "[22, 44, 12, 55, 66]"
            ]
          },
          "metadata": {},
          "execution_count": 13
        }
      ]
    },
    {
      "cell_type": "code",
      "source": [
        "l[:4]\t"
      ],
      "metadata": {
        "colab": {
          "base_uri": "https://localhost:8080/"
        },
        "id": "kbZHgqsCFdaz",
        "outputId": "15ec98bd-2f0c-431c-d877-0e6137fc9447"
      },
      "execution_count": null,
      "outputs": [
        {
          "output_type": "execute_result",
          "data": {
            "text/plain": [
              "[1, 4, 6, 22]"
            ]
          },
          "metadata": {},
          "execution_count": 14
        }
      ]
    },
    {
      "cell_type": "markdown",
      "source": [
        "**Concatenating lists**"
      ],
      "metadata": {
        "id": "kjt_55PzFhus"
      }
    },
    {
      "cell_type": "code",
      "source": [
        "list1 = [1, 2, 'one', 'hi']\n",
        "list2 = [4, 5, 'hello']\n",
        "print(list1 + list2) # will print output as follows"
      ],
      "metadata": {
        "colab": {
          "base_uri": "https://localhost:8080/"
        },
        "id": "7fvq90ysFnbT",
        "outputId": "c3bb0977-cbb7-4b9a-c182-4016458721d8"
      },
      "execution_count": null,
      "outputs": [
        {
          "output_type": "stream",
          "name": "stdout",
          "text": [
            "[1, 2, 'one', 'hi', 4, 5, 'hello']\n"
          ]
        }
      ]
    },
    {
      "cell_type": "markdown",
      "source": [
        "**Repeating lists**"
      ],
      "metadata": {
        "id": "FABAMCk3FrOL"
      }
    },
    {
      "cell_type": "code",
      "source": [
        "list2 = [4, 5, 'hello']\n",
        "print(2 * list2) # will print output as follows"
      ],
      "metadata": {
        "colab": {
          "base_uri": "https://localhost:8080/"
        },
        "id": "otLCK7iuFvEd",
        "outputId": "222b19da-a8af-4558-c043-f081a3f4d173"
      },
      "execution_count": null,
      "outputs": [
        {
          "output_type": "stream",
          "name": "stdout",
          "text": [
            "[4, 5, 'hello', 4, 5, 'hello']\n"
          ]
        }
      ]
    },
    {
      "cell_type": "markdown",
      "source": [
        "**Working with nested lists**"
      ],
      "metadata": {
        "id": "PTiPszwnFy6N"
      }
    },
    {
      "cell_type": "code",
      "source": [
        "list1 = [23, 5.65, [\"A\", 34.23], \"India\"]\n",
        "print(list1[2] [1] )"
      ],
      "metadata": {
        "colab": {
          "base_uri": "https://localhost:8080/"
        },
        "id": "_Xqksq6MF3hU",
        "outputId": "248caa67-2d72-48c4-9dc4-75754b31131c"
      },
      "execution_count": null,
      "outputs": [
        {
          "output_type": "stream",
          "name": "stdout",
          "text": [
            "34.23\n"
          ]
        }
      ]
    },
    {
      "cell_type": "markdown",
      "source": [
        "We can access the elements of a list by using index similar to accessing the individual characters of a string.\n",
        "\n",
        "Unlike strings, lists are mutable i.e. we can modify the list (change the items, add items and reassign an item)."
      ],
      "metadata": {
        "id": "iSBkSJDqGH4D"
      }
    },
    {
      "cell_type": "code",
      "source": [
        "chars = ['a', 'b', 'c', 'd']\n",
        "chars[3] = 'xyz'\n",
        "print(chars) # will print output as follows\n",
        "\n",
        "Output :\n",
        "['a', 'b', 'c', 'xyz']"
      ],
      "metadata": {
        "id": "J0suNCwbGGwF"
      },
      "execution_count": null,
      "outputs": []
    },
    {
      "cell_type": "markdown",
      "source": [
        "**Add an item to the list**"
      ],
      "metadata": {
        "id": "r29jaInmGQMT"
      }
    },
    {
      "cell_type": "code",
      "source": [
        "chars = ['a', 'b', 'c', 'd']\n",
        "chars.append(\"abcd\")\n",
        "print(chars) # will print output as follows"
      ],
      "metadata": {
        "colab": {
          "base_uri": "https://localhost:8080/"
        },
        "id": "e_-FWkewGUoE",
        "outputId": "9762ac3c-aed2-4b48-ff5f-ec93b8466ce1"
      },
      "execution_count": null,
      "outputs": [
        {
          "output_type": "stream",
          "name": "stdout",
          "text": [
            "['a', 'b', 'c', 'd', 'abcd']\n"
          ]
        }
      ]
    },
    {
      "cell_type": "code",
      "source": [
        "chars = ['a', 'b', 'c', 'd']\n",
        "chars.append( ['e', 'f'])  # This will append the list ['e', 'f'] as the last item to the chars list.  \n",
        "print(chars) # will print output as follows \n"
      ],
      "metadata": {
        "id": "jCa65s5EGaSt"
      },
      "execution_count": null,
      "outputs": []
    },
    {
      "cell_type": "markdown",
      "source": [
        "The **extend()** method is used to add items of one list to be added as individual items of another list."
      ],
      "metadata": {
        "id": "uKqqQYXUGe1k"
      }
    },
    {
      "cell_type": "code",
      "source": [
        "chars = ['a', 'b', 'c', 'd']\n",
        "list2 = [1, 2, 3]\n",
        "chars.extend(list2)\n",
        "print(chars) # will print output as follows\n"
      ],
      "metadata": {
        "colab": {
          "base_uri": "https://localhost:8080/"
        },
        "id": "JA-tnVk_G0oW",
        "outputId": "66df0882-4c49-4e3c-ffd4-0187cf655adf"
      },
      "execution_count": null,
      "outputs": [
        {
          "output_type": "stream",
          "name": "stdout",
          "text": [
            "['a', 'b', 'c', 'd', 1, 2, 3]\n"
          ]
        }
      ]
    },
    {
      "cell_type": "markdown",
      "source": [
        "A **set** is a mutable data type that contains an unordered collection of items.\n",
        "\n",
        "Every element in the set should be unique (no duplicates) and must be immutable (which cannot be changed). But the set itself is mutable. We can add or remove items / elements from it."
      ],
      "metadata": {
        "id": "qvwfHcrxHCpI"
      }
    },
    {
      "cell_type": "markdown",
      "source": [
        "Note : Mutable data types like list, set and dictionary cannot become elements of a set.\n",
        "The set itself is mutable i.e. we can add or remove elements from the set.\n",
        "\n",
        "The main uses of sets are:\n",
        " Membership testing\n",
        "Removing duplicates from a sequence\n",
        "Performing mathematical operations such as intersection, union, difference, and symmetric difference\n",
        "A set is represented with { }.\n"
      ],
      "metadata": {
        "id": "9Zw_GBBhHLdu"
      }
    },
    {
      "cell_type": "markdown",
      "source": [
        "Creation of sets\n",
        "\n",
        "A set is created by placing all the items (elements) inside curly braces **{},** separated by comma or by using the built-in function set().\n",
        "\n",
        "Empty set\n",
        "\n",
        "An empty set can be created using built-in set() function.\n"
      ],
      "metadata": {
        "id": "Q1tsNpqYHOnN"
      }
    },
    {
      "cell_type": "code",
      "source": [
        "myset = set()\n",
        "print(myset) # will print empty set.\n",
        "print(type(myset)) # will print type of myset.\n"
      ],
      "metadata": {
        "colab": {
          "base_uri": "https://localhost:8080/"
        },
        "id": "yGUyj_2OHWSf",
        "outputId": "bcb9fb60-ea2c-4fa0-e952-ffbc1a872e83"
      },
      "execution_count": null,
      "outputs": [
        {
          "output_type": "stream",
          "name": "stdout",
          "text": [
            "set()\n",
            "<class 'set'>\n"
          ]
        }
      ]
    },
    {
      "cell_type": "code",
      "source": [
        "myset1 = {1, 2, 3} \n",
        "print(myset1) # will print the elements of a set.\n",
        "print(type(myset1)) # will print type of myset1."
      ],
      "metadata": {
        "colab": {
          "base_uri": "https://localhost:8080/"
        },
        "id": "JVOAjr5jHZg_",
        "outputId": "9f66b249-bd68-4c43-d7d5-7514d846e002"
      },
      "execution_count": null,
      "outputs": [
        {
          "output_type": "stream",
          "name": "stdout",
          "text": [
            "{1, 2, 3}\n",
            "<class 'set'>\n"
          ]
        }
      ]
    },
    {
      "cell_type": "code",
      "source": [
        "test = { } \n",
        "print(type(test))\n"
      ],
      "metadata": {
        "colab": {
          "base_uri": "https://localhost:8080/"
        },
        "id": "8xFxPTETHct5",
        "outputId": "08535152-c6b1-4b5c-9719-07768f8f8055"
      },
      "execution_count": null,
      "outputs": [
        {
          "output_type": "stream",
          "name": "stdout",
          "text": [
            "<class 'dict'>\n"
          ]
        }
      ]
    },
    {
      "cell_type": "markdown",
      "source": [
        "A **tuple** is a data type similar to list.\n",
        "\n",
        "The major differences between the two are: Lists are enclosed in square brackets [] and their elements and size can be changed (mutable), while tuples are enclosed in parentheses () and their elements cannot be changed (immutable).\n",
        "\n",
        "Tuples can be thought of as read-only lists.\n"
      ],
      "metadata": {
        "id": "dUYnQoIWHkzA"
      }
    },
    {
      "cell_type": "markdown",
      "source": [
        "**A tuple is represented using parenthesis ( ).**\n",
        "\n",
        "**Creation of a Tuple:**\n",
        "\n",
        "Tuples can be created using built-in function called tuple().\n",
        "\n",
        "An empty tuple can be created using tuple() function as follows :"
      ],
      "metadata": {
        "id": "wlygsJB3Ht3O"
      }
    },
    {
      "cell_type": "code",
      "source": [
        "tuple1 = tuple() # Creating an empty tuple using tuple() function\n",
        "print(tuple1) # Printing tuple1\n"
      ],
      "metadata": {
        "colab": {
          "base_uri": "https://localhost:8080/"
        },
        "id": "zvJpcfhPHzaW",
        "outputId": "8ee10564-feb6-4798-d2aa-6440b77a59b2"
      },
      "execution_count": null,
      "outputs": [
        {
          "output_type": "stream",
          "name": "stdout",
          "text": [
            "()\n"
          ]
        }
      ]
    },
    {
      "cell_type": "code",
      "source": [
        "mytuple = (1, 2, 3, \"Data types\") # mytuple = 1, 2, 3, \"Data types\" will also work.\n",
        "print(mytuple)\n",
        "print(type(mytuple))"
      ],
      "metadata": {
        "colab": {
          "base_uri": "https://localhost:8080/"
        },
        "id": "WtnhRluLH3Wm",
        "outputId": "6594aae3-a206-4221-cb99-00e587dd7cc4"
      },
      "execution_count": null,
      "outputs": [
        {
          "output_type": "stream",
          "name": "stdout",
          "text": [
            "(1, 2, 3, 'Data types')\n",
            "<class 'tuple'>\n"
          ]
        }
      ]
    },
    {
      "cell_type": "code",
      "source": [
        "tuple2 = (1, 2, 3, \"data types\") # creating tuple with different type of values\n",
        "print(tuple2) # print created tuple"
      ],
      "metadata": {
        "colab": {
          "base_uri": "https://localhost:8080/"
        },
        "id": "KuxVggDwH6H_",
        "outputId": "5d437680-1ac8-46f2-8db1-8e7cb4b8c8c5"
      },
      "execution_count": null,
      "outputs": [
        {
          "output_type": "stream",
          "name": "stdout",
          "text": [
            "(1, 2, 3, 'data types')\n"
          ]
        }
      ]
    },
    {
      "cell_type": "code",
      "source": [
        "mytuple = (1)\n",
        "print(mytuple) # Will print integer 1 instead of a tuple.\n",
        "print(type(mytuple)) # will print output as follows \n"
      ],
      "metadata": {
        "colab": {
          "base_uri": "https://localhost:8080/"
        },
        "id": "0xHIo_xDICTS",
        "outputId": "338d60cf-8c65-47eb-ff5b-59bef428441c"
      },
      "execution_count": null,
      "outputs": [
        {
          "output_type": "stream",
          "name": "stdout",
          "text": [
            "1\n",
            "<class 'int'>\n"
          ]
        }
      ]
    },
    {
      "cell_type": "code",
      "source": [
        "mytuple = (1,)\n",
        "print(mytuple) # Will print tuple (1,) \n",
        "print(type(mytuple)) # will print output as follows\n"
      ],
      "metadata": {
        "colab": {
          "base_uri": "https://localhost:8080/"
        },
        "id": "tIoIRwv_IGEH",
        "outputId": "c6381b97-f602-4438-df15-782c8f708a4e"
      },
      "execution_count": null,
      "outputs": [
        {
          "output_type": "stream",
          "name": "stdout",
          "text": [
            "(1,)\n",
            "<class 'tuple'>\n"
          ]
        }
      ]
    },
    {
      "cell_type": "markdown",
      "source": [
        "Individual elements of the tuple can be accessed using index similar to lists."
      ],
      "metadata": {
        "id": "G8wNwXCwIdxY"
      }
    },
    {
      "cell_type": "code",
      "source": [
        "tuple1 = (\"hi\", \"hello\", 55, 66)\n",
        "print(tuple1[0]) # Printing the element at the  0th index of the tuple, tuple1\n"
      ],
      "metadata": {
        "colab": {
          "base_uri": "https://localhost:8080/"
        },
        "id": "D2Iz9g5jIhrS",
        "outputId": "cb8069bc-3b0c-45e2-f888-2909a256fbce"
      },
      "execution_count": null,
      "outputs": [
        {
          "output_type": "stream",
          "name": "stdout",
          "text": [
            "hi\n"
          ]
        }
      ]
    },
    {
      "cell_type": "code",
      "source": [
        "tuple1 = (\"hi\", \"hello\", 55, 66)\n",
        "print(tuple1[-2]) # Printing the second last element of the tuple."
      ],
      "metadata": {
        "colab": {
          "base_uri": "https://localhost:8080/"
        },
        "id": "lNUdb22zIl_w",
        "outputId": "c0543d43-0519-489a-965f-f62d3ce21d2a"
      },
      "execution_count": null,
      "outputs": [
        {
          "output_type": "stream",
          "name": "stdout",
          "text": [
            "55\n"
          ]
        }
      ]
    },
    {
      "cell_type": "code",
      "source": [
        "tuple1 = (\"hi\", \"hello\", 55, 66)\n",
        "print(tuple1[4]) # Printing the element at the 4th index of the tuple, tuple1 results in an IndexError."
      ],
      "metadata": {
        "colab": {
          "base_uri": "https://localhost:8080/",
          "height": 182
        },
        "id": "xRniFNlSIqEJ",
        "outputId": "38d78f6e-d485-429a-9aac-5280d15b8d00"
      },
      "execution_count": null,
      "outputs": [
        {
          "output_type": "error",
          "ename": "IndexError",
          "evalue": "ignored",
          "traceback": [
            "\u001b[0;31m---------------------------------------------------------------------------\u001b[0m",
            "\u001b[0;31mIndexError\u001b[0m                                Traceback (most recent call last)",
            "\u001b[0;32m<ipython-input-30-5b1ca6dbf0f0>\u001b[0m in \u001b[0;36m<module>\u001b[0;34m\u001b[0m\n\u001b[1;32m      1\u001b[0m \u001b[0mtuple1\u001b[0m \u001b[0;34m=\u001b[0m \u001b[0;34m(\u001b[0m\u001b[0;34m\"hi\"\u001b[0m\u001b[0;34m,\u001b[0m \u001b[0;34m\"hello\"\u001b[0m\u001b[0;34m,\u001b[0m \u001b[0;36m55\u001b[0m\u001b[0;34m,\u001b[0m \u001b[0;36m66\u001b[0m\u001b[0;34m)\u001b[0m\u001b[0;34m\u001b[0m\u001b[0;34m\u001b[0m\u001b[0m\n\u001b[0;32m----> 2\u001b[0;31m \u001b[0mprint\u001b[0m\u001b[0;34m(\u001b[0m\u001b[0mtuple1\u001b[0m\u001b[0;34m[\u001b[0m\u001b[0;36m4\u001b[0m\u001b[0;34m]\u001b[0m\u001b[0;34m)\u001b[0m \u001b[0;31m# Printing the element at the 4th index of the tuple, tuple1 results in an IndexError.\u001b[0m\u001b[0;34m\u001b[0m\u001b[0;34m\u001b[0m\u001b[0m\n\u001b[0m",
            "\u001b[0;31mIndexError\u001b[0m: tuple index out of range"
          ]
        }
      ]
    },
    {
      "cell_type": "markdown",
      "source": [
        "It is possible to convert tuples into lists and vice versa using builtin-functions like tuple() and list()"
      ],
      "metadata": {
        "id": "BI4BbiFHIyhA"
      }
    },
    {
      "cell_type": "code",
      "source": [
        "tuple1 = ('hi', 'hello', 55, 66) # Creating a tuple, tuple1\n",
        "print(tuple1) # Printing tuple1 , output contains values enclosed in parentheses indicating a tuple\n",
        "print(type(tuple1)) # Printing the type of tuple1\n",
        "\n",
        "list1 = list(tuple1) # Converting the tuple1 into a list using list() function.\n",
        "print(list1) # Printing list1 , output contains values enclosed in square brackets indicating a tuple\n",
        "print(type(list1))"
      ],
      "metadata": {
        "colab": {
          "base_uri": "https://localhost:8080/"
        },
        "id": "xIvjwZlfI1yn",
        "outputId": "85293014-1e7b-4059-ff1b-16d02bd4a9fc"
      },
      "execution_count": null,
      "outputs": [
        {
          "output_type": "stream",
          "name": "stdout",
          "text": [
            "('hi', 'hello', 55, 66)\n",
            "<class 'tuple'>\n",
            "['hi', 'hello', 55, 66]\n",
            "<class 'list'>\n"
          ]
        }
      ]
    },
    {
      "cell_type": "code",
      "source": [
        "tuple1 = ('hi', 'hello', 55, 66) # Creating a tuple, tuple1\n",
        "print(\"Given tuple :\",tuple1) \n",
        "list1 = list(tuple1) # Converting the tuple to a list using built-in list() function.\n",
        "print(\"After conversion of tuple to list :\",list1) \n",
        "list1[2] = \"fifty five\"  # Updating the value of element at 2nd index. This does not result in an error as the lists are mutable.\n",
        "print(\"List after changing the element :\",list1) \n",
        "tuple1 = tuple(list1)  # Converting the list back to tuple using the built-in tuple() method.\n",
        "print(\"After converting list into tuple :\",tuple1) # Printing the final tuple with the updated element at 2nd index."
      ],
      "metadata": {
        "colab": {
          "base_uri": "https://localhost:8080/"
        },
        "id": "cDQNksP0I9Ng",
        "outputId": "66ddc0e0-d586-453c-bf7d-342dca85838b"
      },
      "execution_count": null,
      "outputs": [
        {
          "output_type": "stream",
          "name": "stdout",
          "text": [
            "Given tuple : ('hi', 'hello', 55, 66)\n",
            "After conversion of tuple to list : ['hi', 'hello', 55, 66]\n",
            "List after changing the element : ['hi', 'hello', 'fifty five', 66]\n",
            "After converting list into tuple : ('hi', 'hello', 'fifty five', 66)\n"
          ]
        }
      ]
    },
    {
      "cell_type": "markdown",
      "source": [
        "**Dictionary** is an unordered collection of key and value pairs.\n",
        "\n",
        "Note : While other compound data types (like lists, tuples and sets) have only value as an element, a dictionary has a key : value pair\n",
        "General usage of dictionaries is to store key-value pairs like :\n",
        " Employees and their wages\n",
        "Countries and their capitals\n",
        "Commodities and their prices\n",
        "In a dictionary, the keys should be unique, but the values can change. For example, the price of a commodity may change over time, but its name will not change.\n",
        "\n",
        "Immutable data types like number, string, tuple etc. are used for the key and any data type is used for the value.\n"
      ],
      "metadata": {
        "id": "HBxRTSfEJZp0"
      }
    },
    {
      "cell_type": "markdown",
      "source": [
        "Dictionaries are represented using key-value pairs separated by commas inside curly braces {}. The key-value pairs are represented as key : value. For example, daily temperatures in major cities are mapped into a dictionary as { \"Hyderabad\" : 27 , \"Chennai\" : 32 , \"Mumbai\" : 40 }.\n",
        "\n",
        "Creating a dictionary:\n",
        "\n",
        "A dictionary can be created in two ways.\n",
        " Using the built-in dict() function.\n",
        " Assigning elements directly"
      ],
      "metadata": {
        "id": "VPEmkFTNJgCp"
      }
    },
    {
      "cell_type": "code",
      "source": [
        "# 1. Using built-in dict() function.\n",
        "mydict = dict() # Creating an empty dictionary called mydict\n",
        "print(type(mydict)) # Printing data type of mydict.\n",
        "print(mydict)  # Prints empty dictionary."
      ],
      "metadata": {
        "colab": {
          "base_uri": "https://localhost:8080/"
        },
        "id": "IbeCOApMJkBR",
        "outputId": "09bfa26d-db84-46f4-e2db-0b7025b1de44"
      },
      "execution_count": null,
      "outputs": [
        {
          "output_type": "stream",
          "name": "stdout",
          "text": [
            "<class 'dict'>\n",
            "{}\n"
          ]
        }
      ]
    },
    {
      "cell_type": "code",
      "source": [
        "mydict = dict(Hyderabad = 20, Delhi = 30) # A dictionary with two key pairs is created.\n",
        "print(mydict) # Prints the dictionary \n"
      ],
      "metadata": {
        "colab": {
          "base_uri": "https://localhost:8080/"
        },
        "id": "1HvDsEC6JqEs",
        "outputId": "71f25c81-1813-454c-a327-976d09247d57"
      },
      "execution_count": null,
      "outputs": [
        {
          "output_type": "stream",
          "name": "stdout",
          "text": [
            "{'Hyderabad': 20, 'Delhi': 30}\n"
          ]
        }
      ]
    },
    {
      "cell_type": "code",
      "source": [
        "mydict = {1:\"one\", 2 :\"two\", 3:\"three\"}  # Create a dictionary with three key-value pairs.\n",
        "print(mydict) # Printing the dictionary\n",
        "print(type(mydict)) # will print output as follows"
      ],
      "metadata": {
        "colab": {
          "base_uri": "https://localhost:8080/"
        },
        "id": "Yq6TK6c1JwGq",
        "outputId": "aed58371-0537-4f91-9a2a-fdf08b3a7e3f"
      },
      "execution_count": null,
      "outputs": [
        {
          "output_type": "stream",
          "name": "stdout",
          "text": [
            "{1: 'one', 2: 'two', 3: 'three'}\n",
            "<class 'dict'>\n"
          ]
        }
      ]
    },
    {
      "cell_type": "markdown",
      "source": [
        "The elements of the dictionary can be retrieved/accessed in 2 ways.\n",
        "\n",
        " Using the keys of the dictionary.\n",
        " Using the get() method. "
      ],
      "metadata": {
        "id": "hBU1jOGnJ39a"
      }
    },
    {
      "cell_type": "code",
      "source": [
        "# 1. Using the keys of the dictionary.\n",
        "capitals = {\"U.S.A\" : \"Washington D.C\", \"India\" : \"New Delhi\", \"Nepal\" : \"Khatmandu\"} # Creating a dictionary, \n",
        "print(capitals[\"India\"]) # Printing the value with the key \"India\" i.e. \"New Delhi\".\n",
        "print(capitals[\"Nepal\"]) # Printing the value with the key \"Nepal\" i.e. \"Khatmandu\".\n"
      ],
      "metadata": {
        "colab": {
          "base_uri": "https://localhost:8080/"
        },
        "id": "5Cphj4HmJ-x8",
        "outputId": "407892ed-b4cd-49ce-d616-c9a9cbd6f42b"
      },
      "execution_count": null,
      "outputs": [
        {
          "output_type": "stream",
          "name": "stdout",
          "text": [
            "New Delhi\n",
            "Khatmandu\n"
          ]
        }
      ]
    },
    {
      "cell_type": "code",
      "source": [
        "capitals = {\"U.S.A\" : \"Washington D.C\", \"India\" : \"New Delhi\", \"Nepal\" : \"Khatmandu\"} # Creating a dictionary, \n",
        "print(capitals[\"India\"]) # Printing the value with the key \"India\" i.e. \"New Delhi\".\n",
        "print(capitals[\"Australia\"]) # Since the key \"Australia\" is not present, it results in a Key Error"
      ],
      "metadata": {
        "colab": {
          "base_uri": "https://localhost:8080/",
          "height": 217
        },
        "id": "OFeoytwjKFdN",
        "outputId": "addc1766-5614-4f56-b06e-1e5e07c3482b"
      },
      "execution_count": null,
      "outputs": [
        {
          "output_type": "stream",
          "name": "stdout",
          "text": [
            "New Delhi\n"
          ]
        },
        {
          "output_type": "error",
          "ename": "KeyError",
          "evalue": "ignored",
          "traceback": [
            "\u001b[0;31m---------------------------------------------------------------------------\u001b[0m",
            "\u001b[0;31mKeyError\u001b[0m                                  Traceback (most recent call last)",
            "\u001b[0;32m<ipython-input-37-3dbb3889441f>\u001b[0m in \u001b[0;36m<module>\u001b[0;34m\u001b[0m\n\u001b[1;32m      1\u001b[0m \u001b[0mcapitals\u001b[0m \u001b[0;34m=\u001b[0m \u001b[0;34m{\u001b[0m\u001b[0;34m\"U.S.A\"\u001b[0m \u001b[0;34m:\u001b[0m \u001b[0;34m\"Washington D.C\"\u001b[0m\u001b[0;34m,\u001b[0m \u001b[0;34m\"India\"\u001b[0m \u001b[0;34m:\u001b[0m \u001b[0;34m\"New Delhi\"\u001b[0m\u001b[0;34m,\u001b[0m \u001b[0;34m\"Nepal\"\u001b[0m \u001b[0;34m:\u001b[0m \u001b[0;34m\"Khatmandu\"\u001b[0m\u001b[0;34m}\u001b[0m \u001b[0;31m# Creating a dictionary,\u001b[0m\u001b[0;34m\u001b[0m\u001b[0;34m\u001b[0m\u001b[0m\n\u001b[1;32m      2\u001b[0m \u001b[0mprint\u001b[0m\u001b[0;34m(\u001b[0m\u001b[0mcapitals\u001b[0m\u001b[0;34m[\u001b[0m\u001b[0;34m\"India\"\u001b[0m\u001b[0;34m]\u001b[0m\u001b[0;34m)\u001b[0m \u001b[0;31m# Printing the value with the key \"India\" i.e. \"New Delhi\".\u001b[0m\u001b[0;34m\u001b[0m\u001b[0;34m\u001b[0m\u001b[0m\n\u001b[0;32m----> 3\u001b[0;31m \u001b[0mprint\u001b[0m\u001b[0;34m(\u001b[0m\u001b[0mcapitals\u001b[0m\u001b[0;34m[\u001b[0m\u001b[0;34m\"Australia\"\u001b[0m\u001b[0;34m]\u001b[0m\u001b[0;34m)\u001b[0m \u001b[0;31m# Since the key \"Australia\" is not present, it results in a Key Error\u001b[0m\u001b[0;34m\u001b[0m\u001b[0;34m\u001b[0m\u001b[0m\n\u001b[0m",
            "\u001b[0;31mKeyError\u001b[0m: 'Australia'"
          ]
        }
      ]
    },
    {
      "cell_type": "code",
      "source": [
        "capitals = {\"U.S.A\" : \"Washington D.C\", \"India\" : \"New Delhi\", \"Nepal\" : \"Khatmandu\"} # Creating a dictionary, \n",
        "print(capitals.get(\"India\")) # Printing the value with the key \"India\" i.e. \"New Delhi\".\n",
        "print(capitals.get(\"Nepal\")) # Printing the value with the key \"Nepal\" i.e. \"Khatmandu\"."
      ],
      "metadata": {
        "colab": {
          "base_uri": "https://localhost:8080/"
        },
        "id": "MaFsGMZ-KJU1",
        "outputId": "9bbeaab0-2b6e-4e48-bc58-da5d4556271a"
      },
      "execution_count": null,
      "outputs": [
        {
          "output_type": "stream",
          "name": "stdout",
          "text": [
            "New Delhi\n",
            "Khatmandu\n"
          ]
        }
      ]
    },
    {
      "cell_type": "code",
      "source": [
        "capitals = {\"U.S.A\" : \"Washington D.C\", \"India\" : \"New Delhi\", \"Nepal\" : \"Khatmandu\"} # Creating a dictionary, \n",
        "print(capitals.get(\"India\")) # Printing the value with the key \"India\" i.e. \"New Delhi\".\n",
        "print(capitals.get(\"Australia\")) # Since the key \"Australia\" is not present, it results in a None\n"
      ],
      "metadata": {
        "id": "Z2zEgwHMKQX3",
        "outputId": "1b5449ef-f3fa-4ecf-8e91-9ce7e491ddbd",
        "colab": {
          "base_uri": "https://localhost:8080/"
        }
      },
      "execution_count": null,
      "outputs": [
        {
          "output_type": "stream",
          "name": "stdout",
          "text": [
            "New Delhi\n",
            "None\n"
          ]
        }
      ]
    }
  ]
}