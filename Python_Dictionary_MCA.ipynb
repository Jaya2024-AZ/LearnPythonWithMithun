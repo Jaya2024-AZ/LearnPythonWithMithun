{
  "nbformat": 4,
  "nbformat_minor": 0,
  "metadata": {
    "colab": {
      "provenance": []
    },
    "kernelspec": {
      "name": "python3",
      "display_name": "Python 3"
    },
    "language_info": {
      "name": "python"
    }
  },
  "cells": [
    {
      "cell_type": "markdown",
      "source": [
        "# Dictionary"
      ],
      "metadata": {
        "id": "DkgTUxfVCU-e"
      }
    },
    {
      "cell_type": "markdown",
      "source": [
        "### Dictionary is an unordered collection of key and value pairs.\n",
        "\n",
        "\n",
        "We use Dictionaries to store key and value pairs such as countries and capitals, cities and population, goods and prices etc.\n",
        "\n",
        "\n",
        "The keys should be unique, but the values can change (The price of a commodity may change over time, but the name of the commodity will not change)."
      ],
      "metadata": {
        "id": "FY940biXoRe6"
      }
    },
    {
      "cell_type": "markdown",
      "source": [
        "Dictionary is an disordered collection of elements. Dictionary contains elements in the form of (key and value) pairs.\n",
        "\n",
        "\n",
        "---\n",
        "\n",
        "\n",
        "\n",
        "Unlike sequences which are indexed by a range of numbers, dictionaries are indexed by keys.\n",
        "\n",
        "\n",
        "\n",
        "---\n",
        "\n",
        "\n",
        "The element in a dictionary is of type key:value pair.\n",
        "\n",
        "\n",
        "\n",
        "---\n",
        "\n",
        "\n",
        "Hence, a dictionary is a set of disordered collection of comma separated key:value pairs which are enclosed within {} braces.\n",
        "\n",
        "\n",
        "---\n",
        "\n",
        "\n",
        "\n",
        "The requirement for the Key is it should be immutable and unique and can be of types - strings, numbers, tuples.\n",
        "\n",
        "\n",
        "---\n",
        "\n",
        "\n",
        "\n",
        "Tuples can also be Keys if they contain only strings, numbers or tuples.\n",
        "\n",
        "\n",
        "\n",
        "---\n",
        "\n",
        "\n",
        "If any tuple contains a mutable object (such as a list), it cannot be used as a Key.\n",
        "\n",
        "\n",
        "\n",
        "---\n",
        "\n",
        "\n",
        "Usually a pair of braces { } represents an empty dictionary.\n",
        "\n",
        "\n",
        "\n",
        "---\n",
        "\n",
        "\n",
        "Elements can be added, changed or removed by using the key.\n"
      ],
      "metadata": {
        "id": "cBVxr-z1oh5J"
      }
    },
    {
      "cell_type": "markdown",
      "source": [
        "The generalized form of declaring a dictionary is,\n",
        "\n",
        "`d = {key1: value1, key2: value2, ... , keyn:valuen}`"
      ],
      "metadata": {
        "id": "OpE4Tb-Go-FD"
      }
    },
    {
      "cell_type": "code",
      "source": [
        "month = {'Jan':1, 'Feb':2, 'Mar':3, 'Apr':4, 'May':5, 'Jun':6}\n",
        "print(month)\n",
        "\n",
        "print(type(month))"
      ],
      "metadata": {
        "colab": {
          "base_uri": "https://localhost:8080/"
        },
        "id": "JbEDG0lipHhs",
        "outputId": "b9054a81-b627-439d-8535-bd8f38ed4f5d"
      },
      "execution_count": null,
      "outputs": [
        {
          "output_type": "stream",
          "name": "stdout",
          "text": [
            "{'Jan': 1, 'Feb': 2, 'Mar': 3, 'Apr': 4, 'May': 5, 'Jun': 6}\n",
            "<class 'dict'>\n"
          ]
        }
      ]
    },
    {
      "cell_type": "markdown",
      "source": [
        "A **dict()** constructor can also be used to construct a dictionary directly from sequences of key-value pairs."
      ],
      "metadata": {
        "id": "G12fev_IpNM5"
      }
    },
    {
      "cell_type": "code",
      "source": [
        "d = dict([('one', 1), ('two', 2), ('three', 3), ('four', 4)])\n",
        "print(d)\n",
        "\n",
        "print(d['four'])"
      ],
      "metadata": {
        "colab": {
          "base_uri": "https://localhost:8080/"
        },
        "id": "heZezf6JpQ3R",
        "outputId": "b21f7412-7d1c-4d00-87e8-1d8f4436850d"
      },
      "execution_count": null,
      "outputs": [
        {
          "output_type": "stream",
          "name": "stdout",
          "text": [
            "{'one': 1, 'two': 2, 'three': 3, 'four': 4}\n",
            "4\n"
          ]
        }
      ]
    },
    {
      "cell_type": "markdown",
      "source": [
        "The typical operations that can be performed on a dictionary are:\n",
        "\n",
        "\n",
        "---\n",
        "\n",
        "\n",
        "Adding elements i.e., Key:Value pairs.\n",
        "\n",
        "\n",
        "---\n",
        "\n",
        "\n",
        "Accessing elements using the Key with the Index operator [] or using get() method.\n",
        "\n",
        "\n",
        "---\n",
        "\n",
        "\n",
        "Updating the value of a particular element given in the Key.\n",
        "\n",
        "\n",
        "---\n",
        "\n",
        "\n",
        "The elements can also be deleted which results in a deletion of both the key:value pair or deleting the entire dictionary using del() method.\n",
        "\n",
        "\n",
        "---\n",
        "\n",
        "\n",
        "Iterating through a dictionary for processing the elements in it.\n"
      ],
      "metadata": {
        "id": "IBn7bviSpZZH"
      }
    },
    {
      "cell_type": "markdown",
      "source": [
        "**zip()** \n",
        "\n",
        "function in Python 3 returns an iterator of tuples, where the i-th tuple contains the i-th element from each of the argument sequences or iterables.\n",
        "\n",
        "The iterator stops when the shortest input iterable is exhausted.\n",
        "\n",
        "With a single iterable argument, it returns an iterator of 1-tuples.\n",
        "\n",
        "With no arguments, it returns an empty iterator."
      ],
      "metadata": {
        "id": "zMFs9HEApyTR"
      }
    },
    {
      "cell_type": "code",
      "source": [
        "list1 = [10, 20, 30] # take a list\n",
        "result = zip(list1) # iterate the list using zip()\n",
        "print(result) # print the result<zip object at 0x7ff536c7b1c8>\n",
        "myset = set(result) # convert the zip object into set using set()\n",
        "print(myset) # print set"
      ],
      "metadata": {
        "colab": {
          "base_uri": "https://localhost:8080/"
        },
        "id": "TarWdl1Bp-UO",
        "outputId": "2e032449-24bf-43d8-f045-2137371e726f"
      },
      "execution_count": null,
      "outputs": [
        {
          "output_type": "stream",
          "name": "stdout",
          "text": [
            "<zip object at 0x7f64d753c1e0>\n",
            "{(10,), (30,), (20,)}\n"
          ]
        }
      ]
    },
    {
      "cell_type": "code",
      "source": [
        "# Let's consider a single iterable argument, it returns an iterator of 1-tuples\n",
        "tuple1 = (1,) # tuple with single element\n",
        "result = zip(tuple1) # iterate the tuple using zip()\n",
        "mylist = list(result) # convert zip object into list using list()\n",
        "print(mylist) # print mylist"
      ],
      "metadata": {
        "colab": {
          "base_uri": "https://localhost:8080/"
        },
        "id": "u1Ucmeo5qDyG",
        "outputId": "e9ecb23c-c354-4965-b809-6d5cdf602d73"
      },
      "execution_count": null,
      "outputs": [
        {
          "output_type": "stream",
          "name": "stdout",
          "text": [
            "[(1,)]\n"
          ]
        }
      ]
    },
    {
      "cell_type": "code",
      "source": [
        "# Let's consider no arguments for iterables, it returns an empty iterator\n",
        "list1 = [] # creating a empty list\n",
        "result = zip(list1) # iterates the empty list using zip()\n",
        "print(result) # will print result as <zip object at 0x7ff536c7d7c8>\n",
        "mytuple = tuple(result)\n",
        "print(mytuple) # result as ()"
      ],
      "metadata": {
        "colab": {
          "base_uri": "https://localhost:8080/"
        },
        "id": "Uj6u0QssqT62",
        "outputId": "06812259-9f15-4d37-9b2e-5ff6aa9963fe"
      },
      "execution_count": null,
      "outputs": [
        {
          "output_type": "stream",
          "name": "stdout",
          "text": [
            "<zip object at 0x7f64d3abebe0>\n",
            "()\n"
          ]
        }
      ]
    },
    {
      "cell_type": "code",
      "source": [
        "# Let's consider an example to convert tuple into list:\n",
        "tuple1 = (10,20,30) # creating a tuple\n",
        "mylist = list(zip(tuple1)) # convert the tuple elements into list using zip() and list()\n",
        "print(mylist)"
      ],
      "metadata": {
        "id": "9BZuekmLqhOO",
        "colab": {
          "base_uri": "https://localhost:8080/"
        },
        "outputId": "dba2ca62-be79-471d-c081-d17bd2516a2c"
      },
      "execution_count": null,
      "outputs": [
        {
          "output_type": "stream",
          "name": "stdout",
          "text": [
            "[(10,), (20,), (30,)]\n"
          ]
        }
      ]
    },
    {
      "cell_type": "markdown",
      "source": [
        "Let's understand how to create a dictionary using zip() function.\n",
        "We need both keys and values for dictionaries.\n",
        "Here we take two lists, one is for keys of dictionary and second list for values of dictionary.\n",
        "Convert the given lists into dictionary using dict(zip(list1, list2))"
      ],
      "metadata": {
        "id": "UOHpOGPJqtOy"
      }
    },
    {
      "cell_type": "code",
      "source": [
        "data1=input(\"Enter elements  seperated by comma(,) for list1\")\n",
        "data2=input(\"Enter elements  seperated by comma(,) for list2\")\n",
        "list1=data1.split(\",\")\n",
        "list2=data2.split(\",\")\n",
        "mydict=dict(zip(list1,list2))\n",
        "print(\"List1\", list1)\n",
        "print(\"List2\", list2)\n",
        "print(\"Dictionary\", sorted(mydict.items()))"
      ],
      "metadata": {
        "colab": {
          "base_uri": "https://localhost:8080/"
        },
        "id": "HpFOj0K9qrp7",
        "outputId": "125b99ad-dd40-4491-fe5c-cb5b375df75b"
      },
      "execution_count": null,
      "outputs": [
        {
          "output_type": "stream",
          "name": "stdout",
          "text": [
            "Enter elements  seperated by comma(,) for list1A,B,C,D\n",
            "Enter elements  seperated by comma(,) for list21,2,3,4\n",
            "List1 ['A', 'B', 'C', 'D']\n",
            "List2 ['1', '2', '3', '4']\n",
            "Dictionary [('A', '1'), ('B', '2'), ('C', '3'), ('D', '4')]\n"
          ]
        }
      ]
    },
    {
      "cell_type": "markdown",
      "source": [
        "The index operator i.e., **[]** is used along with the key to access an element in the dictionary.\n"
      ],
      "metadata": {
        "id": "CrHWFtC3subm"
      }
    },
    {
      "cell_type": "code",
      "source": [
        "month = {'Jan':1, 'Feb':2, 'Mar':3, 'Apr':4, 'May':5, 'Jun':6}\n",
        "print(month)\n",
        "\n",
        "print(type(month))\n",
        "\n",
        "print(month['Apr'])\n"
      ],
      "metadata": {
        "colab": {
          "base_uri": "https://localhost:8080/"
        },
        "id": "-p9kLrb7s1tD",
        "outputId": "6a25d7ee-4618-48a4-e544-a9ed430c95f9"
      },
      "execution_count": null,
      "outputs": [
        {
          "output_type": "stream",
          "name": "stdout",
          "text": [
            "{'Jan': 1, 'Feb': 2, 'Mar': 3, 'Apr': 4, 'May': 5, 'Jun': 6}\n",
            "<class 'dict'>\n",
            "4\n"
          ]
        }
      ]
    },
    {
      "cell_type": "markdown",
      "source": [
        "The **get()**\n",
        "\n",
        "method returns None instead of a Key-Error, when the key is not found."
      ],
      "metadata": {
        "id": "9ieTHrcctC03"
      }
    },
    {
      "cell_type": "code",
      "source": [
        "print(month['July'])\n",
        "print(month['Jan'])"
      ],
      "metadata": {
        "colab": {
          "base_uri": "https://localhost:8080/",
          "height": 183
        },
        "id": "1lybINRetB3J",
        "outputId": "87d50a82-a75d-4fe3-af4f-137cc953bdf4"
      },
      "execution_count": null,
      "outputs": [
        {
          "output_type": "error",
          "ename": "KeyError",
          "evalue": "ignored",
          "traceback": [
            "\u001b[0;31m---------------------------------------------------------------------------\u001b[0m",
            "\u001b[0;31mKeyError\u001b[0m                                  Traceback (most recent call last)",
            "\u001b[0;32m<ipython-input-11-37ab70d83c5a>\u001b[0m in \u001b[0;36m<module>\u001b[0;34m\u001b[0m\n\u001b[0;32m----> 1\u001b[0;31m \u001b[0mprint\u001b[0m\u001b[0;34m(\u001b[0m\u001b[0mmonth\u001b[0m\u001b[0;34m[\u001b[0m\u001b[0;34m'July'\u001b[0m\u001b[0;34m]\u001b[0m\u001b[0;34m)\u001b[0m\u001b[0;34m\u001b[0m\u001b[0;34m\u001b[0m\u001b[0m\n\u001b[0m\u001b[1;32m      2\u001b[0m \u001b[0mprint\u001b[0m\u001b[0;34m(\u001b[0m\u001b[0mmonth\u001b[0m\u001b[0;34m[\u001b[0m\u001b[0;34m'Jan'\u001b[0m\u001b[0;34m]\u001b[0m\u001b[0;34m)\u001b[0m\u001b[0;34m\u001b[0m\u001b[0;34m\u001b[0m\u001b[0m\n",
            "\u001b[0;31mKeyError\u001b[0m: 'July'"
          ]
        }
      ]
    },
    {
      "cell_type": "code",
      "execution_count": null,
      "metadata": {
        "colab": {
          "base_uri": "https://localhost:8080/"
        },
        "id": "Z0XehD5RoOcU",
        "outputId": "d70f88f6-29f5-4894-a77e-a8d0b437ffb0"
      },
      "outputs": [
        {
          "output_type": "stream",
          "name": "stdout",
          "text": [
            "None\n",
            "1\n"
          ]
        }
      ],
      "source": [
        "print(month.get('july'))\n",
        "print(month.get('Jan'))"
      ]
    },
    {
      "cell_type": "code",
      "source": [
        "fruits = {1:'apple', 2:'orange', 3:'mango', 4:'grapes'}\n",
        "for indx in fruits:\n",
        "\tprint(fruits[indx], end = ' ')"
      ],
      "metadata": {
        "colab": {
          "base_uri": "https://localhost:8080/"
        },
        "id": "JyGzNbqrteWD",
        "outputId": "8b128e76-1a37-416e-bd55-354d29deabf1"
      },
      "execution_count": null,
      "outputs": [
        {
          "output_type": "stream",
          "name": "stdout",
          "text": [
            "apple orange mango grapes "
          ]
        }
      ]
    },
    {
      "cell_type": "markdown",
      "source": [
        "The **items()** \n",
        "\n",
        "method of Dictionary returns a list of (key,value) tuples for each of the key:value pairs of a dictionary.\n"
      ],
      "metadata": {
        "id": "2tz8Wwd_tl8C"
      }
    },
    {
      "cell_type": "code",
      "source": [
        "fruits = {1:'apple', 2:'orange', 3:'mango', 4:'grapes'}\n",
        "print(fruits.items()) # Prints the following output"
      ],
      "metadata": {
        "colab": {
          "base_uri": "https://localhost:8080/"
        },
        "id": "b9mtd5vxtqr5",
        "outputId": "bbbad094-7936-43bf-857f-ffcb0b59e2a6"
      },
      "execution_count": null,
      "outputs": [
        {
          "output_type": "stream",
          "name": "stdout",
          "text": [
            "dict_items([(1, 'apple'), (2, 'orange'), (3, 'mango'), (4, 'grapes')])\n"
          ]
        }
      ]
    },
    {
      "cell_type": "markdown",
      "source": [
        "**Deleting an element from a dictionary.**\n",
        "\n",
        "An element can be removed from the dictionary using the **pop()** method which takes a Key as argument and returns the value associated.\n",
        "\n",
        "If an invalid/non-existent key is provided with pop(), then a TypeError is shown.\n",
        "\n",
        "The **popitem()** method can be used to remove and return an arbitrary item (key, value) from the dictionary.\n",
        "All items can be removed from the dictionary using the **clear()** method.\n",
        "\n",
        "This in fact makes the dictionary empty and doesn't delete the variable associated.\n",
        "\n",
        "The associated variable reference can be reused.\n",
        "\n",
        "The **del** keyword is used to delete an item using index operator [] with key or delete the entire dictionary.\n",
        "\n",
        "Trying to reference the dictionary variable after it has been deleted results in a NameError."
      ],
      "metadata": {
        "id": "Pu63dAwwt4ky"
      }
    },
    {
      "cell_type": "code",
      "source": [
        "fruits = {1: 'apple', 2: 'orange', 3: 'mango', 4: 'grapes'}\n",
        "print(type(fruits))\n",
        "\n",
        "print(fruits.pop(4))\n",
        "\n",
        "print(fruits)\n",
        "\n",
        "print(fruits.popitem())\n",
        "\n",
        "print(fruits)\n",
        "\n"
      ],
      "metadata": {
        "colab": {
          "base_uri": "https://localhost:8080/"
        },
        "id": "DS1eAY2JuBvM",
        "outputId": "3330e726-5c32-43ad-bb4c-d92e4371a7b9"
      },
      "execution_count": null,
      "outputs": [
        {
          "output_type": "stream",
          "name": "stdout",
          "text": [
            "<class 'dict'>\n",
            "grapes\n",
            "{1: 'apple', 2: 'orange', 3: 'mango'}\n",
            "(3, 'mango')\n",
            "{1: 'apple', 2: 'orange'}\n"
          ]
        }
      ]
    },
    {
      "cell_type": "code",
      "source": [
        "fruits = {1: 'apple', 2: 'orange', 3: 'mango', 4: 'grapes'}\n",
        "del fruits[2]\n",
        "print(fruits)\n",
        "\n",
        "fruits.clear()\n",
        "print(fruits)\n",
        "\n"
      ],
      "metadata": {
        "colab": {
          "base_uri": "https://localhost:8080/"
        },
        "id": "GOW8Zxc2uThi",
        "outputId": "bd801b0b-3c46-48d8-9697-45991aa5536c"
      },
      "execution_count": null,
      "outputs": [
        {
          "output_type": "stream",
          "name": "stdout",
          "text": [
            "{1: 'apple', 3: 'mango', 4: 'grapes'}\n",
            "{}\n"
          ]
        }
      ]
    },
    {
      "cell_type": "code",
      "source": [
        "del fruits\n"
      ],
      "metadata": {
        "id": "02Z01MtXunUR"
      },
      "execution_count": null,
      "outputs": []
    },
    {
      "cell_type": "markdown",
      "source": [
        "A**s a Dictionary is mutable,**\n",
        "\n",
        "New elements can be added and an existing element can be changed using the assignment operator [ ].\n",
        "\n",
        "The Key is used with the assignment operator.\n",
        "\n",
        "If the key already exists in the dictionary, the associated value gets updated.\n",
        "\n",
        "or else a new key:value pair gets added to dictionary."
      ],
      "metadata": {
        "id": "c-_Q-9P0uwD4"
      }
    },
    {
      "cell_type": "code",
      "source": [
        "fruits = {1:'apple', 2:'orange', 3:'mango'}\n",
        "print(fruits)\n",
        "\n",
        "print(type(fruits))\n",
        "\n",
        "fruits[4] = 'grapes'\n",
        "print(fruits)\n",
        "\n",
        "fruits[2] = 'guava'\n",
        "print(fruits)\n"
      ],
      "metadata": {
        "colab": {
          "base_uri": "https://localhost:8080/"
        },
        "id": "thCZg_LJu13w",
        "outputId": "9c7fa9c8-8dab-40dc-e9c8-f333cac0a627"
      },
      "execution_count": null,
      "outputs": [
        {
          "output_type": "stream",
          "name": "stdout",
          "text": [
            "{1: 'apple', 2: 'orange', 3: 'mango'}\n",
            "<class 'dict'>\n",
            "{1: 'apple', 2: 'orange', 3: 'mango', 4: 'grapes'}\n",
            "{1: 'apple', 2: 'guava', 3: 'mango', 4: 'grapes'}\n"
          ]
        }
      ]
    },
    {
      "cell_type": "markdown",
      "source": [
        "# list of functions that can be applied to a dictionary:"
      ],
      "metadata": {
        "id": "gDqWRS6rvFgO"
      }
    },
    {
      "cell_type": "markdown",
      "source": [
        "\n",
        "**all()**\n",
        "\n",
        "Returns True if all the keys of the dictionary are true, else false if the dictionary is empty"
      ],
      "metadata": {
        "id": "FpujGla0vIge"
      }
    },
    {
      "cell_type": "code",
      "source": [
        "dict1 = {1:'alpha', 2:'beta', 3:'gamma', 4:'music'}\n",
        "print(all(dict1))\n",
        "\n",
        "dict2 = {1:'alpha', 2:'', '':'gamma',  4:'music'}\n",
        "print(all(dict2))\n"
      ],
      "metadata": {
        "colab": {
          "base_uri": "https://localhost:8080/"
        },
        "id": "RWN7xlTZgu-H",
        "outputId": "82e390f5-aceb-4355-ac94-d96158fd7427"
      },
      "execution_count": null,
      "outputs": [
        {
          "output_type": "stream",
          "name": "stdout",
          "text": [
            "True\n",
            "False\n"
          ]
        }
      ]
    },
    {
      "cell_type": "markdown",
      "source": [
        "**any()**\n",
        "\n",
        "Returns True if any key of the dictionary is True else False if the dictionary is empty."
      ],
      "metadata": {
        "id": "oZyML1bDhArQ"
      }
    },
    {
      "cell_type": "code",
      "source": [
        "dict2 = {1:'alpha', 2:'', '':'gamma', 4:'music'}\n",
        "print(any(dict2))"
      ],
      "metadata": {
        "colab": {
          "base_uri": "https://localhost:8080/"
        },
        "id": "St6hTgCthAB4",
        "outputId": "bd308c91-7a50-4b2d-cedf-93d2a149953f"
      },
      "execution_count": null,
      "outputs": [
        {
          "output_type": "stream",
          "name": "stdout",
          "text": [
            "True\n"
          ]
        }
      ]
    },
    {
      "cell_type": "markdown",
      "source": [
        "**len()**\n",
        "\n",
        "This function calculates the length i.e., the number of key: value pair elements in the dictionary"
      ],
      "metadata": {
        "id": "ny0WphJjhKgD"
      }
    },
    {
      "cell_type": "code",
      "source": [
        "dict1 =  {1:'alpha', 2:'beta', 3:'gamma', 4:'music'}\n",
        "print(len(dict1))"
      ],
      "metadata": {
        "colab": {
          "base_uri": "https://localhost:8080/"
        },
        "id": "5bJv851QhNQh",
        "outputId": "50e4ee14-4592-48c3-fd56-1604c231a485"
      },
      "execution_count": null,
      "outputs": [
        {
          "output_type": "stream",
          "name": "stdout",
          "text": [
            "4\n"
          ]
        }
      ]
    },
    {
      "cell_type": "markdown",
      "source": [
        "**sorted()**\n",
        "\n",
        "This function returns a new sorted list of keys in the dictionary."
      ],
      "metadata": {
        "id": "jlidEJJ3hRkx"
      }
    },
    {
      "cell_type": "code",
      "source": [
        "dict1 =  {2:'alpha', 3:'beta', 1:'gamma', 4:'music', 6:'video'}\n",
        "sortlist = sorted(dict1)\n",
        "print(sortlist)"
      ],
      "metadata": {
        "colab": {
          "base_uri": "https://localhost:8080/"
        },
        "id": "NO9QetephUP5",
        "outputId": "051e8111-1bfb-40e4-ff18-9761dfbfa975"
      },
      "execution_count": null,
      "outputs": [
        {
          "output_type": "stream",
          "name": "stdout",
          "text": [
            "[1, 2, 3, 4, 6]\n"
          ]
        }
      ]
    },
    {
      "cell_type": "markdown",
      "source": [
        "**clear()**"
      ],
      "metadata": {
        "id": "AmIW49xsiCdV"
      }
    },
    {
      "cell_type": "code",
      "source": [
        "# Removes all elements of a dictionary\n",
        "emp = {'Name': 'Anil', 'Age':26, 'Exp':5}\n",
        "print(len(emp))\n",
        "\n",
        "emp.clear()\n",
        "print(len(emp))\n",
        "print(emp)"
      ],
      "metadata": {
        "colab": {
          "base_uri": "https://localhost:8080/"
        },
        "id": "9acXJU2IiFl0",
        "outputId": "7b22c0e7-e642-4945-e30f-7ae32eb506e2"
      },
      "execution_count": null,
      "outputs": [
        {
          "output_type": "stream",
          "name": "stdout",
          "text": [
            "3\n",
            "0\n",
            "{}\n"
          ]
        }
      ]
    },
    {
      "cell_type": "markdown",
      "source": [
        "**copy()**"
      ],
      "metadata": {
        "id": "UO1pAgk1iXr8"
      }
    },
    {
      "cell_type": "code",
      "source": [
        "# Returns a shallow copy of dictionary\n",
        "fruits = {'apple':'red', 'orange':'orange', 'mango':'yellow'}\n",
        "dict2 = fruits.copy()\n",
        "print(dict2)"
      ],
      "metadata": {
        "colab": {
          "base_uri": "https://localhost:8080/"
        },
        "id": "qWEiW62vkMtz",
        "outputId": "f3f64f9a-802f-409f-b374-b41dee4ac3ed"
      },
      "execution_count": null,
      "outputs": [
        {
          "output_type": "stream",
          "name": "stdout",
          "text": [
            "{'apple': 'red', 'orange': 'orange', 'mango': 'yellow'}\n"
          ]
        }
      ]
    },
    {
      "cell_type": "markdown",
      "source": [
        "**get()**"
      ],
      "metadata": {
        "id": "D_bYhiFskTdy"
      }
    },
    {
      "cell_type": "code",
      "source": [
        "\n",
        "dict = {'cyan':1, 'violet':2, 'green':3}\n",
        "print(\"Value : %s \" % dict.get('violet'))\n",
        "\n",
        "\n",
        "print((\"Value: %s\"  %dict.get('red')))"
      ],
      "metadata": {
        "colab": {
          "base_uri": "https://localhost:8080/"
        },
        "id": "KegcyZopkWiQ",
        "outputId": "0da6d56b-77de-478b-b6be-cded126e53b2"
      },
      "execution_count": null,
      "outputs": [
        {
          "output_type": "stream",
          "name": "stdout",
          "text": [
            "Value : 2 \n",
            "Value: None\n"
          ]
        }
      ]
    },
    {
      "cell_type": "markdown",
      "source": [
        "**items()**"
      ],
      "metadata": {
        "id": "PBWoikVnkwEe"
      }
    },
    {
      "cell_type": "code",
      "source": [
        "# Return a list of (key,value) tuple pairs\n",
        "dict = {'cyan':1, 'violet':2, 'green':3}\n",
        "print(dict.items())"
      ],
      "metadata": {
        "colab": {
          "base_uri": "https://localhost:8080/"
        },
        "id": "x6QIuaAJkynm",
        "outputId": "42a97d99-d5ae-4a9d-e18a-cdd9316016c7"
      },
      "execution_count": null,
      "outputs": [
        {
          "output_type": "stream",
          "name": "stdout",
          "text": [
            "dict_items([('cyan', 1), ('violet', 2), ('green', 3)])\n"
          ]
        }
      ]
    },
    {
      "cell_type": "markdown",
      "source": [
        "**keys()**"
      ],
      "metadata": {
        "id": "Oa4HNlcGk6Wj"
      }
    },
    {
      "cell_type": "code",
      "source": [
        "# Return a list of dictionary's keys\n",
        "dict = {'cyan':1, 'violet':2, 'green':3}\n",
        "print(dict.keys())"
      ],
      "metadata": {
        "id": "4sIs_QeZk9eA",
        "colab": {
          "base_uri": "https://localhost:8080/"
        },
        "outputId": "a11c54fe-78ea-4e6f-f7e0-8d8c193b028b"
      },
      "execution_count": null,
      "outputs": [
        {
          "output_type": "stream",
          "name": "stdout",
          "text": [
            "dict_keys(['cyan', 'violet', 'green'])\n"
          ]
        }
      ]
    },
    {
      "cell_type": "markdown",
      "source": [
        "**setdefault(key, default = None)**\n",
        "returns the value of a key (if the key is in dictionary). Else, it inserts a key with the default value to the dictionary."
      ],
      "metadata": {
        "id": "usnLC7CglFjl"
      }
    },
    {
      "cell_type": "code",
      "source": [
        "# This method is similar to the method get().\n",
        "#It will set dict[key] = default, if key is not found\n",
        "dict1 = {'cyan':1, 'violet':2, 'green':3}\n",
        "\n",
        "\n",
        "dict1.setdefault('red', 20)\n",
        "\n",
        "dict1"
      ],
      "metadata": {
        "colab": {
          "base_uri": "https://localhost:8080/"
        },
        "id": "w1-T7jzolIiV",
        "outputId": "62460ad8-4d51-4178-ea74-058a9f1a8e5a"
      },
      "execution_count": null,
      "outputs": [
        {
          "output_type": "execute_result",
          "data": {
            "text/plain": [
              "{'cyan': 1, 'violet': 2, 'green': 3, 'red': 20}"
            ]
          },
          "metadata": {},
          "execution_count": 35
        }
      ]
    },
    {
      "cell_type": "code",
      "source": [
        "d = {'a': 97, 'b': 98, 'c': 99, 'd': 100}\n",
        "# space key added using setdefault() method\n",
        "d.setdefault(' ', 32)\n",
        "print(d)\n"
      ],
      "metadata": {
        "colab": {
          "base_uri": "https://localhost:8080/"
        },
        "id": "TMhxzFBtGnpv",
        "outputId": "67a15342-2605-4610-a78d-77a98b907ca3"
      },
      "execution_count": null,
      "outputs": [
        {
          "output_type": "stream",
          "name": "stdout",
          "text": [
            "{'a': 97, 'b': 98, 'c': 99, 'd': 100, ' ': 32}\n"
          ]
        }
      ]
    },
    {
      "cell_type": "markdown",
      "source": [
        "**update(dict2)**"
      ],
      "metadata": {
        "id": "fMFxbLkGlWM1"
      }
    },
    {
      "cell_type": "code",
      "source": [
        "# Appends dict2's key:value pairs to the calling dict\n",
        "dict1 = {'cyan':1, 'violet':2, 'green':3}\n",
        "dict2 = {'red':4, 'white':5}\n",
        "dict1.update(dict2)\n",
        "print(dict1)"
      ],
      "metadata": {
        "colab": {
          "base_uri": "https://localhost:8080/"
        },
        "id": "0eV67oz2lZcW",
        "outputId": "1c936265-6930-4660-9d55-120f719ed40b"
      },
      "execution_count": null,
      "outputs": [
        {
          "output_type": "stream",
          "name": "stdout",
          "text": [
            "{'cyan': 1, 'violet': 2, 'green': 3, 'red': 4, 'white': 5}\n"
          ]
        }
      ]
    },
    {
      "cell_type": "markdown",
      "source": [
        "**values()**"
      ],
      "metadata": {
        "id": "UjZE4Fe8liuQ"
      }
    },
    {
      "cell_type": "code",
      "source": [
        "# Returns a list of dictionary's values\n",
        "dict1 = {'cyan': 1, 'violet': 2, 'green': 3, 'red': 4}\n",
        "dict1.values()"
      ],
      "metadata": {
        "colab": {
          "base_uri": "https://localhost:8080/"
        },
        "id": "5N5h_tZXlmCv",
        "outputId": "597751bf-5c54-42b7-bfcf-6d640cb5c403"
      },
      "execution_count": null,
      "outputs": [
        {
          "output_type": "execute_result",
          "data": {
            "text/plain": [
              "dict_values([1, 2, 3, 4])"
            ]
          },
          "metadata": {},
          "execution_count": 37
        }
      ]
    },
    {
      "cell_type": "markdown",
      "source": [
        "**Turn Lists into Dictionaries:**"
      ],
      "metadata": {
        "id": "2plRZ-mWly9Y"
      }
    },
    {
      "cell_type": "markdown",
      "source": [
        "we will learn how a dictionary can be formed by using the lists that we created in the example .\n",
        "\n",
        "The method, zip() is used to combine two lists. The result of using this method is a list iterator.\n",
        "\n",
        "The list() casting function is used to create a list out of the zip result.\n",
        "\n",
        "This list contains 2-tuple elements, where the pair elements in the tuple represent the key and value.\n",
        "\n",
        "Finally the dict() constructor method is used to convert the zip list result into a dictionary."
      ],
      "metadata": {
        "id": "03-8eYvsl3lg"
      }
    },
    {
      "cell_type": "code",
      "source": [
        "dct = {'1':'apple', '2':'orange','3':'mango'}\n",
        "dct_view = dct.items()\n",
        "print(dct_view)\n",
        "print(type(dct_view))\n",
        "dct_view_list = list(dct_view)\n",
        "print(dct_view_list)\n",
        "type(dct_view_list)\n",
        "\n",
        "\n",
        "\n"
      ],
      "metadata": {
        "colab": {
          "base_uri": "https://localhost:8080/"
        },
        "id": "0tIOjSjVmTbS",
        "outputId": "01051c01-207e-4f11-a424-76fefdc176d8"
      },
      "execution_count": null,
      "outputs": [
        {
          "output_type": "stream",
          "name": "stdout",
          "text": [
            "dict_items([('1', 'apple'), ('2', 'orange'), ('3', 'mango')])\n",
            "<class 'dict_items'>\n",
            "[('1', 'apple'), ('2', 'orange'), ('3', 'mango')]\n"
          ]
        },
        {
          "output_type": "execute_result",
          "data": {
            "text/plain": [
              "list"
            ]
          },
          "metadata": {},
          "execution_count": 40
        }
      ]
    },
    {
      "cell_type": "code",
      "source": [
        "dct_keys = dct.keys()\n",
        "print(dct_keys)\n",
        "print(type(dct_keys))\n",
        "\n",
        "\n",
        "dct_values = dct.values()\n",
        "print(dct_values)\n",
        "\n",
        "dct_values_list = list(dct_values)\n",
        "print(dct_values_list)\n",
        "print(type(dct_values_list))\n",
        "\n",
        "\n",
        "type(dct_values)\n",
        "dct_keys_list = list(dct_keys)\n",
        "print(dct_keys)\n",
        "print(type(dct_keys_list))"
      ],
      "metadata": {
        "colab": {
          "base_uri": "https://localhost:8080/"
        },
        "id": "b-6bZ9a8H5Jp",
        "outputId": "70897e01-8ce3-4d11-e89e-365262daa0d3"
      },
      "execution_count": null,
      "outputs": [
        {
          "output_type": "stream",
          "name": "stdout",
          "text": [
            "dict_keys(['1', '2', '3'])\n",
            "<class 'dict_keys'>\n",
            "dict_values(['apple', 'orange', 'mango'])\n",
            "['apple', 'orange', 'mango']\n",
            "<class 'list'>\n",
            "dict_keys(['1', '2', '3'])\n",
            "<class 'list'>\n"
          ]
        }
      ]
    },
    {
      "cell_type": "code",
      "source": [
        "zip_result = zip(dct_keys_list, dct_values_list)\n",
        "print(zip_result)\n",
        "\n",
        "zip_result_list = list(zip_result)\n",
        "print(type(zip_result_list))\n",
        "\n",
        "print(zip_result_list)\n",
        "\n",
        "dict_from_zip_list = dict(zip_result_list)\n",
        "print(type(dict_from_zip_list))\n",
        "\n",
        "print(dict_from_zip_list)\n"
      ],
      "metadata": {
        "colab": {
          "base_uri": "https://localhost:8080/",
          "height": 287
        },
        "id": "Yii6oAz9mCkR",
        "outputId": "c2048dc1-da6d-4924-f371-9dbcabda185b"
      },
      "execution_count": null,
      "outputs": [
        {
          "output_type": "stream",
          "name": "stdout",
          "text": [
            "<zip object at 0x7f64d752ab90>\n",
            "<class 'list'>\n",
            "[('1', 'apple'), ('2', 'orange'), ('3', 'mango')]\n"
          ]
        },
        {
          "output_type": "error",
          "ename": "TypeError",
          "evalue": "ignored",
          "traceback": [
            "\u001b[0;31m---------------------------------------------------------------------------\u001b[0m",
            "\u001b[0;31mTypeError\u001b[0m                                 Traceback (most recent call last)",
            "\u001b[0;32m<ipython-input-44-0bdeea1ec615>\u001b[0m in \u001b[0;36m<module>\u001b[0;34m\u001b[0m\n\u001b[1;32m      7\u001b[0m \u001b[0mprint\u001b[0m\u001b[0;34m(\u001b[0m\u001b[0mzip_result_list\u001b[0m\u001b[0;34m)\u001b[0m\u001b[0;34m\u001b[0m\u001b[0;34m\u001b[0m\u001b[0m\n\u001b[1;32m      8\u001b[0m \u001b[0;34m\u001b[0m\u001b[0m\n\u001b[0;32m----> 9\u001b[0;31m \u001b[0mdict_from_zip_list\u001b[0m \u001b[0;34m=\u001b[0m \u001b[0mdict\u001b[0m\u001b[0;34m(\u001b[0m\u001b[0mzip_result_list\u001b[0m\u001b[0;34m)\u001b[0m\u001b[0;34m\u001b[0m\u001b[0;34m\u001b[0m\u001b[0m\n\u001b[0m\u001b[1;32m     10\u001b[0m \u001b[0mprint\u001b[0m\u001b[0;34m(\u001b[0m\u001b[0mtype\u001b[0m\u001b[0;34m(\u001b[0m\u001b[0mdict_from_zip_list\u001b[0m\u001b[0;34m)\u001b[0m\u001b[0;34m)\u001b[0m\u001b[0;34m\u001b[0m\u001b[0;34m\u001b[0m\u001b[0m\n\u001b[1;32m     11\u001b[0m \u001b[0;34m\u001b[0m\u001b[0m\n",
            "\u001b[0;31mTypeError\u001b[0m: 'dict' object is not callable"
          ]
        }
      ]
    },
    {
      "cell_type": "markdown",
      "source": [
        "Python provides methods to convert a Dictionary into lists and vice-versa.\n",
        "\n",
        "**Lists from Dictionaries:**\n",
        "It is possible to create lists from dictionaries by using the methods items(), keys() and values().\n",
        "The method keys() creates a list which solely consists of the keys of the dictionary.\n",
        "The method values() produces a list consisting values of the dictionary.\n",
        "The method items() is used to create a list of 2-tuple elements corresponding to each of the key:value pairs."
      ],
      "metadata": {
        "id": "g9C0Bo6Jnldx"
      }
    },
    {
      "cell_type": "code",
      "source": [
        "dct = {'1':'apple', '2':'orange', '3':'mango'}\n",
        "items_view = dct.items()\n",
        "print(type(items_view))\n",
        "\n",
        "print(items_view)\n"
      ],
      "metadata": {
        "colab": {
          "base_uri": "https://localhost:8080/"
        },
        "id": "OCBbGKSSno9p",
        "outputId": "1ad823ae-2d8f-4a05-ec49-f7ca9dbfb218"
      },
      "execution_count": null,
      "outputs": [
        {
          "output_type": "stream",
          "name": "stdout",
          "text": [
            "<class 'dict_items'>\n",
            "dict_items([('1', 'apple'), ('2', 'orange'), ('3', 'mango')])\n"
          ]
        }
      ]
    },
    {
      "cell_type": "code",
      "source": [
        "dct_keys = dct.keys()\n",
        "\n"
      ],
      "metadata": {
        "id": "RbhZDYjjnkQR"
      },
      "execution_count": null,
      "outputs": []
    },
    {
      "cell_type": "code",
      "source": [
        "print(dct_keys)\n"
      ],
      "metadata": {
        "colab": {
          "base_uri": "https://localhost:8080/"
        },
        "id": "oLR17XLXoXPM",
        "outputId": "22337321-7e41-4cc0-8885-3ce7220f888f"
      },
      "execution_count": null,
      "outputs": [
        {
          "output_type": "stream",
          "name": "stdout",
          "text": [
            "dict_keys(['1', '2', '3'])\n"
          ]
        }
      ]
    },
    {
      "cell_type": "code",
      "source": [
        "\n",
        "dct_values = dct.values()\n",
        "print(dct_values)"
      ],
      "metadata": {
        "colab": {
          "base_uri": "https://localhost:8080/"
        },
        "id": "vGIIydTsojV9",
        "outputId": "5034e587-e3c7-4c23-fa71-c3c917c5c6ac"
      },
      "execution_count": null,
      "outputs": [
        {
          "output_type": "stream",
          "name": "stdout",
          "text": [
            "dict_values(['apple', 'orange', 'mango'])\n"
          ]
        }
      ]
    },
    {
      "cell_type": "code",
      "source": [
        "dct_keys_list = list(dct_keys)\n",
        "print(type(dct_keys_list))\n",
        "\n",
        "dct_values_list = list(dct_values)\n",
        "print(type(dct_values_list))\n",
        "\n",
        "print(dct_keys)\n",
        "\n",
        "print(dct_values)"
      ],
      "metadata": {
        "colab": {
          "base_uri": "https://localhost:8080/"
        },
        "id": "PS-18mwYotY2",
        "outputId": "8e0ee290-9936-4956-a133-70f96d213cc7"
      },
      "execution_count": null,
      "outputs": [
        {
          "output_type": "stream",
          "name": "stdout",
          "text": [
            "<class 'list'>\n",
            "<class 'list'>\n",
            "dict_keys(['1', '2', '3'])\n",
            "dict_values(['apple', 'orange', 'mango'])\n"
          ]
        }
      ]
    },
    {
      "cell_type": "markdown",
      "source": [
        "# Dictionary Comprehension"
      ],
      "metadata": {
        "id": "eUEyru1V1P_q"
      }
    },
    {
      "cell_type": "markdown",
      "source": [
        "A Dictionary Comprehension is like a list comprehension, but it constructs a dictionary instead of a list.\n",
        "\n",
        "Dictionary Comprehensions are introduced in Python3.\n",
        "\n",
        "Dictionary Comprehensions return output in Dictionary format like (key : value) pairs and Keys should be unique and each key has a respective value.\n",
        "\n",
        "Syntax for Dictionary Comprehension:\n",
        "\n",
        "`{key : value for (key , value) in iterable}`\n",
        "\n",
        "\n",
        "\n",
        "\n"
      ],
      "metadata": {
        "id": "B46W7S8S1JRi"
      }
    },
    {
      "cell_type": "code",
      "source": [
        "list1 = [10, 20, 30]\n",
        "\n",
        "dict1 = {key : value for key, value in enumerate(list1)}\n",
        "\n",
        "print(dict1) # will print result as follows\n"
      ],
      "metadata": {
        "colab": {
          "base_uri": "https://localhost:8080/"
        },
        "id": "BAE3yRo11ZCR",
        "outputId": "6bd80a98-f19d-4841-eb50-f8d07f4aa990"
      },
      "execution_count": null,
      "outputs": [
        {
          "output_type": "stream",
          "name": "stdout",
          "text": [
            "{0: 10, 1: 20, 2: 30}\n"
          ]
        }
      ]
    },
    {
      "cell_type": "code",
      "source": [
        "dict2 = {i : i ** 2 for i in range(1, 11)}\n",
        "print(dict2) # will print result as follows"
      ],
      "metadata": {
        "colab": {
          "base_uri": "https://localhost:8080/"
        },
        "id": "sEHBDL1L1cq7",
        "outputId": "984275de-7263-4b3b-88d8-f49ccc1c6ef8"
      },
      "execution_count": null,
      "outputs": [
        {
          "output_type": "stream",
          "name": "stdout",
          "text": [
            "{1: 1, 2: 4, 3: 9, 4: 16, 5: 25, 6: 36, 7: 49, 8: 64, 9: 81, 10: 100}\n"
          ]
        }
      ]
    },
    {
      "cell_type": "code",
      "source": [
        "dict1 = {k:\"python\" for k in \"Jain Univrrsity\"}\n",
        "\n",
        "print(dict1) # will print result as follows"
      ],
      "metadata": {
        "colab": {
          "base_uri": "https://localhost:8080/"
        },
        "id": "wXZq21Fw1m_D",
        "outputId": "b1d7da98-4bf4-486f-fa89-78ead059570f"
      },
      "execution_count": null,
      "outputs": [
        {
          "output_type": "stream",
          "name": "stdout",
          "text": [
            "{'J': 'python', 'a': 'python', 'i': 'python', 'n': 'python', ' ': 'python', 'U': 'python', 'v': 'python', 'r': 'python', 's': 'python', 't': 'python', 'y': 'python'}\n"
          ]
        }
      ]
    },
    {
      "cell_type": "code",
      "source": [
        "dict2 = {i.lower() : i for i in \"PYTHON\"}\n",
        "\n",
        "print(dict2) # will print result as follows"
      ],
      "metadata": {
        "id": "mN903UsO1p-0",
        "outputId": "fa488ddc-fc23-41d3-c7bc-21cb378f437f",
        "colab": {
          "base_uri": "https://localhost:8080/"
        }
      },
      "execution_count": null,
      "outputs": [
        {
          "output_type": "stream",
          "name": "stdout",
          "text": [
            "{'p': 'P', 'y': 'Y', 't': 'T', 'h': 'H', 'o': 'O', 'n': 'N'}\n"
          ]
        }
      ]
    }
  ]
}