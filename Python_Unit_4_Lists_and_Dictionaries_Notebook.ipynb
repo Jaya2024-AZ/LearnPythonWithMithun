{
  "cells": [
    {
      "cell_type": "markdown",
      "metadata": {
        "id": "view-in-github",
        "colab_type": "text"
      },
      "source": [
        "<a href=\"https://colab.research.google.com/github/mithunkumarsr/LearnPythonWithMithun/blob/master/Python_Unit_4_Lists_and_Dictionaries_Notebook.ipynb\" target=\"_parent\"><img src=\"https://colab.research.google.com/assets/colab-badge.svg\" alt=\"Open In Colab\"/></a>"
      ]
    },
    {
      "cell_type": "markdown",
      "id": "9c4a58b6",
      "metadata": {
        "id": "9c4a58b6"
      },
      "source": [
        "# Python Programming - Unit 4: Lists and Dictionaries\n",
        "\n",
        "## 1. Introduction to Data Structures\n",
        "\n",
        "Data structures are ways to organize and store data for efficient access and modification.\n",
        "Common Data Structures: Lists, Tuples, Dictionaries, Sets.\n",
        "Importance: Vital for solving complex programming problems.\n"
      ]
    },
    {
      "cell_type": "markdown",
      "id": "71350b0d",
      "metadata": {
        "id": "71350b0d"
      },
      "source": [
        "## 2. The List Data Type\n",
        "A list is a mutable, ordered collection of items.\n",
        "\n",
        "\n",
        "**List is a data type of Python and is used to store sequence of items.**\n",
        "\n",
        "The items of a list need not be of the same data type.\n",
        "\n",
        "Lists are ordered sequence of items.\n",
        "\n",
        "\n",
        "Let us consider an example:\n",
        "L1 = [56, 78.94, \"India\"]\n",
        "In the above example, L1 is a list, which contains 3 elements. The first element is 56 (integer), the second is 78.94 (float), third is \"India\" (string).\n",
        "\n",
        "\n",
        "\n",
        "\n",
        "Lists are ordered, we can retrieve the elements of a List using \"index\".\n",
        "\n",
        "A List in general is a collection of objects. A List in Python is an ordered group of items or elements.\n",
        "List can be arbitrary mixture of types like numbers, strings and other lists as well.\n",
        "\n"
      ]
    },
    {
      "cell_type": "code",
      "execution_count": null,
      "id": "0bfe0c37",
      "metadata": {
        "id": "0bfe0c37"
      },
      "outputs": [],
      "source": [
        "my_list = [1, 2, 3, 4]\n",
        "print('Initial list:', my_list)"
      ]
    },
    {
      "cell_type": "markdown",
      "source": [
        "The main properties of Lists are :\n",
        "\n",
        "\n",
        "\n",
        "1.   Elements in a list are ordered\n",
        "2.   They can contain objects of different types\n",
        "\n",
        "1.   Elements of a list can be accessed using an index similar to accessing an element in an array\n",
        "\n",
        "1.  A List can contain other lists as their elements\n",
        "2.   They are of variable size i.e they can grow or shrink as required\n",
        "\n",
        "2.  They are mutable which means the elements in the list can be changed/modified\n",
        "\n",
        "\n",
        "\n",
        "\n",
        "\n",
        "\n",
        "\n",
        "\n",
        "\n",
        "\n",
        "\n",
        "\n",
        "\n",
        "\n"
      ],
      "metadata": {
        "id": "J1Wm7c7hBIak"
      },
      "id": "J1Wm7c7hBIak"
    },
    {
      "cell_type": "markdown",
      "source": [
        "We can declare a List using [] (square brackets).\n",
        "\n",
        "A list contains items separated by commas(,)\n",
        "\n",
        "We can create a list in two different ways.\n",
        "\n",
        "\n",
        "1.   One is using list() predefined method:\n",
        "\n",
        "\n",
        "list1 = list(sequence)\n",
        "\n",
        "print(type(list1))\n",
        "\n",
        "<class 'list>\n",
        "\n",
        "\n",
        "\n",
        "\n",
        "\n"
      ],
      "metadata": {
        "id": "Mxu2TahmBNiM"
      },
      "id": "Mxu2TahmBNiM"
    },
    {
      "cell_type": "markdown",
      "id": "47d5d249",
      "metadata": {
        "id": "47d5d249"
      },
      "source": [
        "## 3. Working with Lists\n",
        "Accessing elements, slicing, and modifying lists."
      ]
    },
    {
      "cell_type": "markdown",
      "source": [
        "![image.png](data:image/png;base64,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)"
      ],
      "metadata": {
        "id": "AO9efgxkBvqC"
      },
      "id": "AO9efgxkBvqC"
    },
    {
      "cell_type": "markdown",
      "source": [
        "Access the item at position 0\n",
        "\n",
        "Access the item at position 8\n",
        "\n",
        "Access the last item using negative indexing"
      ],
      "metadata": {
        "id": "IMMO34ybB6JR"
      },
      "id": "IMMO34ybB6JR"
    },
    {
      "cell_type": "code",
      "source": [
        "a = [2 ,3, 4, 5, 6, 7, 8, 9, 10]\n",
        "print(a[0])\n",
        "\n",
        "print(a[8])\n",
        "\n",
        "print(a[-?])"
      ],
      "metadata": {
        "id": "vLxeetzMBezL"
      },
      "id": "vLxeetzMBezL",
      "execution_count": null,
      "outputs": []
    },
    {
      "cell_type": "code",
      "execution_count": null,
      "id": "d8bd63cf",
      "metadata": {
        "id": "d8bd63cf"
      },
      "outputs": [],
      "source": [
        "print('First element:', my_list[0])\n",
        "print('Sliced list (1:3):', my_list[1:3])\n",
        "my_list[0] = 10\n",
        "print('Modified list:', my_list)\n",
        "my_list.append(5)\n",
        "print('List after appending 5:', my_list)\n",
        "my_list.pop()\n",
        "print('List after popping the last element:', my_list)"
      ]
    },
    {
      "cell_type": "markdown",
      "source": [
        "**Create a List**                                                                                                                                         Create a comma separated list of elements and assign to variable \"a\" and run the for loop to print it."
      ],
      "metadata": {
        "id": "ne_E__H3BaOR"
      },
      "id": "ne_E__H3BaOR"
    },
    {
      "cell_type": "code",
      "source": [
        "Access the item at position 0\n",
        "\n",
        "Access the item at position 8\n",
        "\n",
        "Access the last item using negative indexing"
      ],
      "metadata": {
        "id": "XH5QnYQFB5VN"
      },
      "id": "XH5QnYQFB5VN",
      "execution_count": null,
      "outputs": []
    },
    {
      "cell_type": "markdown",
      "id": "bbede736",
      "metadata": {
        "id": "bbede736"
      },
      "source": [
        "**Exercise 1: Introduction to Lists and Working with Them**\n",
        "Task: Create a Python list that holds the names of five different fruits.\n",
        "Print the list.\n",
        "Print the second and fourth fruit in the list.\n",
        "Add a new fruit to the end of the list and print the updated list.\n",
        "Remove the third fruit from the list and print the updated list."
      ]
    },
    {
      "cell_type": "code",
      "source": [
        "# Exercise 1: Introduction to Lists and Working with Them\n",
        "\n",
        "# 1. Create a list of five different fruits and print it\n",
        "fruits = [\"Apple\", \"Banana\", \"Cherry\", \"Mango\", \"Orange\"]\n",
        "print(\"Original list:\", fruits)\n",
        "\n",
        "# 2. Print the second and fourth fruits in the list\n",
        "# Complete the following lines\n",
        "# print(fruits[?])\n",
        "# print(fruits[?])\n",
        "\n",
        "# 3. Add a new fruit to the end of the list and print the updated list\n",
        "# Use the append() method\n",
        "# fruits.append(?)\n",
        "# print(fruits)\n",
        "\n",
        "# 4. Remove the third fruit from the list and print the updated list\n",
        "# Use the del keyword\n",
        "# del fruits[?]\n",
        "# print(fruits)\n"
      ],
      "metadata": {
        "id": "MDOptpZf_El6"
      },
      "id": "MDOptpZf_El6",
      "execution_count": null,
      "outputs": []
    },
    {
      "cell_type": "markdown",
      "source": [
        "Slicing:\n",
        "![image.png](data:image/png;base64,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)"
      ],
      "metadata": {
        "id": "K1efJuc5COPP"
      },
      "id": "K1efJuc5COPP"
    },
    {
      "cell_type": "markdown",
      "id": "f785f0e2",
      "metadata": {
        "id": "f785f0e2"
      },
      "source": [
        "## 4. Augmented Assignment Operators\n",
        "Using `+=` to modify lists."
      ]
    },
    {
      "cell_type": "code",
      "execution_count": null,
      "id": "de751f2b",
      "metadata": {
        "id": "de751f2b"
      },
      "outputs": [],
      "source": [
        "my_list += [6, 7]\n",
        "print('List after += [6, 7]:', my_list)"
      ]
    },
    {
      "cell_type": "markdown",
      "source": [
        "**Exercise 2: Augmented Assignment Operators**\n",
        "Task: Use augmented assignment operators to manipulate a number and a list.\n",
        "Start with a number x = 10 and use augmented assignment operators to double it, then subtract 5.\n",
        "For a list of numbers [1, 2, 3], use an augmented assignment operator to extend it by adding [4, 5, 6] to the list."
      ],
      "metadata": {
        "id": "0x-farZl-_PI"
      },
      "id": "0x-farZl-_PI"
    },
    {
      "cell_type": "code",
      "source": [
        "# Exercise 2: Augmented Assignment Operators\n",
        "\n",
        "# Start with a number x = 10\n",
        "x = 10\n",
        "\n",
        "# Use augmented assignment to double it, then subtract 5\n",
        "x *= 2  # Double the value\n",
        "x -= 5  # Subtract 5\n",
        "print(\"Updated number x:\", x)\n",
        "\n",
        "# Extend the list using augmented assignment\n",
        "numbers = [1, 2, 3]\n",
        "# Use the += operator to add [4, 5, 6] to the list\n",
        "# numbers += [?]\n",
        "# print(numbers)\n"
      ],
      "metadata": {
        "id": "nCrW3LgR-_jj"
      },
      "id": "nCrW3LgR-_jj",
      "execution_count": null,
      "outputs": []
    },
    {
      "cell_type": "markdown",
      "id": "e4a5d1e5",
      "metadata": {
        "id": "e4a5d1e5"
      },
      "source": [
        "## 5. List Methods\n",
        "Using common methods such as `append`, `extend`, `insert`, `remove`, etc."
      ]
    },
    {
      "cell_type": "code",
      "execution_count": null,
      "id": "3335d6e8",
      "metadata": {
        "id": "3335d6e8"
      },
      "outputs": [],
      "source": [
        "my_list.append(8)\n",
        "print('List after appending 8:', my_list)\n",
        "my_list.extend([9, 10])\n",
        "print('List after extending:', my_list)\n",
        "my_list.insert(0, 0)\n",
        "print('List after inserting 0 at index 0:', my_list)"
      ]
    },
    {
      "cell_type": "markdown",
      "id": "0a27b4d8",
      "metadata": {
        "id": "0a27b4d8"
      },
      "source": [
        "## 6. Example: Magic 8 Ball with a List\n",
        "A fun example using lists and random selection."
      ]
    },
    {
      "cell_type": "code",
      "execution_count": null,
      "id": "ed672d3d",
      "metadata": {
        "id": "ed672d3d"
      },
      "outputs": [],
      "source": [
        "import random\n",
        "responses = ['Yes', 'No', 'Ask again later', 'Definitely', 'Not sure']\n",
        "print('Magic 8 Ball says:', random.choice(responses))"
      ]
    },
    {
      "cell_type": "markdown",
      "source": [
        "**Exercise 3: Magic 8 Ball Using a List**\n",
        "Task: Create a Magic 8 Ball program.\n",
        "Store 8 possible responses in a list.\n",
        "Use random.choice() to pick a random response when the user asks a question"
      ],
      "metadata": {
        "id": "vFI35qjF_aXj"
      },
      "id": "vFI35qjF_aXj"
    },
    {
      "cell_type": "code",
      "source": [
        "# Exercise 3: Magic 8 Ball Using a List\n",
        "\n",
        "import random\n",
        "\n",
        "# Create a list of 8 possible responses\n",
        "responses = [\"Yes\", \"No\", \"Ask again later\", \"Definitely\",\n",
        "             \"I don't think so\", \"Absolutely\", \"Maybe\", \"Try again\"]\n",
        "\n",
        "# Ask the user a question and print a random response\n",
        "# question = input(\"Ask the Magic 8 Ball a question: \")\n",
        "# print(\"Magic 8 Ball says:\", random.choice(responses))\n"
      ],
      "metadata": {
        "id": "lTMDaFUsAicu"
      },
      "id": "lTMDaFUsAicu",
      "execution_count": null,
      "outputs": []
    },
    {
      "cell_type": "markdown",
      "id": "fad0467d",
      "metadata": {
        "id": "fad0467d"
      },
      "source": [
        "## 7. List-like Types: Strings and Tuples\n",
        "Strings and Tuples are immutable."
      ]
    },
    {
      "cell_type": "code",
      "execution_count": null,
      "id": "a9726b79",
      "metadata": {
        "id": "a9726b79"
      },
      "outputs": [],
      "source": [
        "my_string = 'Hello, world!'\n",
        "print('First character of the string:', my_string[0])\n",
        "my_tuple = (1, 2, 3)\n",
        "print('Tuple:', my_tuple)"
      ]
    },
    {
      "cell_type": "code",
      "source": [
        "# Exercise 4: List-like Types (Strings and Tuples)\n",
        "\n",
        "# Demonstrate how strings and tuples work similarly to lists\n",
        "my_string = \"Hello\"\n",
        "my_tuple = (10, 20, 30, 40, 50)\n",
        "\n",
        "# Print the second character in the string and the last two elements in the tuple\n",
        "# print(my_string[?])\n",
        "# print(my_tuple[?])\n"
      ],
      "metadata": {
        "id": "GUHXvdkYAmX2"
      },
      "id": "GUHXvdkYAmX2",
      "execution_count": null,
      "outputs": []
    },
    {
      "cell_type": "markdown",
      "id": "ec31df8f",
      "metadata": {
        "id": "ec31df8f"
      },
      "source": [
        "## 8. References in Python\n",
        "Explaining how variables reference objects in Python."
      ]
    },
    {
      "cell_type": "code",
      "execution_count": null,
      "id": "71a21058",
      "metadata": {
        "id": "71a21058"
      },
      "outputs": [],
      "source": [
        "a = [1, 2, 3]\n",
        "b = a\n",
        "b[0] = 10\n",
        "print('List a after modifying b:', a)"
      ]
    },
    {
      "cell_type": "code",
      "source": [
        "# Exercise 5: References and List Copying\n",
        "\n",
        "# Create a list and assign it to a new variable\n",
        "original_list = [1, 2, 3]\n",
        "copied_list = original_list  # Reference copy\n",
        "\n",
        "# Modify the original list and print both lists\n",
        "original_list[0] = 100\n",
        "print(\"Original list after modification:\", original_list)\n",
        "print(\"Copied list after original list is modified:\", copied_list)  # Both are changed\n",
        "\n",
        "# Create a true copy of the list and show the difference\n",
        "# copied_list_true = original_list.copy()\n",
        "# original_list[1] = 200\n",
        "# print(\"Original list after second modification:\", original_list)\n",
        "# print(\"True copied list:\", copied_list_true)\n"
      ],
      "metadata": {
        "id": "1x08KRG0ApOK"
      },
      "id": "1x08KRG0ApOK",
      "execution_count": null,
      "outputs": []
    },
    {
      "cell_type": "markdown",
      "id": "e361f133",
      "metadata": {
        "id": "e361f133"
      },
      "source": [
        "## 9. Dictionaries and Structuring Data\n",
        "A dictionary is a collection of key-value pairs."
      ]
    },
    {
      "cell_type": "code",
      "execution_count": null,
      "id": "a6985b74",
      "metadata": {
        "id": "a6985b74"
      },
      "outputs": [],
      "source": [
        "my_dict = {'name': 'Alice', 'age': 25}\n",
        "print(\"Accessing 'name':\", my_dict['name'])\n",
        "my_dict['age'] = 26\n",
        "print('Modified dictionary:', my_dict)\n",
        "my_dict['city'] = 'New York'\n",
        "print('Dictionary after adding city:', my_dict)"
      ]
    },
    {
      "cell_type": "code",
      "source": [
        "# Exercise 6: Dictionaries and Structuring Data\n",
        "\n",
        "# Create a dictionary to store student information\n",
        "student = {\n",
        "    \"name\": \"John Doe\",\n",
        "    \"age\": 20,\n",
        "    \"subjects\": [\"Math\", \"Physics\", \"Computer Science\"]\n",
        "}\n",
        "\n",
        "print(\"Student details:\", student)\n",
        "\n",
        "# Add a new subject and print the updated dictionary\n",
        "# student[\"subjects\"].append(?)\n",
        "# print(student)\n"
      ],
      "metadata": {
        "id": "Qu7JQEfwArp2"
      },
      "id": "Qu7JQEfwArp2",
      "execution_count": null,
      "outputs": []
    },
    {
      "cell_type": "markdown",
      "id": "9523c942",
      "metadata": {
        "id": "9523c942"
      },
      "source": [
        "## 10. The Dictionary Data Type\n",
        "Using `keys()`, `values()`, and `items()` methods."
      ]
    },
    {
      "cell_type": "code",
      "execution_count": null,
      "id": "bc6eb02b",
      "metadata": {
        "id": "bc6eb02b"
      },
      "outputs": [],
      "source": [
        "print('Keys:', my_dict.keys())\n",
        "print('Values:', my_dict.values())\n",
        "print('Items:', my_dict.items())\n",
        "print(\"Get 'name':\", my_dict.get('name'))"
      ]
    },
    {
      "cell_type": "markdown",
      "id": "3c775d08",
      "metadata": {
        "id": "3c775d08"
      },
      "source": [
        "## 11. Pretty Printing\n",
        "Use `pprint` for better readability when printing complex data."
      ]
    },
    {
      "cell_type": "code",
      "execution_count": null,
      "id": "0d4d5c01",
      "metadata": {
        "id": "0d4d5c01"
      },
      "outputs": [],
      "source": [
        "import pprint\n",
        "pprint.pprint(my_dict)"
      ]
    },
    {
      "cell_type": "code",
      "source": [
        "# Exercise 7: Pretty Printing\n",
        "\n",
        "from pprint import pprint\n",
        "\n",
        "# Create a nested dictionary of students\n",
        "data = {\n",
        "    \"students\": [\n",
        "        {\"name\": \"Alice\", \"age\": 21, \"grades\": [85, 90, 88]},\n",
        "        {\"name\": \"Bob\", \"age\": 22, \"grades\": [78, 81, 89]},\n",
        "        {\"name\": \"Charlie\", \"age\": 23, \"grades\": [95, 85, 92]}\n",
        "    ]\n",
        "}\n",
        "\n",
        "# Use pprint to display the nested dictionary in a readable format\n",
        "pprint(data)\n"
      ],
      "metadata": {
        "id": "oCp30LehAvBu"
      },
      "id": "oCp30LehAvBu",
      "execution_count": null,
      "outputs": []
    },
    {
      "cell_type": "markdown",
      "id": "0cdfbdd6",
      "metadata": {
        "id": "0cdfbdd6"
      },
      "source": [
        "## 12. Modeling Real-World Data with Lists and Dictionaries\n",
        "Example: Student records."
      ]
    },
    {
      "cell_type": "code",
      "execution_count": null,
      "id": "93c4f2ce",
      "metadata": {
        "id": "93c4f2ce"
      },
      "outputs": [],
      "source": [
        "students = [\n",
        "    {'name': 'Alice', 'age': 25, 'grades': [90, 85, 88]},\n",
        "    {'name': 'Bob', 'age': 23, 'grades': [75, 80, 79]}\n",
        "]\n",
        "pprint.pprint(students)"
      ]
    },
    {
      "cell_type": "code",
      "source": [
        "# Exercise 8: Using Data Structures to Model Real-World Things\n",
        "\n",
        "# Create a dictionary to represent a book in a library\n",
        "book = {\n",
        "    \"title\": \"1984\",\n",
        "    \"author\": \"George Orwell\",\n",
        "    \"year_published\": 1949,\n",
        "    \"is_available\": True\n",
        "}\n",
        "\n",
        "print(\"Book details:\", book)\n",
        "\n",
        "# Borrow the book and update its availability\n",
        "# book[\"is_available\"] = False\n",
        "# print(book)\n"
      ],
      "metadata": {
        "id": "-_AwPJ35A1El"
      },
      "id": "-_AwPJ35A1El",
      "execution_count": null,
      "outputs": []
    },
    {
      "cell_type": "markdown",
      "source": [
        "More Exercises"
      ],
      "metadata": {
        "id": "jMMD1WFxDFq3"
      },
      "id": "jMMD1WFxDFq3"
    },
    {
      "cell_type": "code",
      "source": [
        "# 9 Using a for loop to create a list of squares\n",
        "squares = []\n",
        "for i in range(1, 11):\n",
        "    squares.append(i ** 2)\n",
        "\n",
        "print(\"Squares using for loop:\", squares)\n",
        "\n",
        "# Now refactor this using list comprehension\n",
        "# squares = [i**2 for i in range(?)]\n",
        "# print(\"Squares using list comprehension:\", squares)\n"
      ],
      "metadata": {
        "id": "G_OyTVqgC7GO"
      },
      "id": "G_OyTVqgC7GO",
      "execution_count": null,
      "outputs": []
    },
    {
      "cell_type": "code",
      "source": [
        "# 10 Creating a 3x3 matrix\n",
        "matrix = [\n",
        "    [1, 2, 3],\n",
        "    [4, 5, 6],\n",
        "    [7, 8, 9]\n",
        "]\n",
        "\n",
        "# Accessing the element in the second row, third column\n",
        "# element = matrix[?][?]\n",
        "# print(\"Element in second row, third column:\", element)\n",
        "\n",
        "# Print each row of the matrix\n",
        "for row in matrix:\n",
        "    print(row)\n"
      ],
      "metadata": {
        "id": "1f7vWn2gDI5L"
      },
      "id": "1f7vWn2gDI5L",
      "execution_count": null,
      "outputs": []
    },
    {
      "cell_type": "code",
      "source": [
        "# 11 Dictionary comprehension to create number: square pairs\n",
        "# squares_dict = {num: num**2 for num in range(1, ?)}\n",
        "# print(\"Dictionary of squares:\", squares_dict)\n"
      ],
      "metadata": {
        "id": "FHFi_xVbDQVJ"
      },
      "id": "FHFi_xVbDQVJ",
      "execution_count": null,
      "outputs": []
    },
    {
      "cell_type": "code",
      "source": [
        "dict1 = {\"a\": 1, \"b\": 2}\n",
        "dict2 = {\"c\": 3, \"d\": 4}\n",
        "\n",
        "# Merging the dictionaries\n",
        "merged_dict = dict1.copy()\n",
        "merged_dict.update(dict2)\n",
        "print(\"Merged dictionary:\", merged_dict)\n",
        "\n",
        "# Add a new entry and update an existing entry\n",
        "# merged_dict[\"e\"] = ?\n",
        "# merged_dict[\"a\"] = ?\n",
        "# print(\"Updated dictionary:\", merged_dict)\n"
      ],
      "metadata": {
        "id": "h1PpKuyvDdJf"
      },
      "id": "h1PpKuyvDdJf",
      "execution_count": null,
      "outputs": []
    },
    {
      "cell_type": "code",
      "source": [
        "#13 List of dictionaries\n",
        "students = [\n",
        "    {\"name\": \"Alice\", \"age\": 21, \"grades\": [85, 90, 88]},\n",
        "    {\"name\": \"Bob\", \"age\": 22, \"grades\": [78, 81, 89]}\n",
        "]\n",
        "\n",
        "# Adding a new student\n",
        "# new_student = {\"name\": \"Charlie\", \"age\": 23, \"grades\": [95, 85, 92]}\n",
        "# students.append(new_student)\n",
        "\n",
        "# Print each student's name and average grade\n",
        "for student in students:\n",
        "    name = student[\"name\"]\n",
        "    grades = student[\"grades\"]\n",
        "    avg_grade = sum(grades) / len(grades)\n",
        "    print(f\"{name}'s average grade: {avg_grade}\")\n"
      ],
      "metadata": {
        "id": "ZmL3qc2lDhhd"
      },
      "id": "ZmL3qc2lDhhd",
      "execution_count": null,
      "outputs": []
    },
    {
      "cell_type": "code",
      "source": [
        "# Exercise 14: Multi-Dimensional Dictionaries\n",
        "\n",
        "phonebook = {\n",
        "    \"John Doe\": {\"phone\": \"123-456-7890\", \"address\": \"123 Elm St\"},\n",
        "    \"Jane Smith\": {\"phone\": \"987-654-3210\", \"address\": \"456 Oak St\"}\n",
        "}\n",
        "\n",
        "# Adding a new contact\n",
        "# phonebook[\"Alice Johnson\"] = {\"phone\": ?, \"address\": ?}\n",
        "\n",
        "# Print the phone number of John Doe\n",
        "# print(\"John Doe's phone number:\", phonebook[\"John Doe\"][\"phone\"])\n"
      ],
      "metadata": {
        "id": "Re-_4Af6DoTp"
      },
      "id": "Re-_4Af6DoTp",
      "execution_count": null,
      "outputs": []
    },
    {
      "cell_type": "code",
      "source": [
        "#Exercise 15: Using zip with Lists and Dictionaries\n",
        "\n",
        "names = [\"Alice\", \"Bob\", \"Charlie\"]\n",
        "ages = [21, 22, 23]\n",
        "\n",
        "# Combine the lists into a dictionary using zip\n",
        "# students_dict = dict(zip(?, ?))\n",
        "# print(students_dict)\n"
      ],
      "metadata": {
        "id": "PpWto8e_DvAX"
      },
      "id": "PpWto8e_DvAX",
      "execution_count": null,
      "outputs": []
    }
  ],
  "metadata": {
    "language_info": {
      "name": "python"
    },
    "colab": {
      "provenance": [],
      "include_colab_link": true
    }
  },
  "nbformat": 4,
  "nbformat_minor": 5
}